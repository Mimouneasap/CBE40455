{
 "cells": [
  {
   "cell_type": "markdown",
   "metadata": {},
   "source": [
    "##### The latest version of this Jupyter notebook is available at [http://github.com/jckantor/CBE40455](http://github.com/jckantor/CBE20255)  for noncommercial use under terms of the [Creative Commons Attribution Noncommericial ShareAlike License](http://creativecommons.org/licenses/by-nc-sa/4.0/).\n",
    "\n",
    "J.C. Kantor (Kantor.1@nd.edu)"
   ]
  },
  {
   "cell_type": "markdown",
   "metadata": {},
   "source": [
    "# Machine Bottleneck"
   ]
  },
  {
   "cell_type": "markdown",
   "metadata": {},
   "source": [
    "This notebook demonstrates the formulation and solution of the a machine bottleneck problem using GLPK/Mathprog. The task is to schedule a set of jobs on a single machine given the release time, duration, and due time for each job. Date for the example problem is from Christelle Gueret, Christian Prins, Marc Sevaux, \"Applications of Optimization with Xpress-MP,\" Chapter 5, Dash Optimization, 2000.\n",
    "\n",
    "* [MathProg Model](#MathProg-Model)\n",
    "* [Example](#Example)\n",
    "* [Visualization](#Visualization)\n",
    "* [Solution using Gurobi](#Gurobi)"
   ]
  },
  {
   "cell_type": "markdown",
   "metadata": {},
   "source": [
    "## MathProg Model"
   ]
  },
  {
   "cell_type": "markdown",
   "metadata": {},
   "source": [
    "The model uses a 'Big M' implementation of disjunctive constraints to avoid conflicts for a single machine.  Big M should be larger than the longest time horizon for the completion of all jobs. A bound on the longest horizon is the maximum release plus the sum of durations for all jobs."
   ]
  },
  {
   "cell_type": "code",
   "execution_count": 1,
   "metadata": {},
   "outputs": [
    {
     "name": "stdout",
     "output_type": "stream",
     "text": [
      "Overwriting Bottleneck.mod\n"
     ]
    }
   ],
   "source": [
    "%%writefile Bottleneck.mod\n",
    "\n",
    "/* Machine Bottleneck Example */\n",
    "\n",
    "set JOBS;\n",
    "\n",
    "param rel{JOBS} default 0;   # Time a job is available to the machine\n",
    "param dur{JOBS};             # Job duration\n",
    "param due{JOBS};             # Job due time\n",
    "\n",
    "/* Data Checks */\n",
    "check {k in JOBS}: rel[k] + dur[k] <= due[k];\n",
    "\n",
    "/* The model uses a 'Big M' implementation of disjunctive constraints\n",
    "to avoid conflicts for a single machine.  Big M should be larger than\n",
    "the longest time horizon for the completion of all jobs. A bound\n",
    "on the longest horizon is the maximum release plus the sum of\n",
    "durations for all jobs. */\n",
    "\n",
    "param BigM := (max {k in JOBS} rel[k] ) + sum{k in JOBS} dur[k];\n",
    "\n",
    "/* Decision variables are the start times for each job, and a\n",
    "disjunctive variable y[j,k] which is 1 if job j precedes job k on\n",
    "the machine. */\n",
    "\n",
    "var start{JOBS} >= 0;\n",
    "var pastdue{JOBS} >= 0;\n",
    "var y{JOBS,JOBS} binary;\n",
    "\n",
    "/* There are many possible objectives, including total pastdue, maximum\n",
    "pastdue (i.e., tardiness), number of jobs pastdue.  */\n",
    "\n",
    "minimize OBJ : sum {k in JOBS} pastdue[k];\n",
    "\n",
    "/* Order Constraints */\n",
    "\n",
    "s.t. START {k in JOBS}: start[k] >= rel[k];\n",
    "s.t. FINIS {k in JOBS}: start[k] + dur[k] <= due[k] + pastdue[k];\n",
    "\n",
    "/* Machine Conflict Constraints */\n",
    "\n",
    "s.t. DA {j in JOBS, k in JOBS : j < k}:\n",
    "   start[j] + dur[j] <= start[k] + BigM*(1-y[j,k]);\n",
    "s.t. DB {j in JOBS, k in JOBS : j < k}:\n",
    "   start[k] + dur[k] <= start[j] + BigM*y[j,k];\n",
    "\n",
    "solve;\n",
    "\n",
    "/* Create Tables */\n",
    "\n",
    "table tout {k in JOBS} OUT \"CSV\" \"Schedule.csv\" \"table\":\n",
    "    k~Job, rel[k]~Release, start[k]~Start, start[k]+dur[k]~Finish, due[k]~Due;\n",
    "\n",
    "/* Print Report */\n",
    "\n",
    "printf \" Task     Rel     Dur     Due   Start  Finish Pastdue\\n\";\n",
    "printf {k in JOBS} \"%5s %7g %7g %7g %7g %7g %7g\\n\",\n",
    "   k,rel[k],dur[k],due[k],start[k],start[k]+dur[k],pastdue[k];\n",
    "\n",
    "end;"
   ]
  },
  {
   "cell_type": "markdown",
   "metadata": {},
   "source": [
    "## Example"
   ]
  },
  {
   "cell_type": "markdown",
   "metadata": {},
   "source": [
    "Machine Bottleneck Example from Christelle Gueret, Christian Prins,\n",
    "Marc Sevaux, \"Applications of Optimization with Xpress-MP,\" Chapter 5,\n",
    "Dash Optimization, 2000."
   ]
  },
  {
   "cell_type": "code",
   "execution_count": 2,
   "metadata": {},
   "outputs": [],
   "source": [
    "%%script glpsol -m Bottleneck.mod -d /dev/stdin -y results.txt --out output\n",
    "\n",
    "param: JOBS : rel   dur   due :=\n",
    "         A      2     5    10\n",
    "         B      5     6    21\n",
    "         C      4     8    15\n",
    "         D      0     4    10\n",
    "         E      0     2     5\n",
    "         F      8     3    15\n",
    "         G      9     2    22 ;\n",
    "\n",
    "end;"
   ]
  },
  {
   "cell_type": "code",
   "execution_count": 3,
   "metadata": {},
   "outputs": [
    {
     "name": "stdout",
     "output_type": "stream",
     "text": [
      " Task     Rel     Dur     Due   Start  Finish Pastdue\n",
      "    A       2       5      10       6      11       1\n",
      "    B       5       6      21      14      20       0\n",
      "    C       4       8      15      22      30      15\n",
      "    D       0       4      10       2       6       0\n",
      "    E       0       2       5       0       2       0\n",
      "    F       8       3      15      11      14       0\n",
      "    G       9       2      22      20      22       0\n",
      "\n"
     ]
    }
   ],
   "source": [
    "print(open('results.txt').read())"
   ]
  },
  {
   "cell_type": "code",
   "execution_count": 4,
   "metadata": {},
   "outputs": [
    {
     "data": {
      "text/html": [
       "<div>\n",
       "<table border=\"1\" class=\"dataframe\">\n",
       "  <thead>\n",
       "    <tr style=\"text-align: right;\">\n",
       "      <th></th>\n",
       "      <th>Job</th>\n",
       "      <th>Release</th>\n",
       "      <th>Start</th>\n",
       "      <th>Finish</th>\n",
       "      <th>Due</th>\n",
       "    </tr>\n",
       "  </thead>\n",
       "  <tbody>\n",
       "    <tr>\n",
       "      <th>0</th>\n",
       "      <td>A</td>\n",
       "      <td>2</td>\n",
       "      <td>6</td>\n",
       "      <td>11</td>\n",
       "      <td>10</td>\n",
       "    </tr>\n",
       "    <tr>\n",
       "      <th>1</th>\n",
       "      <td>B</td>\n",
       "      <td>5</td>\n",
       "      <td>14</td>\n",
       "      <td>20</td>\n",
       "      <td>21</td>\n",
       "    </tr>\n",
       "    <tr>\n",
       "      <th>2</th>\n",
       "      <td>C</td>\n",
       "      <td>4</td>\n",
       "      <td>22</td>\n",
       "      <td>30</td>\n",
       "      <td>15</td>\n",
       "    </tr>\n",
       "    <tr>\n",
       "      <th>3</th>\n",
       "      <td>D</td>\n",
       "      <td>0</td>\n",
       "      <td>2</td>\n",
       "      <td>6</td>\n",
       "      <td>10</td>\n",
       "    </tr>\n",
       "    <tr>\n",
       "      <th>4</th>\n",
       "      <td>E</td>\n",
       "      <td>0</td>\n",
       "      <td>0</td>\n",
       "      <td>2</td>\n",
       "      <td>5</td>\n",
       "    </tr>\n",
       "    <tr>\n",
       "      <th>5</th>\n",
       "      <td>F</td>\n",
       "      <td>8</td>\n",
       "      <td>11</td>\n",
       "      <td>14</td>\n",
       "      <td>15</td>\n",
       "    </tr>\n",
       "    <tr>\n",
       "      <th>6</th>\n",
       "      <td>G</td>\n",
       "      <td>9</td>\n",
       "      <td>20</td>\n",
       "      <td>22</td>\n",
       "      <td>22</td>\n",
       "    </tr>\n",
       "  </tbody>\n",
       "</table>\n",
       "</div>"
      ],
      "text/plain": [
       "  Job  Release  Start  Finish  Due\n",
       "0   A        2      6      11   10\n",
       "1   B        5     14      20   21\n",
       "2   C        4     22      30   15\n",
       "3   D        0      2       6   10\n",
       "4   E        0      0       2    5\n",
       "5   F        8     11      14   15\n",
       "6   G        9     20      22   22"
      ]
     },
     "metadata": {},
     "output_type": "display_data"
    }
   ],
   "source": [
    "import pandas\n",
    "from IPython.display import display\n",
    "\n",
    "schedule = pandas.read_csv(\"Schedule.csv\")\n",
    "display(schedule)"
   ]
  },
  {
   "cell_type": "markdown",
   "metadata": {},
   "source": [
    "## Visualization"
   ]
  },
  {
   "cell_type": "code",
   "execution_count": 5,
   "metadata": {},
   "outputs": [
    {
     "data": {
      "image/png": "[encoded data removed]",
      "text/plain": [
       "<matplotlib.figure.Figure at 0x10e6605f8>"
      ]
     },
     "metadata": {},
     "output_type": "display_data"
    }
   ],
   "source": [
    "import matplotlib.pyplot as plt\n",
    "%matplotlib inline\n",
    "\n",
    "plt.figure(figsize=(12,6))\n",
    "for i in schedule.index:\n",
    "    plt.plot([schedule.ix[i,'Start'],schedule.ix[i,'Finish']],[i,i],\n",
    "             color='red',alpha=1.0,lw=25,solid_capstyle=\"butt\")\n",
    "    plt.plot([schedule.ix[i,'Release'],schedule.ix[i,'Due']],[i,i],\n",
    "             color='cyan',alpha=0.8,lw=25,solid_capstyle=\"butt\")\n",
    "    plt.text((schedule.ix[i,'Start']+schedule.ix[i,'Finish'])/2.0,i,\n",
    "             'Job '+schedule.ix[i,'Job'],color='white',weight='bold',\n",
    "            horizontalalignment='center',verticalalignment='center')\n",
    "\n",
    "plt.ylim(plt.ylim()[0]-0.5,plt.ylim()[1]+0.5)\n",
    "plt.title('Machine Schedule')\n",
    "plt.xlabel('Time')\n",
    "plt.ylabel('Job Index')\n",
    "plt.grid()"
   ]
  },
  {
   "cell_type": "markdown",
   "metadata": {
    "collapsed": true
   },
   "source": [
    "<a id=\"Gurobi\"></a>\n",
    "## Solution using Gurobi"
   ]
  },
  {
   "cell_type": "code",
   "execution_count": 6,
   "metadata": {},
   "outputs": [
    {
     "data": {
      "text/html": [
       "<div>\n",
       "<table border=\"1\" class=\"dataframe\">\n",
       "  <thead>\n",
       "    <tr style=\"text-align: right;\">\n",
       "      <th></th>\n",
       "      <th>ID</th>\n",
       "      <th>release</th>\n",
       "      <th>duration</th>\n",
       "      <th>due</th>\n",
       "    </tr>\n",
       "  </thead>\n",
       "  <tbody>\n",
       "    <tr>\n",
       "      <th>0</th>\n",
       "      <td>A</td>\n",
       "      <td>2</td>\n",
       "      <td>5</td>\n",
       "      <td>10</td>\n",
       "    </tr>\n",
       "    <tr>\n",
       "      <th>1</th>\n",
       "      <td>B</td>\n",
       "      <td>5</td>\n",
       "      <td>6</td>\n",
       "      <td>21</td>\n",
       "    </tr>\n",
       "    <tr>\n",
       "      <th>2</th>\n",
       "      <td>C</td>\n",
       "      <td>4</td>\n",
       "      <td>8</td>\n",
       "      <td>15</td>\n",
       "    </tr>\n",
       "    <tr>\n",
       "      <th>3</th>\n",
       "      <td>D</td>\n",
       "      <td>0</td>\n",
       "      <td>4</td>\n",
       "      <td>10</td>\n",
       "    </tr>\n",
       "    <tr>\n",
       "      <th>4</th>\n",
       "      <td>E</td>\n",
       "      <td>0</td>\n",
       "      <td>2</td>\n",
       "      <td>5</td>\n",
       "    </tr>\n",
       "    <tr>\n",
       "      <th>5</th>\n",
       "      <td>F</td>\n",
       "      <td>8</td>\n",
       "      <td>3</td>\n",
       "      <td>15</td>\n",
       "    </tr>\n",
       "    <tr>\n",
       "      <th>6</th>\n",
       "      <td>G</td>\n",
       "      <td>9</td>\n",
       "      <td>2</td>\n",
       "      <td>22</td>\n",
       "    </tr>\n",
       "  </tbody>\n",
       "</table>\n",
       "</div>"
      ],
      "text/plain": [
       "  ID  release  duration  due\n",
       "0  A        2         5   10\n",
       "1  B        5         6   21\n",
       "2  C        4         8   15\n",
       "3  D        0         4   10\n",
       "4  E        0         2    5\n",
       "5  F        8         3   15\n",
       "6  G        9         2   22"
      ]
     },
     "execution_count": 6,
     "metadata": {},
     "output_type": "execute_result"
    }
   ],
   "source": [
    "# job data is organized as a pandas data frame with the index consisting of jobs names,\n",
    "# and with columns labeled 'release', 'duration', and 'due\n",
    "\n",
    "%matplotlib inline\n",
    "\n",
    "import pandas as pd\n",
    "from gurobipy import *\n",
    "import matplotlib.pyplot as plt\n",
    "\n",
    "ids = pd.Series(['A','B','C','D','E','F','G'])\n",
    "release = pd.Series([2,5,4,0,0,8,9])\n",
    "duration = pd.Series([5,6,8,4,2,3,2])\n",
    "due = pd.Series([10,21,15,10,5,15,22])\n",
    "\n",
    "jobs = pd.concat([ids,release,duration,due],axis=1)\n",
    "jobs.columns = ['ID','release','duration','due']\n",
    "jobs"
   ]
  },
  {
   "cell_type": "code",
   "execution_count": 11,
   "metadata": {},
   "outputs": [
    {
     "name": "stdout",
     "output_type": "stream",
     "text": [
      "Optimize a model with 77 rows, 44 columns and 189 nonzeros\n",
      "Variable types: 23 continuous, 21 integer (21 binary)\n",
      "Coefficient statistics:\n",
      "  Matrix range     [1e+00, 1e+02]\n",
      "  Objective range  [1e+00, 1e+00]\n",
      "  Bounds range     [1e+00, 1e+00]\n",
      "  RHS range        [2e+00, 1e+02]\n",
      "Presolve removed 28 rows and 9 columns\n",
      "Presolve time: 0.00s\n",
      "Presolved: 49 rows, 35 columns, 140 nonzeros\n",
      "Variable types: 14 continuous, 21 integer (21 binary)\n",
      "\n",
      "Root relaxation: objective 0.000000e+00, 15 iterations, 0.00 seconds\n",
      "\n",
      "    Nodes    |    Current Node    |     Objective Bounds      |     Work\n",
      " Expl Unexpl |  Obj  Depth IntInf | Incumbent    BestBd   Gap | It/Node Time\n",
      "\n",
      "     0     0    0.00000    0    5          -    0.00000      -     -    0s\n",
      "H    0     0                      30.0000000    0.00000   100%     -    0s\n",
      "H    0     0                      27.0000000    0.00000   100%     -    0s\n",
      "     0     0    0.00000    0    6   27.00000    0.00000   100%     -    0s\n",
      "     0     0    0.00000    0    8   27.00000    0.00000   100%     -    0s\n",
      "H    0     0                      23.0000000    0.00000   100%     -    0s\n",
      "H    0     0                      18.0000000    0.00000   100%     -    0s\n",
      "     0     0    1.90306    0    7   18.00000    1.90306  89.4%     -    0s\n",
      "     0     0    1.90306    0    5   18.00000    1.90306  89.4%     -    0s\n",
      "H    0     0                      16.0000000    1.90306  88.1%     -    0s\n",
      "     0     2    1.90306    0    5   16.00000    1.90306  88.1%     -    0s\n",
      "\n",
      "Cutting planes:\n",
      "  Gomory: 4\n",
      "  Implied bound: 5\n",
      "  MIR: 12\n",
      "\n",
      "Explored 115 nodes (562 simplex iterations) in 0.08 seconds\n",
      "Thread count was 8 (of 8 available processors)\n",
      "\n",
      "Solution count 5: 16 18 23 ... 30\n",
      "Pool objective bound 16\n",
      "\n",
      "Optimal solution found (tolerance 1.00e-04)\n",
      "Best objective 1.600000000000e+01, best bound 1.600000000000e+01, gap 0.0000%\n"
     ]
    }
   ],
   "source": [
    "# create model\n",
    "m = Model('machine scheduling')\n",
    "\n",
    "# create decision variables for each job\n",
    "start = pd.Series(m.addVars(jobs.index))\n",
    "pastdue = pd.Series(m.addVars(jobs.index))\n",
    "finish = pd.Series(m.addVars(jobs.index))\n",
    "\n",
    "# add constraints on start, finish, and pastdue\n",
    "m.addConstrs(start[k] >= jobs.ix[k,'release'] for k in jobs.index)\n",
    "m.addConstrs(start[k] + jobs.ix[k,'duration'] == finish[k] for k in jobs.index)\n",
    "m.addConstrs(finish[k] <= jobs.ix[k,'due'] + pastdue[k] for k in jobs.index)\n",
    "    \n",
    "# create a global makespan\n",
    "makespan = m.addVar()\n",
    "m.addConstrs(makespan >= finish[k] for k in jobs.index)\n",
    "\n",
    "# create a max pastdue\n",
    "maxpastdue = m.addVar()\n",
    "m.addConstrs(maxpastdue >= pastdue[k] for k in jobs.index)\n",
    "\n",
    "# disjunctive ordering constraints\n",
    "M = 100\n",
    "pairs = [(i,j) for i in start.index for j in start.index if i < j]\n",
    "y = m.addVars(pairs,vtype=GRB.BINARY)\n",
    "m.addConstrs(finish[i] <= start[j] + M*y[i,j] for (i,j) in pairs)\n",
    "m.addConstrs(finish[j] <= start[i] + M*(1-y[i,j]) for (i,j) in pairs)\n",
    "m.update()\n",
    "\n",
    "# objective function\n",
    "m.setObjective(sum(pastdue),GRB.MINIMIZE)\n",
    "m.optimize()"
   ]
  },
  {
   "cell_type": "code",
   "execution_count": 12,
   "metadata": {},
   "outputs": [
    {
     "data": {
      "image/png": "[encoded data removed]",
      "text/plain": [
       "<matplotlib.figure.Figure at 0x1132a5dd8>"
      ]
     },
     "metadata": {},
     "output_type": "display_data"
    }
   ],
   "source": [
    "def visualize():\n",
    "    plt.figure(figsize=(12,6))\n",
    "    for i in jobs.index:\n",
    "        plt.plot([start[i].X,finish[i].X],[i,i],\n",
    "             color='red',alpha=1.0,lw=25,solid_capstyle=\"butt\")\n",
    "        plt.plot([release[i],due[i]],[i,i],\n",
    "             color='cyan',alpha=0.6,lw=25,solid_capstyle=\"butt\")\n",
    "        plt.text((start[i].X + finish[i].X)/2.0,i,\n",
    "            'Job ' + jobs.ix[i,'ID'], color='white', weight='bold',\n",
    "            horizontalalignment='center', verticalalignment='center')\n",
    "\n",
    "    plt.ylim(plt.ylim()[0]-0.5,plt.ylim()[1]+0.5)\n",
    "    plt.title('Machine Schedule')\n",
    "    plt.xlabel('Time')\n",
    "    plt.ylabel('Job Index')\n",
    "    plt.grid()\n",
    "\n",
    "visualize()"
   ]
  },
  {
   "cell_type": "code",
   "execution_count": 13,
   "metadata": {},
   "outputs": [
    {
     "name": "stdout",
     "output_type": "stream",
     "text": [
      "Optimize a model with 77 rows, 44 columns and 189 nonzeros\n",
      "Variable types: 23 continuous, 21 integer (21 binary)\n",
      "Coefficient statistics:\n",
      "  Matrix range     [1e+00, 1e+02]\n",
      "  Objective range  [1e+00, 1e+00]\n",
      "  Bounds range     [1e+00, 1e+00]\n",
      "  RHS range        [2e+00, 1e+02]\n",
      "Presolve removed 28 rows and 15 columns\n",
      "Presolve time: 0.00s\n",
      "Presolved: 49 rows, 29 columns, 140 nonzeros\n",
      "\n",
      "Loaded MIP start with objective 15\n",
      "\n",
      "Variable types: 8 continuous, 21 integer (21 binary)\n",
      "\n",
      "Root relaxation: objective 0.000000e+00, 15 iterations, 0.00 seconds\n",
      "\n",
      "    Nodes    |    Current Node    |     Objective Bounds      |     Work\n",
      " Expl Unexpl |  Obj  Depth IntInf | Incumbent    BestBd   Gap | It/Node Time\n",
      "\n",
      "     0     0    0.00000    0    4   15.00000    0.00000   100%     -    0s\n",
      "H    0     0                      14.0000000    0.00000   100%     -    0s\n",
      "H    0     0                      10.0000000    0.00000   100%     -    0s\n",
      "H    0     0                       9.0000000    0.00000   100%     -    0s\n",
      "     0     0    0.00000    0    5    9.00000    0.00000   100%     -    0s\n",
      "     0     0    0.00000    0    5    9.00000    0.00000   100%     -    0s\n",
      "H    0     0                       8.0000000    6.00000  25.0%     -    0s\n",
      "     0     0    0.30165    0    9    8.00000    0.30165  96.2%     -    0s\n",
      "     0     0    0.37993    0    8    8.00000    0.37993  95.3%     -    0s\n",
      "     0     0    0.72727    0    4    8.00000    0.72727  90.9%     -    0s\n",
      "     0     0    0.72727    0    6    8.00000    0.72727  90.9%     -    0s\n",
      "     0     0    1.33333    0    5    8.00000    1.33333  83.3%     -    0s\n",
      "     0     0    1.33333    0    4    8.00000    1.33333  83.3%     -    0s\n",
      "     0     2    1.33333    0    4    8.00000    1.33333  83.3%     -    0s\n",
      "\n",
      "Cutting planes:\n",
      "  Implied bound: 1\n",
      "  MIR: 4\n",
      "\n",
      "Explored 17 nodes (203 simplex iterations) in 0.05 seconds\n",
      "Thread count was 8 (of 8 available processors)\n",
      "\n",
      "Solution count 5: 8 9 10 ... 15\n",
      "Pool objective bound 8\n",
      "\n",
      "Optimal solution found (tolerance 1.00e-04)\n",
      "Best objective 8.000000000000e+00, best bound 8.000000000000e+00, gap 0.0000%\n"
     ]
    },
    {
     "data": {
      "image/png": "[encoded data removed]",
      "text/plain": [
       "<matplotlib.figure.Figure at 0x1133312e8>"
      ]
     },
     "metadata": {},
     "output_type": "display_data"
    }
   ],
   "source": [
    "# objective function\n",
    "m.setObjective(maxpastdue,GRB.MINIMIZE)\n",
    "m.optimize()\n",
    "visualize()"
   ]
  },
  {
   "cell_type": "code",
   "execution_count": null,
   "metadata": {
    "collapsed": true
   },
   "outputs": [],
   "source": []
  }
 ],
 "metadata": {
  "kernelspec": {
   "display_name": "Python 3",
   "language": "python",
   "name": "python3"
  },
  "language_info": {
   "codemirror_mode": {
    "name": "ipython",
    "version": 3
   },
   "file_extension": ".py",
   "mimetype": "text/x-python",
   "name": "python",
   "nbconvert_exporter": "python",
   "pygments_lexer": "ipython3",
   "version": "3.6.1"
  }
 },
 "nbformat": 4,
 "nbformat_minor": 1
}
