{
 "cells": [
  {
   "cell_type": "markdown",
   "metadata": {},
   "source": [
    "## Modeling Options using Monte Carlo Simulations\n",
    "\n",
    "#### Matt Laboe\n",
    "\n",
    "CBE 40455: Final Project\n",
    "\n",
    "December 14, 2017"
   ]
  },
  {
   "cell_type": "markdown",
   "metadata": {},
   "source": [
    "## Introduction\n",
    "\n",
    "This notebook explains how to model call option prices using a Monte Carlo method, using the methods suggested by Huynh, Lai and Soumare in Stochastic Simulation and Applications in Finance with MATLAB Programs. \n",
    "\n",
    "In class, we have learned how to calcuate the value of call options by creating a binomial lattice to model the change in price with given paramters of volatility. This was a practical way of understanding how to value options and make decisions regarding them. But there were limiations to the method. Only a certain number of time periods could be analyzed, limiting either the total length of the option, or increasing the length of time between periods. \n",
    "\n",
    "One solution is to use a Monte Carlo method -- where multiple price paths are simulated and and final price averaged. To do a Monte Carlo method, we must assume that price follows the following stochastic differential equation:\n",
    "\n",
    "$$dS(t) = rS(t)dt + \\sigma S(t)d\\tilde{W}(t)$$\n",
    "\n",
    "Where $S$ is the price of the asset, and $\\tilde{W}$ is the Brownian motion under the risk-neutral probability.\n",
    "\n",
    "The following cell calculates the value of an option using this method. The simulation is run 50 times, with the mean and standard deviation of those 50 results reported."
   ]
  },
  {
   "cell_type": "code",
   "execution_count": 67,
   "metadata": {},
   "outputs": [
    {
     "name": "stdout",
     "output_type": "stream",
     "text": [
      "Price of the call option: $ 10.3976601947 +/- 0.194378309185\n"
     ]
    }
   ],
   "source": [
    "import numpy as np\n",
    "import math as math\n",
    "\n",
    "def MCPred(S0, K, T):\n",
    "    #Parameters\n",
    "    sigma = 0.2\n",
    "    r = 0.05          #interest rate\n",
    "    NbTraj = 5000     #number of paths \n",
    "    NbPas = 100       #number of time steps\n",
    "    DeltaT = T/NbPas  #length of time step. T is in years\n",
    "\n",
    "    #Initialize Arrays\n",
    "    SPresent = S0*np.ones((NbTraj,1))    #The value of the option at a given point in the path\n",
    "    SNext = np.zeros((NbTraj,1))         #The value of the option the following point in the path\n",
    "\n",
    "    for i in range(1,NbPas,1):\n",
    "        dW = math.sqrt(DeltaT)*np.random.randn(NbTraj,1)   #Browninan Motion component\n",
    "        SNext = SPresent + r*SPresent*DeltaT + sigma*np.multiply(SPresent,dW)\n",
    "        SPresent = SNext\n",
    "    Price = np.exp(-r*T)*np.mean(np.maximum(0,SPresent-K))\n",
    "    \n",
    "    \n",
    "    return Price\n",
    "Value = np.array([MCPred(100,100,1)])    \n",
    "for j in range(1,50,1):\n",
    "    Value = np.append([Value],MCPred(100,100,1))\n",
    "    \n",
    "Mean = np.mean(Value)\n",
    "StDev = np.std(Value)\n",
    "\n",
    "    \n",
    "print('Price of the call option: $',Mean,'+/-',StDev)"
   ]
  },
  {
   "cell_type": "markdown",
   "metadata": {},
   "source": [
    "As can be seen, this method makes Option calculations pretty easy! One downside is there is some error invovled. This can be mitigated with advanced statistical techniques that I won't attempt to do here. \n",
    "\n",
    "Using a Monte Carlo simulation is a useful way to quickly calculate the value of an option. While not as accurate as creating a binomial lattice it allows for bigger and faster calculations. Instead of using induction and working backwards across a lattice to find the value of the option, it can be calculated immediately. \n",
    "\n",
    "References:\n",
    "\n",
    "Huynh, Huu Tue., et al. “Pricing Options Using Monte Carlo Simulations.” Stochastic Simulation and Applications in Finance with MATLAB, Wiley, 2008, pp. 169–171.\n",
    "\n"
   ]
  },
  {
   "cell_type": "code",
   "execution_count": null,
   "metadata": {
    "collapsed": true
   },
   "outputs": [],
   "source": []
  }
 ],
 "metadata": {
  "anaconda-cloud": {},
  "kernelspec": {
   "display_name": "Python 3",
   "language": "python",
   "name": "python3"
  },
  "language_info": {
   "codemirror_mode": {
    "name": "ipython",
    "version": 3
   },
   "file_extension": ".py",
   "mimetype": "text/x-python",
   "name": "python",
   "nbconvert_exporter": "python",
   "pygments_lexer": "ipython3",
   "version": "3.6.1"
  }
 },
 "nbformat": 4,
 "nbformat_minor": 1
}
