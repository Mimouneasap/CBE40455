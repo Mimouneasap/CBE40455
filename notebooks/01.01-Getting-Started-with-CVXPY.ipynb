{
 "cells": [
  {
   "cell_type": "markdown",
   "metadata": {
    "colab_type": "text",
    "id": "8MMHjoZJgSwE"
   },
   "source": [
    "<!--COURSE_INFORMATION-->\n",
    "*This notebook contains course material from [CBE 40455 Process Operations](http://jckantor.github.io/CBE40455/) by Jeffrey Kantor (jeff at nd.edu); the content is available [on GitHub](https://github.com/jckantor/CBE40455).*\n",
    "*The text is released under the [CC-BY-NC-ND-4.0 license](https://creativecommons.org/licenses/by-nc-nd/4.0/legalcode), and code is released under the [MIT license](https://opensource.org/licenses/MIT).*\n"
   ]
  },
  {
   "cell_type": "markdown",
   "metadata": {
    "colab_type": "text",
    "id": "_fDJewF-gSwF"
   },
   "source": [
    "<!--NAVIGATION-->\n",
    "< [Getting Started Guides](01.00-Getting-Started-Guides.ipynb) | [Contents](index.ipynb) | [Doing More with CVXPY](01.02-Doing-More-with-CVXPY.ipynb) >\n",
    "\n",
    "<a href=\"https://colab.research.google.com/github/jckantor/CBE40455/blob/master/notebooks/01.01-Getting-Started-with-CVXPY.ipynb\"><img align=\"left\" src=\"https://colab.research.google.com/assets/colab-badge.svg\" alt=\"Open in Colab\" title=\"Open and Execute in Google Colaboratory\"></a>\n"
   ]
  },
  {
   "cell_type": "markdown",
   "metadata": {
    "colab_type": "text",
    "id": "pFPmumPYgSwG"
   },
   "source": [
    "# Getting Started with CVXPY\n",
    "\n",
    "[CVXPY](http://www.cvxpy.org/en/latest/index.html) is modeling and optimization language embedded into Python. The language provides for the specification of convex optimization problems (which includes the important cases of linear and quadratic programming).  "
   ]
  },
  {
   "cell_type": "markdown",
   "metadata": {
    "colab_type": "text",
    "id": "vbrwLouAgSwH"
   },
   "source": [
    "## Installation of CVXPY\n",
    "\n",
    "The installation instructions are given [here](http://www.cvxpy.org/en/latest/install/index.html). No installation is required when using Google Colaboratory."
   ]
  },
  {
   "cell_type": "markdown",
   "metadata": {
    "colab_type": "text",
    "id": "pQijaTrCgSwH"
   },
   "source": [
    "## Example: Solving a System of Equations\n",
    "\n",
    "### Using Scalar Parameters and Variables\n",
    "\n",
    "A fully specified system of linear equations given by\n",
    "\n",
    "\\begin{align}\n",
    "3x + 4y & = 26 \\\\\n",
    "2x - 3y & = - 11\n",
    "\\end{align}\n",
    "\n",
    "can be readily solved as a convex optimization problem. The following cell demonstrates the specification and solution of these equations using $x$ and $y$ as decision variables."
   ]
  },
  {
   "cell_type": "code",
   "execution_count": 5,
   "metadata": {
    "colab": {
     "base_uri": "https://localhost:8080/",
     "height": 85
    },
    "colab_type": "code",
    "executionInfo": {
     "elapsed": 285,
     "status": "ok",
     "timestamp": 1557236309416,
     "user": {
      "displayName": "Jeffrey Kantor",
      "photoUrl": "https://lh5.googleusercontent.com/-8zK5aAW5RMQ/AAAAAAAAAAI/AAAAAAAAKB0/kssUQyz8DTQ/s64/photo.jpg",
      "userId": "09038942003589296665"
     },
     "user_tz": 240
    },
    "id": "9CWvrBpwgSwI",
    "outputId": "028da01a-df4c-4d10-ea32-9a5370cf9903"
   },
   "outputs": [
    {
     "name": "stdout",
     "output_type": "stream",
     "text": [
      " Problem Status: optimal\n",
      "Objective Value: 28.999999999999996\n",
      "     Solution x: 2.000000000000001\n",
      "     Solution y: 4.999999999999999\n"
     ]
    }
   ],
   "source": [
    "import cvxpy as cp\n",
    "import numpy as np\n",
    "\n",
    "# create two scalar optimization variables.\n",
    "x = cp.Variable()\n",
    "y = cp.Variable()\n",
    "\n",
    "# create two constraints.\n",
    "constraints = [3*x + 4*y == 26,\n",
    "               2*x - 3*y == -11]\n",
    "\n",
    "# form objective.\n",
    "objective = cp.Minimize(x**2 + y**2)\n",
    "\n",
    "# form and solve problem.\n",
    "problem = cp.Problem(objective, constraints)\n",
    "problem.solve()\n",
    "\n",
    "# display the solution\n",
    "print(\" Problem Status:\", problem.status)\n",
    "print(\"Objective Value:\", problem.value)\n",
    "print(\"     Solution x:\", x.value)\n",
    "print(\"     Solution y:\", y.value)"
   ]
  },
  {
   "cell_type": "markdown",
   "metadata": {
    "colab_type": "text",
    "id": "iAAUPAl0gSwO"
   },
   "source": [
    "### Using Matrix Parameters and Vector Variables"
   ]
  },
  {
   "cell_type": "code",
   "execution_count": 6,
   "metadata": {
    "colab": {
     "base_uri": "https://localhost:8080/",
     "height": 85
    },
    "colab_type": "code",
    "executionInfo": {
     "elapsed": 454,
     "status": "ok",
     "timestamp": 1557236311384,
     "user": {
      "displayName": "Jeffrey Kantor",
      "photoUrl": "https://lh5.googleusercontent.com/-8zK5aAW5RMQ/AAAAAAAAAAI/AAAAAAAAKB0/kssUQyz8DTQ/s64/photo.jpg",
      "userId": "09038942003589296665"
     },
     "user_tz": 240
    },
    "id": "jrfCG_s0gSwP",
    "outputId": "931ead88-b56f-4c81-b3fc-da7855cc6bab"
   },
   "outputs": [
    {
     "name": "stdout",
     "output_type": "stream",
     "text": [
      " Problem Status: optimal\n",
      "Objective Value: 5.385164802505173\n",
      "  Solution x[0]: 2.0\n",
      "  Solution x[1]: 4.999999999999999\n"
     ]
    }
   ],
   "source": [
    "import cvxpy as cp\n",
    "import numpy as np\n",
    "\n",
    "# specify problem data as numpy matrix and vectors\n",
    "A = np.array([[3, 4], [2, -3]])\n",
    "b = np.array([26, -11])\n",
    "\n",
    "# create a vector variables\n",
    "x = cp.Variable(2)\n",
    "\n",
    "# specify equality constraints\n",
    "constraints = [A*x == b]\n",
    "\n",
    "# form objective.\n",
    "objective = cp.Minimize(cvx.norm(x))\n",
    "\n",
    "# form and solve problem.\n",
    "problem = cp.Problem(objective, constraints)\n",
    "problem.solve()\n",
    "\n",
    "# display the solution\n",
    "print(\" Problem Status:\", problem.status)\n",
    "print(\"Objective Value:\", problem.value)\n",
    "print(\"  Solution x[0]:\", x[0].value)\n",
    "print(\"  Solution x[1]:\", x[1].value)"
   ]
  },
  {
   "cell_type": "markdown",
   "metadata": {
    "colab_type": "text",
    "id": "YYvi3klOgSwX"
   },
   "source": [
    "<!--NAVIGATION-->\n",
    "< [Getting Started Guides](01.00-Getting-Started-Guides.ipynb) | [Contents](index.ipynb) | [Doing More with CVXPY](01.02-Doing-More-with-CVXPY.ipynb) >\n",
    "\n",
    "<a href=\"https://colab.research.google.com/github/jckantor/CBE40455/blob/master/notebooks/01.01-Getting-Started-with-CVXPY.ipynb\"><img align=\"left\" src=\"https://colab.research.google.com/assets/colab-badge.svg\" alt=\"Open in Colab\" title=\"Open and Execute in Google Colaboratory\"></a>\n"
   ]
  },
  {
   "cell_type": "code",
   "execution_count": 0,
   "metadata": {
    "colab": {},
    "colab_type": "code",
    "id": "u5iykaKngXJa"
   },
   "outputs": [],
   "source": []
  },
  {
   "cell_type": "markdown",
   "metadata": {},
   "source": [
    "<!--NAVIGATION-->\n",
    "< [Getting Started Guides](01.00-Getting-Started-Guides.ipynb) | [Contents](index.ipynb) | [Doing More with CVXPY](01.02-Doing-More-with-CVXPY.ipynb) >\n",
    "\n",
    "<a href=\"https://colab.research.google.com/github/jckantor/CBE40455/blob/master/notebooks/01.01-Getting-Started-with-CVXPY.ipynb\"><img align=\"left\" src=\"https://colab.research.google.com/assets/colab-badge.svg\" alt=\"Open in Colab\" title=\"Open and Execute in Google Colaboratory\"></a>\n"
   ]
  }
 ],
 "metadata": {
  "colab": {
   "collapsed_sections": [],
   "name": "01.01-Getting-Started-with-CVXPY.ipynb",
   "provenance": [],
   "version": "0.3.2"
  },
  "kernelspec": {
   "display_name": "Python 3",
   "language": "python",
   "name": "python3"
  },
  "language_info": {
   "codemirror_mode": {
    "name": "ipython",
    "version": 3
   },
   "file_extension": ".py",
   "mimetype": "text/x-python",
   "name": "python",
   "nbconvert_exporter": "python",
   "pygments_lexer": "ipython3",
   "version": "3.6.4"
  }
 },
 "nbformat": 4,
 "nbformat_minor": 0
}
