{
 "cells": [
  {
   "cell_type": "markdown",
   "metadata": {},
   "source": [
    "# CBE40455 Process Operations: 2017 Final Projects"
   ]
  },
  {
   "cell_type": "markdown",
   "metadata": {},
   "source": [
    "**[Coffee Shop](Coffee Shop/Coffee Shop Simulation and Analysis.ipynb).** \n",
    "Aloysius Brenner and Sheridan Foy. \n",
    "This project uses [Simpy](https://simpy.readthedocs.io/en/latest/) to simulate a single day of operation for a coffee shop, including morning and noon busy periods. Daily profits, time to complete orders, and customer satisfaction are analyzed.\n",
    "\n",
    "**[Commodity Price Models](Commodity Price Models/Commodity Price Models.ipynb).**\n",
    "Shea Targgart.\n",
    "This project compares two stochastic models for prices dependent on a commodity good. A price series is obtained for [KOL](https://www.vaneck.com/etf/equity/kol/overview/), an ETF designed to track the global coal industry. The models are Geometric Brownian Motion and a modification exhibiting mean reversion.\n",
    "\n",
    "**[Crack Spread Forecast and Valuation of a Refining Operation](Crack Spread Forecast/Crack Spread Forecast.ipynb).**\n",
    "Travis Tredway and Ben Schultz.\n",
    "This project uses historical data to compute the value of the 3:2:1 'Crack Spread' of a refining operation, and fits the data to a model for Geometric Brownian Motion. The model is used to compute the value of leasing a refining operation.\n",
    "\n",
    "**[Cryptocurrencies](Cryptocurrencies/Cryptocurrencies.ipynb).**\n",
    "Christopher Schwappach and Morley Forsyth.\n",
    "This project shows how to create a minimum volatility synthetic currency based on the largest cryptocurrencies (bitcoin, etherium, iota) currently available. \n",
    "\n",
    "**[Modeling Options using Monte Carlo Simulations](Modeling Options using Monte Carlo Simulations/Modeling Options using Monte Carlo Simulations.ipynb).**\n",
    "Matt Laboe.\n",
    "This notebook demonstrates the calculation of option prices using Monte Carlo simulation wtih risk neutral probability measures.\n",
    "\n",
    "**[Portfolio Optimization](Portfolio Optimization/Portfolio Optimization for CQA Trading Competition.ipynb).**\n",
    "Sarah Graney.\n",
    "This notebook presents a Pyomo optimization model for a long/short equity portfolio subject to constraints on portfolio beta, full investment, market neutral, and position constraints. The model incorporates fundamental analysis on a subset of equities, and obtains data using Yahoo finance.\n",
    "\n",
    "**[Restaurant Simulation](Restaurant Simulation/Restaurant Simulation.ipynb).**\n",
    "Emily Clements and Usa (Mabelle) Wongsanguan.\n",
    "This project creates a discrete event simulation of a casual dining restaurant using [Simpy](https://simpy.readthedocs.io/en/latest/). The detailed model includes resource queues for servers, tables, cooks, and ovens, and presents an analysis of the customer experience.\n",
    "\n",
    "**[Santa's Workshop: Multiproduct Process Simulations and State-Task Networks](Santa's Workshop/Santa's Workshop.ipynb).**\n",
    "Kaleigh Ellis and Gina Pernesky.\n",
    "This project creates a State-Task Network model and Pyomo optimization model to schedule a multi-product manufacturing plant. A product slate of 'toys' are to be produced to maximize the social value of the operation. The value of additional 'elves' is determined by simulation.\n",
    "\n",
    "**[Short Term Crude Oil Scheduling](Short Term Crude Oil Scheduling/Short-Term Crude Oil Scheduling.ipynb).**\n",
    "Dalton Flynn and Alexander Smith.\n",
    "This project is motivated by and adapted from a paper called “Mixed-Integer Programming Approach for Short-Term Crude Oil Scheduling” published by L.F.L Moro and J.M. Pinto in 2004. Moro and Pinto address the problem of crude oil inventory management of a real-world refinery that receives oil delivered through a pipeline. This project implements a State-Task Network model in Pyomo, and demonstrates use of the model to analyze various process scenarios.\n",
    "\n",
    "**[South Bend Chocolates](South Bend Chocolates/South Bend Chocolates.ipynb).**\n",
    "Lizett Pink and Andrew Spitzer.\n",
    "This project implements a Pyomo model of a State-Task Network describing operations at the manufacturing facility for South Bend Chocolates.\n",
    "\n",
    "**[Ticket Queuing](Ticket Queuing/Ticket_Queuing.ipynb).**\n",
    "Victoria Madison and Teresa Simunich.\n",
    "This project developed a discrete event simulation model in  [Simpy](https://simpy.readthedocs.io/en/latest/) for ticket and inspection queuing typical of the entry to major sporting events. The model was used to examine the cause of a major delay at recent Notre Dame home football game. It is shown that the addition of two additional ushers could reduce queue times from 49 to 14 minutes.\n",
    "\n",
    "**[When to Pull a Pitcher](When to Pull a Pitcher/When to Pull a Pitcher.ipynb).**\n",
    "James Fraser, Nick Korompilas and Luis Rosales.\n",
    "The purpose of this project is do develop an optimal decision analysis for the management of a pitching staff in the last inning of a baseball game.\n",
    "\n",
    "**[Whiskey Distillery](Whiskey Distillery/Whiskey Distillery.ipynb).**\n",
    "Brad Berning and Katie Hergenrother.\n",
    "This project presents a State-Task Network model and a Pyomo implementation for the optimal scheduling of the distillery at Indiana Whiskey. The model is implemented for slate of up to two products, with particular attention given to the mashing process."
   ]
  },
  {
   "cell_type": "code",
   "execution_count": null,
   "metadata": {
    "collapsed": true
   },
   "outputs": [],
   "source": []
  }
 ],
 "metadata": {
  "kernelspec": {
   "display_name": "Python 3",
   "language": "python",
   "name": "python3"
  },
  "language_info": {
   "codemirror_mode": {
    "name": "ipython",
    "version": 3
   },
   "file_extension": ".py",
   "mimetype": "text/x-python",
   "name": "python",
   "nbconvert_exporter": "python",
   "pygments_lexer": "ipython3",
   "version": "3.6.1"
  }
 },
 "nbformat": 4,
 "nbformat_minor": 2
}
