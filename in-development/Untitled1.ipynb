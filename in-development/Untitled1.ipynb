{
 "cells": [
  {
   "cell_type": "markdown",
   "metadata": {},
   "source": [
    "# Exercises in Chemical Equilibrium"
   ]
  },
  {
   "cell_type": "code",
   "execution_count": 27,
   "metadata": {
    "collapsed": false
   },
   "outputs": [],
   "source": [
    "import matplotlib.pyplot as plt\n",
    "import numpy as np\n",
    "import scipy.optimize\n",
    "%matplotlib inline"
   ]
  },
  {
   "cell_type": "code",
   "execution_count": 34,
   "metadata": {
    "collapsed": false
   },
   "outputs": [],
   "source": [
    "Gf = dict()\n",
    "Hf = dict()\n",
    "\n",
    "Gf['C2H4'] = 68440.0\n",
    "Gf['H2O'] = -228590.0\n",
    "Gf['C2H5OH'] = -167850.0\n",
    "\n",
    "Hf['C2H4'] = 52510.0\n",
    "Hf['H2O'] = -241830.0\n",
    "Hf['C2H5OH'] =  -234950.0\n",
    "\n",
    "Grxn = -Gf['C2H4'] - Gf['H2O'] + Gf['C2H5OH']\n",
    "Hrxn = -Hf['C2H4'] - Hf['H2O'] + Hf['C2H5OH']\n",
    "Srxn = (Hrxn-Grxn)/298.0"
   ]
  },
  {
   "cell_type": "code",
   "execution_count": null,
   "metadata": {
    "collapsed": true
   },
   "outputs": [],
   "source": [
    "print Grxn\n",
    "print Hrxn\n",
    "print Srxn"
   ]
  },
  {
   "cell_type": "code",
   "execution_count": 44,
   "metadata": {
    "collapsed": false
   },
   "outputs": [
    {
     "name": "stdout",
     "output_type": "stream",
     "text": [
      "-15.3093431795\n",
      "-5488.3329324\n"
     ]
    }
   ],
   "source": [
    "R = 8.314\n",
    "\n",
    "A = Srxn/R\n",
    "B = Hrxn/R\n",
    "\n",
    "def lnK(T):\n",
    "    return A - B/T\n",
    "\n",
    "def K(T):\n",
    "    return np.exp(lnK(T))\n",
    "\n",
    "print A\n",
    "print B"
   ]
  },
  {
   "cell_type": "code",
   "execution_count": 47,
   "metadata": {
    "collapsed": false
   },
   "outputs": [
    {
     "data": {
      "image/png": "[encoded data removed]",
      "text/plain": [
       "<matplotlib.figure.Figure at 0x109368350>"
      ]
     },
     "metadata": {},
     "output_type": "display_data"
    }
   ],
   "source": [
    "T = 273.15 + np.linspace(150,300)\n",
    "plt.plot(T,K(T))\n",
    "\n",
    "plt.xlabel('Temperature (K)')\n",
    "plt.ylabel('K(T)')\n",
    "plt.grid()\n"
   ]
  },
  {
   "cell_type": "code",
   "execution_count": 31,
   "metadata": {
    "collapsed": false
   },
   "outputs": [
    {
     "data": {
      "text/plain": [
       "0.7047210030924737"
      ]
     },
     "execution_count": 31,
     "metadata": {},
     "output_type": "execute_result"
    }
   ],
   "source": [
    "P = 50.0\n",
    "T = 300.0\n",
    "\n",
    "def f(xi):\n",
    "    K = np.exp(lnK(T))\n",
    "    num = (2000.0-xi)*xi\n",
    "    den = (1000.0-xi)**2*P\n",
    "    return num/den - K\n",
    "\n",
    "scipy.optimize.brentq(f,0.0,999.9)"
   ]
  },
  {
   "cell_type": "code",
   "execution_count": null,
   "metadata": {
    "collapsed": true
   },
   "outputs": [],
   "source": []
  }
 ],
 "metadata": {
  "kernelspec": {
   "display_name": "Python 2",
   "language": "python",
   "name": "python2"
  },
  "language_info": {
   "codemirror_mode": {
    "name": "ipython",
    "version": 2
   },
   "file_extension": ".py",
   "mimetype": "text/x-python",
   "name": "python",
   "nbconvert_exporter": "python",
   "pygments_lexer": "ipython2",
   "version": "2.7.10"
  }
 },
 "nbformat": 4,
 "nbformat_minor": 0
}
