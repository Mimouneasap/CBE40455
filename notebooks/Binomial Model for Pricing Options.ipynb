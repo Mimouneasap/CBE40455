{
 "cells": [
  {
   "cell_type": "markdown",
   "metadata": {},
   "source": [
    "##### The latest version of this Jupyter notebook is available at [http://github.com/jckantor/CBE40455](http://github.com/jckantor/CBE20255)  for noncommercial use under terms of the [Creative Commons Attribution Noncommericial ShareAlike License](http://creativecommons.org/licenses/by-nc-sa/4.0/).\n",
    "\n",
    "J.C. Kantor (Kantor.1@nd.edu)"
   ]
  },
  {
   "cell_type": "markdown",
   "metadata": {},
   "source": [
    "# Binomial Model for Pricing Options\n",
    "\n",
    "This notebooks demonstrates techniques for pricing options using a binomial lattice to model prices of the underlying security or commodity. The notebook makes use of the pandas_datareader library to download pricing information, and the Pyomo modeling library for some example calculations.\n",
    "\n",
    "    !pip install pandas_datareader"
   ]
  },
  {
   "cell_type": "markdown",
   "metadata": {},
   "source": [
    "## Historical Data\n",
    "\n",
    "The first step is download historical data for a selected security or commodity.  For the purposes of this notebook, it is useful to choose security of commodities for which there is an active options trading so that the pricing model can be compared to actual market data."
   ]
  },
  {
   "cell_type": "code",
   "execution_count": 236,
   "metadata": {},
   "outputs": [
    {
     "ename": "RemoteDataError",
     "evalue": "Unable to read URL: https://query1.finance.yahoo.com/v7/finance/download/IBM?period1=1416200400&period2=1510894799&interval=1d&events=history&crumb=oqW5L6ox%5Cu002Ffm",
     "output_type": "error",
     "traceback": [
      "\u001b[0;31m---------------------------------------------------------------------------\u001b[0m",
      "\u001b[0;31mRemoteDataError\u001b[0m                           Traceback (most recent call last)",
      "\u001b[0;32m<ipython-input-236-463bdc80538c>\u001b[0m in \u001b[0;36m<module>\u001b[0;34m()\u001b[0m\n\u001b[1;32m     27\u001b[0m \u001b[0;34m\u001b[0m\u001b[0m\n\u001b[1;32m     28\u001b[0m \u001b[0;31m# get stock price data\u001b[0m\u001b[0;34m\u001b[0m\u001b[0;34m\u001b[0m\u001b[0m\n\u001b[0;32m---> 29\u001b[0;31m \u001b[0mP\u001b[0m \u001b[0;34m=\u001b[0m \u001b[0mdata\u001b[0m\u001b[0;34m.\u001b[0m\u001b[0mDataReader\u001b[0m\u001b[0;34m(\u001b[0m\u001b[0msymbol\u001b[0m\u001b[0;34m,\u001b[0m\u001b[0;34m\"yahoo\"\u001b[0m\u001b[0;34m,\u001b[0m\u001b[0mstart\u001b[0m\u001b[0;34m,\u001b[0m\u001b[0mend\u001b[0m\u001b[0;34m)\u001b[0m\u001b[0;34m[\u001b[0m\u001b[0;34m'Adj Close'\u001b[0m\u001b[0;34m]\u001b[0m\u001b[0;34m\u001b[0m\u001b[0m\n\u001b[0m\u001b[1;32m     30\u001b[0m \u001b[0;34m\u001b[0m\u001b[0m\n\u001b[1;32m     31\u001b[0m \u001b[0;31m# plot data\u001b[0m\u001b[0;34m\u001b[0m\u001b[0;34m\u001b[0m\u001b[0m\n",
      "\u001b[0;32m~/anaconda3/lib/python3.6/site-packages/pandas_datareader/data.py\u001b[0m in \u001b[0;36mDataReader\u001b[0;34m(name, data_source, start, end, retry_count, pause, session, access_key)\u001b[0m\n\u001b[1;32m    119\u001b[0m                                 \u001b[0madjust_price\u001b[0m\u001b[0;34m=\u001b[0m\u001b[0;32mFalse\u001b[0m\u001b[0;34m,\u001b[0m \u001b[0mchunksize\u001b[0m\u001b[0;34m=\u001b[0m\u001b[0;36m25\u001b[0m\u001b[0;34m,\u001b[0m\u001b[0;34m\u001b[0m\u001b[0m\n\u001b[1;32m    120\u001b[0m                                 \u001b[0mretry_count\u001b[0m\u001b[0;34m=\u001b[0m\u001b[0mretry_count\u001b[0m\u001b[0;34m,\u001b[0m \u001b[0mpause\u001b[0m\u001b[0;34m=\u001b[0m\u001b[0mpause\u001b[0m\u001b[0;34m,\u001b[0m\u001b[0;34m\u001b[0m\u001b[0m\n\u001b[0;32m--> 121\u001b[0;31m                                 session=session).read()\n\u001b[0m\u001b[1;32m    122\u001b[0m \u001b[0;34m\u001b[0m\u001b[0m\n\u001b[1;32m    123\u001b[0m     \u001b[0;32melif\u001b[0m \u001b[0mdata_source\u001b[0m \u001b[0;34m==\u001b[0m \u001b[0;34m\"yahoo-actions\"\u001b[0m\u001b[0;34m:\u001b[0m\u001b[0;34m\u001b[0m\u001b[0m\n",
      "\u001b[0;32m~/anaconda3/lib/python3.6/site-packages/pandas_datareader/yahoo/daily.py\u001b[0m in \u001b[0;36mread\u001b[0;34m(self)\u001b[0m\n\u001b[1;32m    113\u001b[0m         \u001b[0;34m\"\"\" read one data from specified URL \"\"\"\u001b[0m\u001b[0;34m\u001b[0m\u001b[0m\n\u001b[1;32m    114\u001b[0m         \u001b[0;32mtry\u001b[0m\u001b[0;34m:\u001b[0m\u001b[0;34m\u001b[0m\u001b[0m\n\u001b[0;32m--> 115\u001b[0;31m             \u001b[0mdf\u001b[0m \u001b[0;34m=\u001b[0m \u001b[0msuper\u001b[0m\u001b[0;34m(\u001b[0m\u001b[0mYahooDailyReader\u001b[0m\u001b[0;34m,\u001b[0m \u001b[0mself\u001b[0m\u001b[0;34m)\u001b[0m\u001b[0;34m.\u001b[0m\u001b[0mread\u001b[0m\u001b[0;34m(\u001b[0m\u001b[0;34m)\u001b[0m\u001b[0;34m\u001b[0m\u001b[0m\n\u001b[0m\u001b[1;32m    116\u001b[0m             \u001b[0;32mif\u001b[0m \u001b[0mself\u001b[0m\u001b[0;34m.\u001b[0m\u001b[0mret_index\u001b[0m\u001b[0;34m:\u001b[0m\u001b[0;34m\u001b[0m\u001b[0m\n\u001b[1;32m    117\u001b[0m                 \u001b[0mdf\u001b[0m\u001b[0;34m[\u001b[0m\u001b[0;34m'Ret_Index'\u001b[0m\u001b[0;34m]\u001b[0m \u001b[0;34m=\u001b[0m \u001b[0m_calc_return_index\u001b[0m\u001b[0;34m(\u001b[0m\u001b[0mdf\u001b[0m\u001b[0;34m[\u001b[0m\u001b[0;34m'Adj Close'\u001b[0m\u001b[0;34m]\u001b[0m\u001b[0;34m)\u001b[0m\u001b[0;34m\u001b[0m\u001b[0m\n",
      "\u001b[0;32m~/anaconda3/lib/python3.6/site-packages/pandas_datareader/base.py\u001b[0m in \u001b[0;36mread\u001b[0;34m(self)\u001b[0m\n\u001b[1;32m    179\u001b[0m         \u001b[0;32mif\u001b[0m \u001b[0misinstance\u001b[0m\u001b[0;34m(\u001b[0m\u001b[0mself\u001b[0m\u001b[0;34m.\u001b[0m\u001b[0msymbols\u001b[0m\u001b[0;34m,\u001b[0m \u001b[0;34m(\u001b[0m\u001b[0mcompat\u001b[0m\u001b[0;34m.\u001b[0m\u001b[0mstring_types\u001b[0m\u001b[0;34m,\u001b[0m \u001b[0mint\u001b[0m\u001b[0;34m)\u001b[0m\u001b[0;34m)\u001b[0m\u001b[0;34m:\u001b[0m\u001b[0;34m\u001b[0m\u001b[0m\n\u001b[1;32m    180\u001b[0m             df = self._read_one_data(self.url,\n\u001b[0;32m--> 181\u001b[0;31m                                      params=self._get_params(self.symbols))\n\u001b[0m\u001b[1;32m    182\u001b[0m         \u001b[0;31m# Or multiple symbols, (e.g., ['GOOG', 'AAPL', 'MSFT'])\u001b[0m\u001b[0;34m\u001b[0m\u001b[0;34m\u001b[0m\u001b[0m\n\u001b[1;32m    183\u001b[0m         \u001b[0;32melif\u001b[0m \u001b[0misinstance\u001b[0m\u001b[0;34m(\u001b[0m\u001b[0mself\u001b[0m\u001b[0;34m.\u001b[0m\u001b[0msymbols\u001b[0m\u001b[0;34m,\u001b[0m \u001b[0mDataFrame\u001b[0m\u001b[0;34m)\u001b[0m\u001b[0;34m:\u001b[0m\u001b[0;34m\u001b[0m\u001b[0m\n",
      "\u001b[0;32m~/anaconda3/lib/python3.6/site-packages/pandas_datareader/base.py\u001b[0m in \u001b[0;36m_read_one_data\u001b[0;34m(self, url, params)\u001b[0m\n\u001b[1;32m     77\u001b[0m         \u001b[0;34m\"\"\" read one data from specified URL \"\"\"\u001b[0m\u001b[0;34m\u001b[0m\u001b[0m\n\u001b[1;32m     78\u001b[0m         \u001b[0;32mif\u001b[0m \u001b[0mself\u001b[0m\u001b[0;34m.\u001b[0m\u001b[0m_format\u001b[0m \u001b[0;34m==\u001b[0m \u001b[0;34m'string'\u001b[0m\u001b[0;34m:\u001b[0m\u001b[0;34m\u001b[0m\u001b[0m\n\u001b[0;32m---> 79\u001b[0;31m             \u001b[0mout\u001b[0m \u001b[0;34m=\u001b[0m \u001b[0mself\u001b[0m\u001b[0;34m.\u001b[0m\u001b[0m_read_url_as_StringIO\u001b[0m\u001b[0;34m(\u001b[0m\u001b[0murl\u001b[0m\u001b[0;34m,\u001b[0m \u001b[0mparams\u001b[0m\u001b[0;34m=\u001b[0m\u001b[0mparams\u001b[0m\u001b[0;34m)\u001b[0m\u001b[0;34m\u001b[0m\u001b[0m\n\u001b[0m\u001b[1;32m     80\u001b[0m         \u001b[0;32melif\u001b[0m \u001b[0mself\u001b[0m\u001b[0;34m.\u001b[0m\u001b[0m_format\u001b[0m \u001b[0;34m==\u001b[0m \u001b[0;34m'json'\u001b[0m\u001b[0;34m:\u001b[0m\u001b[0;34m\u001b[0m\u001b[0m\n\u001b[1;32m     81\u001b[0m             \u001b[0mout\u001b[0m \u001b[0;34m=\u001b[0m \u001b[0mself\u001b[0m\u001b[0;34m.\u001b[0m\u001b[0m_get_response\u001b[0m\u001b[0;34m(\u001b[0m\u001b[0murl\u001b[0m\u001b[0;34m,\u001b[0m \u001b[0mparams\u001b[0m\u001b[0;34m=\u001b[0m\u001b[0mparams\u001b[0m\u001b[0;34m)\u001b[0m\u001b[0;34m.\u001b[0m\u001b[0mjson\u001b[0m\u001b[0;34m(\u001b[0m\u001b[0;34m)\u001b[0m\u001b[0;34m\u001b[0m\u001b[0m\n",
      "\u001b[0;32m~/anaconda3/lib/python3.6/site-packages/pandas_datareader/base.py\u001b[0m in \u001b[0;36m_read_url_as_StringIO\u001b[0;34m(self, url, params)\u001b[0m\n\u001b[1;32m     88\u001b[0m         \u001b[0mOpen\u001b[0m \u001b[0murl\u001b[0m \u001b[0;34m(\u001b[0m\u001b[0;32mand\u001b[0m \u001b[0mretry\u001b[0m\u001b[0;34m)\u001b[0m\u001b[0;34m\u001b[0m\u001b[0m\n\u001b[1;32m     89\u001b[0m         \"\"\"\n\u001b[0;32m---> 90\u001b[0;31m         \u001b[0mresponse\u001b[0m \u001b[0;34m=\u001b[0m \u001b[0mself\u001b[0m\u001b[0;34m.\u001b[0m\u001b[0m_get_response\u001b[0m\u001b[0;34m(\u001b[0m\u001b[0murl\u001b[0m\u001b[0;34m,\u001b[0m \u001b[0mparams\u001b[0m\u001b[0;34m=\u001b[0m\u001b[0mparams\u001b[0m\u001b[0;34m)\u001b[0m\u001b[0;34m\u001b[0m\u001b[0m\n\u001b[0m\u001b[1;32m     91\u001b[0m         \u001b[0mtext\u001b[0m \u001b[0;34m=\u001b[0m \u001b[0mself\u001b[0m\u001b[0;34m.\u001b[0m\u001b[0m_sanitize_response\u001b[0m\u001b[0;34m(\u001b[0m\u001b[0mresponse\u001b[0m\u001b[0;34m)\u001b[0m\u001b[0;34m\u001b[0m\u001b[0m\n\u001b[1;32m     92\u001b[0m         \u001b[0mout\u001b[0m \u001b[0;34m=\u001b[0m \u001b[0mStringIO\u001b[0m\u001b[0;34m(\u001b[0m\u001b[0;34m)\u001b[0m\u001b[0;34m\u001b[0m\u001b[0m\n",
      "\u001b[0;32m~/anaconda3/lib/python3.6/site-packages/pandas_datareader/base.py\u001b[0m in \u001b[0;36m_get_response\u001b[0;34m(self, url, params, headers)\u001b[0m\n\u001b[1;32m    137\u001b[0m         \u001b[0;32mif\u001b[0m \u001b[0mparams\u001b[0m \u001b[0;32mis\u001b[0m \u001b[0;32mnot\u001b[0m \u001b[0;32mNone\u001b[0m \u001b[0;32mand\u001b[0m \u001b[0mlen\u001b[0m\u001b[0;34m(\u001b[0m\u001b[0mparams\u001b[0m\u001b[0;34m)\u001b[0m \u001b[0;34m>\u001b[0m \u001b[0;36m0\u001b[0m\u001b[0;34m:\u001b[0m\u001b[0;34m\u001b[0m\u001b[0m\n\u001b[1;32m    138\u001b[0m             \u001b[0murl\u001b[0m \u001b[0;34m=\u001b[0m \u001b[0murl\u001b[0m \u001b[0;34m+\u001b[0m \u001b[0;34m\"?\"\u001b[0m \u001b[0;34m+\u001b[0m \u001b[0murlencode\u001b[0m\u001b[0;34m(\u001b[0m\u001b[0mparams\u001b[0m\u001b[0;34m)\u001b[0m\u001b[0;34m\u001b[0m\u001b[0m\n\u001b[0;32m--> 139\u001b[0;31m         \u001b[0;32mraise\u001b[0m \u001b[0mRemoteDataError\u001b[0m\u001b[0;34m(\u001b[0m\u001b[0;34m'Unable to read URL: {0}'\u001b[0m\u001b[0;34m.\u001b[0m\u001b[0mformat\u001b[0m\u001b[0;34m(\u001b[0m\u001b[0murl\u001b[0m\u001b[0;34m)\u001b[0m\u001b[0;34m)\u001b[0m\u001b[0;34m\u001b[0m\u001b[0m\n\u001b[0m\u001b[1;32m    140\u001b[0m \u001b[0;34m\u001b[0m\u001b[0m\n\u001b[1;32m    141\u001b[0m     \u001b[0;32mdef\u001b[0m \u001b[0m_get_crumb\u001b[0m\u001b[0;34m(\u001b[0m\u001b[0mself\u001b[0m\u001b[0;34m,\u001b[0m \u001b[0;34m*\u001b[0m\u001b[0margs\u001b[0m\u001b[0;34m)\u001b[0m\u001b[0;34m:\u001b[0m\u001b[0;34m\u001b[0m\u001b[0m\n",
      "\u001b[0;31mRemoteDataError\u001b[0m: Unable to read URL: https://query1.finance.yahoo.com/v7/finance/download/IBM?period1=1416200400&period2=1510894799&interval=1d&events=history&crumb=oqW5L6ox%5Cu002Ffm"
     ]
    }
   ],
   "source": [
    "%matplotlib inline\n",
    "import matplotlib.pyplot as plt\n",
    "import numpy as np\n",
    "\n",
    "import pandas as pd\n",
    "import datetime\n",
    "from pandas_datareader import data, wb\n",
    "\n",
    "import requests\n",
    "\n",
    "def get_symbol(symbol):\n",
    "    \"\"\"\n",
    "    get_symbol(symbol) uses Yahoo to look up a stock trading symbol and \n",
    "    return a description.\n",
    "    \"\"\"\n",
    "    url = \"http://d.yimg.com/autoc.finance.yahoo.com/autoc?query={}&region=1&lang=en\".format(symbol)\n",
    "    result = requests.get(url).json()\n",
    "    for x in result['ResultSet']['Result']:\n",
    "        if x['symbol'] == symbol:\n",
    "            return x['name']\n",
    "\n",
    "symbol = 'IBM'\n",
    "\n",
    "# end date is today\n",
    "end = datetime.datetime.today().date()\n",
    "start = end-datetime.timedelta(3*365)\n",
    "\n",
    "# get stock price data\n",
    "P = data.DataReader(symbol,\"yahoo\",start,end)['Adj Close']\n",
    "\n",
    "# plot data\n",
    "plt.figure(figsize=(10,6))\n",
    "plt.subplot(3,1,1)\n",
    "P.plot(title=get_symbol(symbol))\n",
    "plt.ylabel('Adjusted Close')\n",
    "plt.grid()\n",
    "\n",
    "plt.subplot(3,1,2)\n",
    "rlin.plot()\n",
    "plt.title('Linear Returns (daily)')\n",
    "plt.grid()\n",
    "plt.tight_layout()\n",
    "\n",
    "plt.subplot(3,1,3)\n",
    "rlog.plot()\n",
    "plt.title('Log Returns (daily)')\n",
    "plt.grid()\n",
    "plt.tight_layout()"
   ]
  },
  {
   "cell_type": "markdown",
   "metadata": {},
   "source": [
    "# Fitting Historical Data to Geometric Brownian Motion\n",
    "\n",
    "For simulation in discrete time, the model for Geometric Brownian Motion can be written as\n",
    "\n",
    "$$S_{t + \\Delta t} = S_t + \\mu S_t \\Delta t + \\sigma S_t \\sqrt{\\Delta t} Z_t $$\n",
    "\n",
    "where $Z_t$ is a normal random variate with zero mean and a standard deviation of one. Alternatively this can be written as \n",
    "\n",
    "$$ \\ln S_{t + \\Delta t} = \\ln S_t + \\nu \\Delta t + \\sigma \\sqrt{\\Delta t} Z_t $$\n",
    "\n",
    "where $\\nu = \\mu -\\frac{\\sigma^2}{2}$. The difference between $\\mu$ and $\\nu$, i.e.  $\\frac{\\sigma^2}{2}$, is referred to as 'volatility drag.' \n",
    "\n",
    "The parameters can be estimated from trading data as\n",
    "\n",
    "\\begin{align*}\n",
    "\\hat{\\mu} & = \\frac{1}{\\Delta t} \\mbox{mean}( S_{t+\\Delta t} - S_t) \\\\\n",
    "\\hat{\\sigma} & = \\frac{1}{\\sqrt{\\Delta t}} \\mbox{stdev}( S_{t+\\Delta t} - S_t) \\\\\n",
    "\\hat{\\nu} & = \\frac{1}{\\Delta t} \\mbox{mean}(\\ln S_{t+\\Delta t} - \\ln S_t)\n",
    "\\end{align*}\n",
    "\n",
    "\n",
    "Note that for trading data time is measured in 'trading days'. On average there are 252 trading days in a year.\n",
    "\n",
    "| Period | Trading Days |\n",
    "| :----: | :----------: |\n",
    "| Year | 252 |\n",
    "| Quarter | 63 |\n",
    "| Month | 21 |"
   ]
  },
  {
   "cell_type": "code",
   "execution_count": 91,
   "metadata": {},
   "outputs": [
    {
     "name": "stdout",
     "output_type": "stream",
     "text": [
      "Linear Returns\n",
      "   mu =   0.00006975  (annualized = 1.76%)\n",
      "sigma =   0.01213524  (annualized = 19.26%)\n",
      "\n",
      "Log Returns\n",
      "   nu =  -0.00000399  (annualized = -0.10%)\n",
      "sigma =   0.01214951  (annualized = 19.29%)\n"
     ]
    }
   ],
   "source": [
    "from scipy.stats import norm\n",
    "\n",
    "rlin = (P - P.shift(1))/P.shift(1)\n",
    "rlog = np.log(P/P.shift(1))\n",
    "\n",
    "rlin = rlin.dropna()\n",
    "rlog = rlog.dropna()\n",
    "\n",
    "print('Linear Returns')\n",
    "mu,sigma = norm.fit(rlin)\n",
    "print('   mu = {0:12.8f}  (annualized = {1:.2f}%)'.format(mu,100*252*mu))\n",
    "print('sigma = {0:12.8f}  (annualized = {1:.2f}%)'.format(sigma,100*np.sqrt(252)*sigma))\n",
    "print()\n",
    "print('Log Returns')\n",
    "nu,sigma = norm.fit(rlog)\n",
    "print('   nu = {0:12.8f}  (annualized = {1:.2f}%)'.format(nu,100*252*nu))\n",
    "print('sigma = {0:12.8f}  (annualized = {1:.2f}%)'.format(sigma,100*np.sqrt(252)*sigma))"
   ]
  },
  {
   "cell_type": "markdown",
   "metadata": {},
   "source": [
    "## Binomial Model\n",
    "\n",
    "The binomial model provides a means of modeling the statistical distribution of future prices. Given a current price $S_t$, in the binomial model there are two possible values for the next observed value $S_{t+\\Delta t}$\n",
    "\n",
    "$$S_{t + \\Delta t} = \\begin{cases} u S_t & \\mbox{with probability } p \\\\ d S_t & \\mbox{with probability } 1-p\\end{cases}$$\n",
    "\n",
    "where $u$, $d$, and $p$ are chosen to match the statistics of a model based on Geometric Brownian Motion. \n",
    "As shown in [Luenberger (2013)](https://global.oup.com/ushe/product/investment-science-9780199740086?cc=us&lang=en&),\n",
    "\n",
    "\\begin{align*}\n",
    "p & = \\frac{1}{2} + \\frac{\\nu\\Delta t}{2\\sqrt{\\sigma^2\\Delta t + (\\nu\\Delta t)^2}} \\\\\n",
    "\\ln u & = \\sqrt{\\sigma^2\\Delta t + (\\nu\\Delta t)^2} \\\\\n",
    "\\ln d & = - \\sqrt{\\sigma^2\\Delta t + (\\nu\\Delta t)^2} \n",
    "\\end{align*}"
   ]
  },
  {
   "cell_type": "code",
   "execution_count": 190,
   "metadata": {},
   "outputs": [
    {
     "name": "stdout",
     "output_type": "stream",
     "text": [
      "Probability (p) =  0.4992\n",
      "  Up Return (u) =  1.0573\n",
      "Down Return (d) =  0.9458\n"
     ]
    }
   ],
   "source": [
    "# Time/period\n",
    "dt = 21\n",
    "\n",
    "p = 0.5 + nu*dt/2/np.sqrt(dt*sigma**2 + (nu*dt)**2)\n",
    "u = np.exp(np.sqrt(dt*sigma**2 + (nu*dt)**2))\n",
    "d = np.exp(-np.sqrt(dt*sigma**2 + (nu*dt)**2))\n",
    "\n",
    "print('Probability (p) = ', round(p,4))\n",
    "print('  Up Return (u) = ', round(u,4))\n",
    "print('Down Return (d) = ', round(d,4))"
   ]
  },
  {
   "cell_type": "markdown",
   "metadata": {},
   "source": [
    "For the purpose of coding, we will use Python dictionaries to store future values of $S$. The future values have two subscripts corresponding to time $t + k\\Delta t$ and state $s$. Given $S_{0,0} = S_t$,\n",
    "\n",
    "\\begin{align*}\n",
    "S_{k + 1, s} & = u S_{k,s} \\\\\n",
    "S_{k + 1, s + 1} & = d S_{k,s}\n",
    "\\end{align*}"
   ]
  },
  {
   "cell_type": "code",
   "execution_count": 194,
   "metadata": {},
   "outputs": [
    {
     "name": "stdout",
     "output_type": "stream",
     "text": [
      "k =  0 : (0)146.97  \n",
      "k =  1 : (0)155.39  (1)139.01  \n",
      "k =  2 : (0)164.28  (1)146.97  (2)131.49  \n",
      "k =  3 : (0)173.69  (1)155.39  (2)139.01  (3)124.36  \n",
      "k =  4 : (0)183.63  (1)164.28  (2)146.97  (3)131.49  (4)117.63  \n",
      "k =  5 : (0)194.15  (1)173.69  (2)155.39  (3)139.01  (4)124.36  (5)111.26  \n",
      "k =  6 : (0)205.27  (1)183.63  (2)164.28  (3)146.97  (4)131.49  (5)117.63  (6)105.23  \n"
     ]
    }
   ],
   "source": [
    "nPeriods = 6\n",
    "\n",
    "S = {}\n",
    "    \n",
    "S[0,0] = P[-1]\n",
    "for k in range(0,nPeriods):\n",
    "    S[k+1,0] = u*S[k,0]\n",
    "    S[k+1,1] = d*S[k,0]\n",
    "    for s in range(1,k+1):\n",
    "        S[k+1,s+1] = d*S[k,s]\n",
    "\n",
    "# display the binomial tree\n",
    "for k in range(0,nPeriods+1):\n",
    "    print('k = ', k,': ',end='')\n",
    "    for s in range(0,k+1):\n",
    "        print(\"({0:d}){1:6.2f}\".format(s,S[k,s]),' ',end='')\n",
    "    print('')"
   ]
  },
  {
   "cell_type": "markdown",
   "metadata": {},
   "source": [
    "## Risk-Neutral Probability"
   ]
  },
  {
   "cell_type": "code",
   "execution_count": 231,
   "metadata": {},
   "outputs": [
    {
     "name": "stdout",
     "output_type": "stream",
     "text": [
      "k =  6 : (0) 85.27  (1) 63.63  (2) 44.28  (3) 26.97  (4) 11.49  (5)  0.00  (6)  0.00  \n",
      "k =  5 : (0) 74.15  (1) 53.69  (2) 35.39  (3) 19.01  (4)  5.58  (5)  0.00  \n",
      "k =  4 : (0) 63.63  (1) 44.28  (2) 26.97  (3) 12.11  (4)  2.71  \n",
      "k =  3 : (0) 53.69  (1) 35.39  (2) 19.33  (3)  7.28  \n",
      "k =  2 : (0) 44.28  (1) 27.14  (2) 13.14  \n",
      "k =  1 : (0) 35.47  (1) 19.94  \n",
      "k =  0 : (0) 27.49  \n"
     ]
    }
   ],
   "source": [
    "r = 0.0\n",
    "\n",
    "q = (1+r-d)/(u-d)\n",
    "\n",
    "K = 120\n",
    "\n",
    "C = {}\n",
    "\n",
    "for s in range(0,nPeriods+1):\n",
    "    C[nPeriods,s] = (max(0,S[nPeriods,s]-K))\n",
    "\n",
    "for k in reversed(range(0,nPeriods)):\n",
    "    for s in range(0,k+1):\n",
    "        C[k,s] = q*C[k+1,s] + (1-q)*C[k+1,s+1]\n",
    "\n",
    "# display the binomial tree\n",
    "for k in reversed(range(0,nPeriods+1)):\n",
    "    print('k = ', k,': ',end='')\n",
    "    for s in range(0,k+1):\n",
    "        print(\"({0:d}){1:6.2f}\".format(s,C[k,s]),' ',end='')\n",
    "    print('')"
   ]
  },
  {
   "cell_type": "markdown",
   "metadata": {},
   "source": [
    "## Pyomo Implementation\n"
   ]
  },
  {
   "cell_type": "code",
   "execution_count": 232,
   "metadata": {},
   "outputs": [
    {
     "name": "stdout",
     "output_type": "stream",
     "text": [
      "k =  6 : (0) 85.27  (1) 63.63  (2) 44.28  (3) 26.97  (4) 11.49  (5)  0.00  (6)  0.00  \n",
      "k =  5 : (0) 74.15  (1) 53.69  (2) 35.39  (3) 19.01  (4)  5.58  (5)  0.00  \n",
      "k =  4 : (0) 63.63  (1) 44.28  (2) 26.97  (3) 12.11  (4)  2.71  \n",
      "k =  3 : (0) 53.69  (1) 35.39  (2) 19.33  (3)  7.28  \n",
      "k =  2 : (0) 44.28  (1) 27.14  (2) 13.14  \n",
      "k =  1 : (0) 35.47  (1) 19.94  \n",
      "k =  0 : (0) 27.49  \n"
     ]
    }
   ],
   "source": [
    "from pyomo.environ import *\n",
    "import pandas as pd\n",
    "\n",
    "m = ConcreteModel()\n",
    "\n",
    "nPeriods = 6\n",
    "Periods = range(0,nPeriods+1)\n",
    "States = range(0,nPeriods+1)\n",
    "\n",
    "m.C = Var(Periods,States,domain=Reals)\n",
    "\n",
    "m.cons = ConstraintList()\n",
    "\n",
    "for s in range(0,nPeriods+1):\n",
    "    m.cons.add(m.C[nPeriods,s] == max(0,S[nPeriods,s]-K))\n",
    "\n",
    "for k in range(0,nPeriods):\n",
    "    for s in range(0,k+1):\n",
    "        m.cons.add(m.C[k,s] == q*m.C[k+1,s] + (1-q)*m.C[k+1,s+1])\n",
    "\n",
    "m.OBJ = Objective(expr = m.C[0,0], sense=minimize)\n",
    "SolverFactory('glpk').solve(m)\n",
    "\n",
    "# display the binomial tree\n",
    "for k in reversed(range(0,nPeriods+1)):\n",
    "    print('k = ', k,': ',end='')\n",
    "    for s in range(0,k+1):\n",
    "        print(\"({0:d}){1:6.2f}\".format(s,m.C[k,s]()),' ',end='')\n",
    "    print('')"
   ]
  },
  {
   "cell_type": "markdown",
   "metadata": {},
   "source": [
    "## Replicating Portfolio"
   ]
  },
  {
   "cell_type": "code",
   "execution_count": 233,
   "metadata": {},
   "outputs": [
    {
     "name": "stdout",
     "output_type": "stream",
     "text": [
      "\n",
      " Call Option\n",
      "k =  0 :  27.49  \n",
      "k =  1 :  35.47   19.94  \n",
      "k =  2 :  44.28   27.14   13.14  \n",
      "k =  3 :  53.69   35.39   19.33    7.28  \n",
      "k =  4 :  63.63   44.28   26.97   12.11    2.71  \n",
      "k =  5 :  74.15   53.69   35.39   19.01    5.58    0.00  \n",
      "k =  6 :  85.27   63.63   44.28   26.97   11.49    0.00    0.00  \n",
      "\n",
      " Hedge Ratio\n",
      "k =  0 :   0.95  \n",
      "k =  1 :   0.99    0.90  \n",
      "k =  2 :   1.00    0.98    0.82  \n",
      "k =  3 :   1.00    1.00    0.96    0.68  \n",
      "k =  4 :   1.00    1.00    1.00    0.92    0.43  \n",
      "k =  5 :   1.00    1.00    1.00    1.00    0.83    0.00  \n",
      "k =  6 :   0.00    0.00    0.00    0.00    0.00    0.00    0.00  \n",
      "\n",
      " Cash Position\n",
      "k =  0 : -111.88  \n",
      "k =  1 : -118.43  -105.69  \n",
      "k =  2 : -120.00  -116.95  -95.05  \n",
      "k =  3 : -120.00  -120.00  -114.06  -77.07  \n",
      "k =  4 : -120.00  -120.00  -120.00  -108.44  -47.40  \n",
      "k =  5 : -120.00  -120.00  -120.00  -120.00  -97.51    0.00  \n",
      "k =  6 :  85.27   63.63   44.28   26.97   11.49   -0.00   -0.00  \n"
     ]
    }
   ],
   "source": [
    "from pyomo.environ import *\n",
    "import pandas as pd\n",
    "\n",
    "m = ConcreteModel()\n",
    "\n",
    "nPeriods = 6\n",
    "Periods = range(0,nPeriods+1)\n",
    "States = range(0,nPeriods+1)\n",
    "\n",
    "# future bond prices\n",
    "B = {}\n",
    "for k in Periods:\n",
    "    B[k] = (1+r)**k\n",
    "\n",
    "m.C = Var(Periods,Periods,domain=Reals)\n",
    "m.x = Var(Periods,Periods,domain=Reals)\n",
    "m.y = Var(Periods,Periods,domain=Reals)\n",
    "\n",
    "m.cons = ConstraintList()\n",
    "\n",
    "for k in range(0,nPeriods+1):\n",
    "    for s in range(0,k+1):\n",
    "        m.cons.add(m.C[k,s] == m.x[k,s]*S[k,s] + m.y[k,s]*B[k])\n",
    "\n",
    "for s in range(0,nPeriods+1):\n",
    "    m.cons.add(m.C[nPeriods,s] >= max(0,S[nPeriods,s] - K))\n",
    "\n",
    "for k in range(0,nPeriods):\n",
    "    for s in range(0,k+1):\n",
    "        m.cons.add(m.x[k,s]*S[k+1,s] + m.y[k,s]*B[k+1] >= m.C[k+1,s])\n",
    "        m.cons.add(m.x[k,s]*S[k+1,s+1] + m.y[k,s]*B[k+1] >= m.C[k+1,s+1])\n",
    "\n",
    "m.OBJ = Objective(expr = m.C[0,0], sense=minimize)\n",
    "SolverFactory('glpk').solve(m)\n",
    "\n",
    "# display the binomial tree\n",
    "print('\\n Call Option')\n",
    "for k in range(0,nPeriods+1):\n",
    "    print('k = ', k,': ',end='')\n",
    "    for s in range(0,k+1):\n",
    "        print(\"{0:6.2f}\".format(m.C[k,s]()),' ',end='')\n",
    "    print('')\n",
    "    \n",
    "# display the binomial tree\n",
    "print('\\n Hedge Ratio')\n",
    "for k in range(0,nPeriods+1):\n",
    "    print('k = ', k,': ',end='')\n",
    "    for s in range(0,k+1):\n",
    "        print(\"{0:6.2f}\".format(m.x[k,s]()),' ',end='')\n",
    "    print('')\n",
    "    \n",
    "# display the binomial tree\n",
    "print('\\n Cash Position')\n",
    "for k in range(0,nPeriods+1):\n",
    "    print('k = ', k,': ',end='')\n",
    "    for s in range(0,k+1):\n",
    "        print(\"{0:6.2f}\".format(m.y[k,s]()*B[k]),' ',end='')\n",
    "    print('')"
   ]
  },
  {
   "cell_type": "markdown",
   "metadata": {},
   "source": [
    "## European Put Option"
   ]
  },
  {
   "cell_type": "code",
   "execution_count": 234,
   "metadata": {},
   "outputs": [
    {
     "name": "stdout",
     "output_type": "stream",
     "text": [
      "\n",
      " Put Option\n",
      "k =  0 :   0.52  \n",
      "k =  1 :   0.08    0.93  \n",
      "k =  2 :   0.00    0.17    1.66  \n",
      "k =  3 :   0.00    0.00    0.32    2.92  \n",
      "k =  4 :   0.00    0.00    0.00    0.63    5.08  \n",
      "k =  5 :   0.00    0.00    0.00    0.00    1.22    8.74  \n",
      "k =  6 :   0.00    0.00    0.00    0.00    0.00    2.37   14.77  \n",
      "\n",
      " Hedge Ratio\n",
      "k =  0 :  -0.05  \n",
      "k =  1 :  -0.01   -0.10  \n",
      "k =  2 :   0.00   -0.02   -0.18  \n",
      "k =  3 :   0.00    0.00   -0.04   -0.32  \n",
      "k =  4 :   0.00    0.00    0.00   -0.08   -0.57  \n",
      "k =  5 :   0.00    0.00    0.00    0.00   -0.17   -1.00  \n",
      "k =  6 :   0.00    0.00    0.00    0.00    0.00    0.00    0.00  \n",
      "\n",
      " Cash Position\n",
      "k =  0 :   8.12  \n",
      "k =  1 :   1.57   14.31  \n",
      "k =  2 :   0.00    3.05   24.95  \n",
      "k =  3 :   0.00    0.00    5.94   42.93  \n",
      "k =  4 :   0.00    0.00    0.00   11.56   72.60  \n",
      "k =  5 :   0.00    0.00    0.00    0.00   22.49  120.00  \n",
      "k =  6 :  -0.00   -0.00   -0.00   -0.00   -0.00    2.37   14.77  \n"
     ]
    }
   ],
   "source": [
    "from pyomo.environ import *\n",
    "import pandas as pd\n",
    "\n",
    "m = ConcreteModel()\n",
    "\n",
    "nPeriods = 6\n",
    "Periods = range(0,nPeriods+1)\n",
    "States = range(0,nPeriods+1)\n",
    "\n",
    "# future bond prices\n",
    "B = {}\n",
    "for k in Periods:\n",
    "    B[k] = (1+r)**k\n",
    "\n",
    "m.P = Var(Periods,Periods,domain=Reals)\n",
    "m.x = Var(Periods,Periods,domain=Reals)\n",
    "m.y = Var(Periods,Periods,domain=Reals)\n",
    "\n",
    "m.cons = ConstraintList()\n",
    "\n",
    "for k in range(0,nPeriods+1):\n",
    "    for s in range(0,k+1):\n",
    "        m.cons.add(m.P[k,s] == m.x[k,s]*S[k,s] + m.y[k,s]*B[k])\n",
    "\n",
    "for s in range(0,nPeriods+1):\n",
    "    m.cons.add(m.P[nPeriods,s] >= max(0,K - S[nPeriods,s]))\n",
    "\n",
    "for k in range(0,nPeriods):\n",
    "    for s in range(0,k+1):\n",
    "        m.cons.add(m.x[k,s]*S[k+1,s] + m.y[k,s]*B[k+1] >= m.P[k+1,s])\n",
    "        m.cons.add(m.x[k,s]*S[k+1,s+1] + m.y[k,s]*B[k+1] >= m.P[k+1,s+1])\n",
    "\n",
    "m.OBJ = Objective(expr = m.P[0,0], sense=minimize)\n",
    "SolverFactory('glpk').solve(m)\n",
    "\n",
    "# display the binomial tree\n",
    "print('\\n Put Option')\n",
    "for k in range(0,nPeriods+1):\n",
    "    print('k = ', k,': ',end='')\n",
    "    for s in range(0,k+1):\n",
    "        print(\"{0:6.2f}\".format(m.P[k,s]()),' ',end='')\n",
    "    print('')\n",
    "    \n",
    "# display the binomial tree\n",
    "print('\\n Hedge Ratio')\n",
    "for k in range(0,nPeriods+1):\n",
    "    print('k = ', k,': ',end='')\n",
    "    for s in range(0,k+1):\n",
    "        print(\"{0:6.2f}\".format(m.x[k,s]()),' ',end='')\n",
    "    print('')\n",
    "    \n",
    "# display the binomial tree\n",
    "print('\\n Cash Position')\n",
    "for k in range(0,nPeriods+1):\n",
    "    print('k = ', k,': ',end='')\n",
    "    for s in range(0,k+1):\n",
    "        print(\"{0:6.2f}\".format(m.y[k,s]()*B[k]),' ',end='')\n",
    "    print('')"
   ]
  },
  {
   "cell_type": "markdown",
   "metadata": {},
   "source": [
    "## American Put Option"
   ]
  },
  {
   "cell_type": "code",
   "execution_count": 235,
   "metadata": {},
   "outputs": [
    {
     "name": "stdout",
     "output_type": "stream",
     "text": [
      "\n",
      " Put Option\n",
      "k =  0 :   0.52  \n",
      "k =  1 :   0.08    0.93  \n",
      "k =  2 :   0.00    0.17    1.66  \n",
      "k =  3 :   0.00    0.00    0.32    2.92  \n",
      "k =  4 :   0.00    0.00    0.00    0.63    5.08  \n",
      "k =  5 :   0.00    0.00    0.00    0.00    1.22    8.74  \n",
      "k =  6 :   0.00    0.00    0.00    0.00    0.00    2.37   14.77  \n",
      "\n",
      " Hedge Ratio\n",
      "k =  0 :  -0.05  \n",
      "k =  1 :  -0.01   -0.10  \n",
      "k =  2 :   0.00   -0.02   -0.18  \n",
      "k =  3 :   0.00    0.00   -0.04   -0.32  \n",
      "k =  4 :   0.00    0.00    0.00   -0.08   -0.57  \n",
      "k =  5 :   0.00    0.00    0.00    0.00   -0.17   -1.00  \n",
      "k =  6 :   0.00    0.00    0.00    0.00    0.00    0.00    0.00  \n",
      "\n",
      " Cash Position\n",
      "k =  0 :   8.12  \n",
      "k =  1 :   1.57   14.31  \n",
      "k =  2 :   0.00    3.05   24.95  \n",
      "k =  3 :   0.00    0.00    5.94   42.93  \n",
      "k =  4 :   0.00    0.00    0.00   11.56   72.60  \n",
      "k =  5 :   0.00    0.00    0.00    0.00   22.49  120.00  \n",
      "k =  6 :  -0.00   -0.00   -0.00   -0.00   -0.00    2.37   14.77  \n"
     ]
    }
   ],
   "source": [
    "from pyomo.environ import *\n",
    "import pandas as pd\n",
    "\n",
    "m = ConcreteModel()\n",
    "\n",
    "nPeriods = 6\n",
    "Periods = range(0,nPeriods+1)\n",
    "States = range(0,nPeriods+1)\n",
    "\n",
    "# future bond prices\n",
    "B = {}\n",
    "for k in Periods:\n",
    "    B[k] = (1+r)**k\n",
    "\n",
    "m.P = Var(Periods,Periods,domain=Reals)\n",
    "m.x = Var(Periods,Periods,domain=Reals)\n",
    "m.y = Var(Periods,Periods,domain=Reals)\n",
    "\n",
    "m.cons = ConstraintList()\n",
    "\n",
    "for k in range(0,nPeriods+1):\n",
    "    for s in range(0,k+1):\n",
    "        m.cons.add(m.P[k,s] == m.x[k,s]*S[k,s] + m.y[k,s]*B[k])\n",
    "\n",
    "for s in range(0,nPeriods+1):\n",
    "    m.cons.add(m.P[nPeriods,s] >= max(0,K - S[nPeriods,s]))\n",
    "\n",
    "for k in range(0,nPeriods):\n",
    "    for s in range(0,k+1):\n",
    "        m.cons.add(m.x[k,s]*S[k+1,s] + m.y[k,s]*B[k+1] >= m.P[k+1,s])\n",
    "        m.cons.add(m.x[k,s]*S[k+1,s+1] + m.y[k,s]*B[k+1] >= m.P[k+1,s+1])\n",
    "\n",
    "for k in range(0,nPeriods):\n",
    "    for s in range(0,k+1):\n",
    "        m.cons.add(m.x[k,s]*S[k+1,s] + m.y[k,s]*B[k+1] >= K - S[k+1,s])\n",
    "        m.cons.add(m.x[k,s]*S[k+1,s+1] + m.y[k,s]*B[k+1] >= K - S[k+1,s+1])\n",
    "\n",
    "m.OBJ = Objective(expr = m.P[0,0], sense=minimize)\n",
    "SolverFactory('glpk').solve(m)\n",
    "\n",
    "# display the binomial tree\n",
    "print('\\n Put Option')\n",
    "for k in range(0,nPeriods+1):\n",
    "    print('k = ', k,': ',end='')\n",
    "    for s in range(0,k+1):\n",
    "        print(\"{0:6.2f}\".format(m.P[k,s]()),' ',end='')\n",
    "    print('')\n",
    "    \n",
    "# display the binomial tree\n",
    "print('\\n Hedge Ratio')\n",
    "for k in range(0,nPeriods+1):\n",
    "    print('k = ', k,': ',end='')\n",
    "    for s in range(0,k+1):\n",
    "        print(\"{0:6.2f}\".format(m.x[k,s]()),' ',end='')\n",
    "    print('')\n",
    "    \n",
    "# display the binomial tree\n",
    "print('\\n Cash Position')\n",
    "for k in range(0,nPeriods+1):\n",
    "    print('k = ', k,': ',end='')\n",
    "    for s in range(0,k+1):\n",
    "        print(\"{0:6.2f}\".format(m.y[k,s]()*B[k]),' ',end='')\n",
    "    print('')"
   ]
  }
 ],
 "metadata": {
  "kernelspec": {
   "display_name": "Python 3",
   "language": "python",
   "name": "python3"
  },
  "language_info": {
   "codemirror_mode": {
    "name": "ipython",
    "version": 3
   },
   "file_extension": ".py",
   "mimetype": "text/x-python",
   "name": "python",
   "nbconvert_exporter": "python",
   "pygments_lexer": "ipython3",
   "version": "3.6.3"
  }
 },
 "nbformat": 4,
 "nbformat_minor": 1
}
