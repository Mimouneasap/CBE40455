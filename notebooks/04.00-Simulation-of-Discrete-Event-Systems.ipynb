{
 "cells": [
  {
   "cell_type": "markdown",
   "metadata": {
    "pycharm": {}
   },
   "source": [
    "<!--COURSE_INFORMATION-->\n",
    "*This notebook contains course material from [CBE 40455 Process Operations](http://jckantor.github.io/CBE40455/) by Jeffrey Kantor (jeff at nd.edu); the content is available [on GitHub](https://github.com/jckantor/CBE40455).*\n",
    "*The text is released under the [CC-BY-NC-ND-4.0 license](https://creativecommons.org/licenses/by-nc-nd/4.0/legalcode), and code is released under the [MIT license](https://opensource.org/licenses/MIT).*\n"
   ]
  },
  {
   "cell_type": "markdown",
   "metadata": {
    "pycharm": {}
   },
   "source": [
    "<!--NAVIGATION-->\n",
    "< [Scheduling Multipurpose Batch Processes using State-Task Networks](03.05-Scheduling-Multipurpose-Batch-Processes-using-State-Task-Networks.ipynb) | [Contents](index.ipynb) | [Logistics](05.00-Logistics.ipynb) >\n",
    "\n",
    "<a href=\"https://colab.research.google.com/github/jckantor/CBE40455/blob/master/notebooks/04.00-Simulation-of-Discrete-Event-Systems.ipynb\"><img align=\"left\" src=\"https://colab.research.google.com/assets/colab-badge.svg\" alt=\"Open in Colab\" title=\"Open and Execute in Google Colaboratory\"></a>\n"
   ]
  },
  {
   "cell_type": "markdown",
   "metadata": {
    "collapsed": true,
    "pycharm": {
     "name": "#%% md\n"
    }
   },
   "source": [
    "# Simulation of Discrete Event Systems\n"
   ]
  },
  {
   "cell_type": "markdown",
   "metadata": {
    "pycharm": {}
   },
   "source": [
    "<!--NAVIGATION-->\n",
    "< [Scheduling Multipurpose Batch Processes using State-Task Networks](03.05-Scheduling-Multipurpose-Batch-Processes-using-State-Task-Networks.ipynb) | [Contents](index.ipynb) | [Logistics](05.00-Logistics.ipynb) >\n",
    "\n",
    "<a href=\"https://colab.research.google.com/github/jckantor/CBE40455/blob/master/notebooks/04.00-Simulation-of-Discrete-Event-Systems.ipynb\"><img align=\"left\" src=\"https://colab.research.google.com/assets/colab-badge.svg\" alt=\"Open in Colab\" title=\"Open and Execute in Google Colaboratory\"></a>\n"
   ]
  }
 ],
 "metadata": {
  "kernelspec": {
   "display_name": "Python 2",
   "language": "python",
   "name": "python2"
  },
  "language_info": {
   "codemirror_mode": {
    "name": "ipython",
    "version": 2
   },
   "file_extension": ".py",
   "mimetype": "text/x-python",
   "name": "python",
   "nbconvert_exporter": "python",
   "pygments_lexer": "ipython2",
   "version": "2.7.6"
  }
 },
 "nbformat": 4,
 "nbformat_minor": 0
}
