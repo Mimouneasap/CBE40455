{
 "cells": [
  {
   "cell_type": "markdown",
   "metadata": {},
   "source": [
    "<!--COURSE_INFORMATION-->\n",
    "*This notebook contains course material from [CBE 40455 Process Operations](http://jckantor.github.io/CBE40455/) by Jeffrey Kantor (jeff at nd.edu); the content is available [on GitHub](https://github.com/jckantor/CBE40455).*\n",
    "*The text is released under the [CC-BY-NC-ND-4.0 license](https://creativecommons.org/licenses/by-nc-nd/4.0/legalcode), and code is released under the [MIT license](https://opensource.org/licenses/MIT).*\n"
   ]
  },
  {
   "cell_type": "markdown",
   "metadata": {},
   "source": [
    "<!--NAVIGATION-->\n",
    "< [#### The latest version of this Jupyter notebook is available at [http://github.com/jckantor/CBE40455](http://github.com/jckantor/CBE20255)  for noncommercial use under terms of the [Creative Commons Attribution Noncommericial ShareAlike License](http://creativecommons.org/licenses/by-nc-sa/4.0/).](05.06-Pickup-and-Delivery.ipynb) | [Contents](index.ipynb) | [Optimization under Uncertainty](06.00-Optimization-under-Uncertainty.ipynb) >\n",
    "\n",
    "<a href=\"https://colab.research.google.com/github/jckantor/CBE40455/blob/master/notebooks/05.07-Stock-Cutting.ipynb\"><img align=\"left\" src=\"https://colab.research.google.com/assets/colab-badge.svg\" alt=\"Open in Colab\" title=\"Open and Execute in Google Colaboratory\"></a>\n"
   ]
  },
  {
   "cell_type": "markdown",
   "metadata": {},
   "source": [
    "##### The latest version of this IPython notebook is available at [http://github.com/jckantor/CBE20255](http://github.com/jckantor/CBE20255)  for noncommercial use under terms of the [Creative Commons Attribution Noncommericial ShareAlike License](http://creativecommons.org/licenses/by-nc-sa/4.0/).\n",
    "\n",
    "J.C. Kantor (Kantor.1@nd.edu)"
   ]
  },
  {
   "cell_type": "markdown",
   "metadata": {},
   "source": [
    "# Stock Cutting"
   ]
  },
  {
   "cell_type": "markdown",
   "metadata": {},
   "source": [
    "This [IPython notebook](http://ipython.org/notebook.html) demonstrates the formulation and solution of stock cutting problems using GLPK/Mathprog."
   ]
  },
  {
   "cell_type": "markdown",
   "metadata": {},
   "source": [
    "## Background"
   ]
  },
  {
   "cell_type": "markdown",
   "metadata": {},
   "source": [
    "<p>\n",
    "    The stock cutting problem is to minimize the waste\n",
    "    associated with cutting up stock materials to produce a set of products. \n",
    "    Examples of the one dimensional problem include cutting lengths\n",
    "    of steel bar into a set of products, cutting wide paper rolls into smaller ones,\n",
    "    and cutting dimensioned lumber to meet the production\n",
    "    needs of furniture shops.\n",
    "</p>\n",
    "<p>\n",
    "    In large scale applications the stock cutting problem begins with a\n",
    "    base set of cutting patterns. Each cutting pattern breaks a piece of stock into\n",
    "    a set of products. The base calculation is to find a mix of\n",
    "    cutting patterns to meet product requirements. A secondary problem is \n",
    "    solved to find additional cutting patterns with the potential to reduce\n",
    "    costs. The solution then proceeds iteratively with new patterns are \n",
    "    generated 'on the fly' coupled with a branch and bound search to find\n",
    "    an optimal solution. This approach is called 'column generation.'\n",
    "</p>\n",
    "<p>\n",
    "    As demonstrated below, for small scale problems the stock cutting\n",
    "    problem can be formulated as an assignment of product pieces to stock pieces.\n",
    "    For this example the data consists of a list of product\n",
    "    types, lengths and demand.\n",
    "    The example incorporates multiple types of raw materials. The objective\n",
    "    is to maximize the number of pieces of stock material that are left uncut.\n",
    "</p>\n",
    "<p>\n",
    "    An aspect of this problem is the high degree of solution \n",
    "    symmetry. The number of\n",
    "    equivalent solutions is a combinatorial function of the number of identical\n",
    "    pieces of raw of materials. In these cases a solver may quickly find a \n",
    "    solution but then need to search many equivalent solutions to verify\n",
    "    optimality. This example uses a weighted objective to \n",
    "    separate otherwise equivalent solutions.\n",
    "</p>\n",
    "<p>\n",
    "    To repeat, this approach will not work for larger problems due to the \n",
    "    excessive number of binary variables required and high degree of solution \n",
    "    symmetry. Consult the <a href=\"https://code.google.com/p/cspsol/\">cspsol project</a> \n",
    "    for a solution method using column generation and glpk api.\n",
    "</p>\n"
   ]
  },
  {
   "cell_type": "code",
   "execution_count": 1,
   "metadata": {
    "collapsed": false
   },
   "outputs": [
    {
     "name": "stdout",
     "output_type": "stream",
     "text": [
      "Overwriting tmp/input.dat\n"
     ]
    }
   ],
   "source": [
    "%%writefile tmp/input.dat\n",
    "\n",
    "data;\n",
    "\n",
    "param bigM := 20;\n",
    "\n",
    "param: PRODUCTS: pLength demand :=\n",
    "        '7m'        7        3\n",
    "        '6m'        6        2\n",
    "        '4m'        4        6\n",
    "        '3m'        3        1 ;\n",
    "  \n",
    "param: RAWMATERIALS: rLength avail := \n",
    "       '15m'       15        3\n",
    "       '10m'       10        3 ;\n",
    "  \n",
    "end;"
   ]
  },
  {
   "cell_type": "code",
   "execution_count": 2,
   "metadata": {
    "collapsed": false
   },
   "outputs": [
    {
     "name": "stdout",
     "output_type": "stream",
     "text": [
      "GLPSOL: GLPK LP/MIP Solver, v4.52\n",
      "Parameter(s) specified in the command line:\n",
      " -m /dev/stdin -d tmp/input.dat -y tmp/output.txt\n",
      "Reading model section from /dev/stdin...\n",
      "86 lines were read\n",
      "Reading data section from tmp/input.dat...\n",
      "tmp/input.dat:16: warning: final NL missing before end of file\n",
      "16 lines were read\n",
      "Checking (line 16)...\n",
      "Generating A...\n",
      "Generating B...\n",
      "Generating C...\n",
      "Generating D...\n",
      "Generating Pieces...\n",
      "Model has been successfully generated\n",
      "GLPK Integer Optimizer, v4.52\n",
      "29 rows, 84 columns, 306 non-zeros\n",
      "78 integer variables, all of which are binary\n",
      "Preprocessing...\n",
      "6 constraint coefficient(s) were reduced\n",
      "28 rows, 78 columns, 294 non-zeros\n",
      "78 integer variables, all of which are binary\n",
      "Scaling...\n",
      " A: min|aij| =  1.000e+00  max|aij| =  1.200e+01  ratio =  1.200e+01\n",
      "GM: min|aij| =  8.091e-01  max|aij| =  1.236e+00  ratio =  1.528e+00\n",
      "EQ: min|aij| =  6.547e-01  max|aij| =  1.000e+00  ratio =  1.528e+00\n",
      "2N: min|aij| =  3.750e-01  max|aij| =  1.500e+00  ratio =  4.000e+00\n",
      "Constructing initial basis...\n",
      "Size of triangular part is 24\n",
      "Solving LP relaxation...\n",
      "GLPK Simplex Optimizer, v4.52\n",
      "28 rows, 78 columns, 294 non-zeros\n",
      "      0: obj =   0.000000000e+00  infeas =  3.650e+01 (4)\n",
      "*    25: obj =   3.046130952e+01  infeas =  4.441e-16 (4)\n",
      "*    53: obj =   1.920138889e+01  infeas =  4.441e-16 (4)\n",
      "OPTIMAL LP SOLUTION FOUND\n",
      "Integer optimization begins...\n",
      "+    53: mip =     not found yet >=              -inf        (1; 0)\n",
      "+   412: >>>>>   1.300000000e+02 >=   5.500000000e+01  57.7% (25; 2)\n",
      "Solution found by heuristic: 120\n",
      "+  2605: >>>>>   1.050000000e+02 >=   1.050000000e+02   0.0% (16; 850)\n",
      "+  2605: mip =   1.050000000e+02 >=     tree is empty   0.0% (0; 915)\n",
      "INTEGER OPTIMAL SOLUTION FOUND\n",
      "Time used:   0.1 secs\n",
      "Memory used: 0.3 Mb (332731 bytes)\n",
      "Writing products...\n",
      "Writing rawmaterials...\n",
      "Model has been successfully processed\n"
     ]
    }
   ],
   "source": [
    "%%script glpsol -m /dev/stdin -d tmp/input.dat -y tmp/output.txt\n",
    "\n",
    "# Stock Cutting Problem\n",
    "\n",
    "# Products\n",
    "set PRODUCTS;\n",
    "param pLength{PRODUCTS};\n",
    "param demand{PRODUCTS};\n",
    "\n",
    "# Raw Materials\n",
    "set RAWMATERIALS;\n",
    "param rLength{RAWMATERIALS};\n",
    "param avail{RAWMATERIALS};\n",
    "\n",
    "# Big M should be greater than the length of any stock piece\n",
    "param bigM;\n",
    "check {r in RAWMATERIALS} : bigM > rLength[r];\n",
    "\n",
    "# Create indexed sets enumerating all production pieces\n",
    "set Q{p in PRODUCTS} := 1..demand[p] ;\n",
    "\n",
    "# Create indexed sets enumerating all raw material pieces\n",
    "set S{r in RAWMATERIALS} := 1..avail[r];\n",
    "\n",
    "# y[p,q,r,s] = 1 assigns (product p, piece q) to (raw material r, piece s)\n",
    "var y{p in PRODUCTS, q in Q[p], r in RAWMATERIALS, s in S[r]} binary;\n",
    "\n",
    "# u[r,s] = 1 indicates use of (raw material r, piece s)\n",
    "var u{r in RAWMATERIALS, s in S[r]} binary;\n",
    "\n",
    "# w[r,s] is the remainder left over from (raw material r, piece s)\n",
    "var w{r in RAWMATERIALS, s in S[r]} >= 0;\n",
    "\n",
    "# Assign product (p,q) only once to the set of all raw materials (r,s)\n",
    "s.t. A{p in PRODUCTS, q in Q[p]} : sum{r in RAWMATERIALS, s in S[r]} y[p,q,r,s] = 1;\n",
    "\n",
    "# Cut enough pieces to exactly meet the demand for each product\n",
    "s.t. B{p in PRODUCTS} : sum{q in Q[p], r in RAWMATERIALS, s in S[r]} y[p,q,r,s] = demand[p];\n",
    "\n",
    "# Do not exceed the length each piece of raw material\n",
    "s.t. C{r in RAWMATERIALS, s in S[r]} : \n",
    "    sum{p in PRODUCTS, q in Q[p]} pLength[p]*y[p,q,r,s] + w[r,s] = rLength[r];\n",
    "    \n",
    "# Determine if a piece (r,s) of raw material is used.\n",
    "s.t. D{r in RAWMATERIALS, s in S[r]} : bigM*u[r,s] >= sum{p in PRODUCTS, q in Q[p]} y[p,q,r,s];\n",
    "\n",
    "minimize Pieces : sum{r in RAWMATERIALS, s in S[r]} rLength[r]*s*u[r,s];\n",
    "\n",
    "solve;\n",
    "\n",
    "table products {p in PRODUCTS} OUT \"CSV\" \"tmp/Products.csv\" \"Table\" : \n",
    "    p~Product, pLength[p]~Length, demand[p]~Demand;\n",
    "\n",
    "table rawmaterials {r in RAWMATERIALS} OUT \"CSV\" \"tmp/Raw_Materials.csv\" \"Table\" : \n",
    "    r~Raw_Materials, rLength[r]~Length, avail[r]~Available;\n",
    "\n",
    "printf \"Cutting Plan\\n\";\n",
    "for {r in RAWMATERIALS} : {\n",
    "    printf \"    Raw Material %s \\n\", r;\n",
    "    for {s in S[r]} : {\n",
    "        printf \"        Piece %s-%d : Remainder = %5.2f : Cut product pieces \", r,s, w[r,s];\n",
    "        for {p in PRODUCTS} : {\n",
    "            for {q in Q[p] : y[p,q,r,s]} : {\n",
    "                printf \"%s-%d \", p, q;\n",
    "            }\n",
    "        }\n",
    "        printf \"\\n\";\n",
    "    }\n",
    "    printf \"\\n\";\n",
    "}\n",
    "\n",
    "printf \"Production Plan\\n\";\n",
    "for {p in PRODUCTS} : {\n",
    "    printf \"    Product %s \\n\", p;\n",
    "    for {q in Q[p]} : {\n",
    "        printf \"        Piece %s-%d : Cut from stock piece \", p, q;\n",
    "        for {r in RAWMATERIALS} : {\n",
    "            for {s in S[r] : y[p,q,r,s]} : {\n",
    "                printf \"%s-%d \", r, s;\n",
    "            }\n",
    "        }\n",
    "        printf \"\\n\";\n",
    "    }\n",
    "    printf \"\\n\";\n",
    "}\n",
    "  \n",
    "end;\n"
   ]
  },
  {
   "cell_type": "code",
   "execution_count": 3,
   "metadata": {
    "collapsed": false
   },
   "outputs": [
    {
     "name": "stdout",
     "output_type": "stream",
     "text": [
      "Cutting Plan\n",
      "    Raw Material 15m \n",
      "        Piece 15m-1 : Remainder =  0.00 : Cut product pieces 7m-3 4m-1 4m-4 \n",
      "        Piece 15m-2 : Remainder =  0.00 : Cut product pieces 7m-1 4m-2 4m-3 \n",
      "        Piece 15m-3 : Remainder = 15.00 : Cut product pieces \n",
      "\n",
      "    Raw Material 10m \n",
      "        Piece 10m-1 : Remainder =  0.00 : Cut product pieces 6m-1 4m-5 \n",
      "        Piece 10m-2 : Remainder =  0.00 : Cut product pieces 6m-2 4m-6 \n",
      "        Piece 10m-3 : Remainder =  0.00 : Cut product pieces 7m-2 3m-1 \n",
      "\n",
      "Production Plan\n",
      "    Product 7m \n",
      "        Piece 7m-1 : Cut from stock piece 15m-2 \n",
      "        Piece 7m-2 : Cut from stock piece 10m-3 \n",
      "        Piece 7m-3 : Cut from stock piece 15m-1 \n",
      "\n",
      "    Product 6m \n",
      "        Piece 6m-1 : Cut from stock piece 10m-1 \n",
      "        Piece 6m-2 : Cut from stock piece 10m-2 \n",
      "\n",
      "    Product 4m \n",
      "        Piece 4m-1 : Cut from stock piece 15m-1 \n",
      "        Piece 4m-2 : Cut from stock piece 15m-2 \n",
      "        Piece 4m-3 : Cut from stock piece 15m-2 \n",
      "        Piece 4m-4 : Cut from stock piece 15m-1 \n",
      "        Piece 4m-5 : Cut from stock piece 10m-1 \n",
      "        Piece 4m-6 : Cut from stock piece 10m-2 \n",
      "\n",
      "    Product 3m \n",
      "        Piece 3m-1 : Cut from stock piece 10m-3 \n",
      "\n",
      "\n"
     ]
    }
   ],
   "source": [
    "f = open(\"tmp/output.txt\")\n",
    "print(f.read())\n",
    "f.close()"
   ]
  },
  {
   "cell_type": "code",
   "execution_count": 4,
   "metadata": {
    "collapsed": false
   },
   "outputs": [
    {
     "data": {
      "text/html": [
       "<div>\n",
       "<table border=\"1\" class=\"dataframe\">\n",
       "  <thead>\n",
       "    <tr style=\"text-align: right;\">\n",
       "      <th></th>\n",
       "      <th>Product</th>\n",
       "      <th>Length</th>\n",
       "      <th>Demand</th>\n",
       "    </tr>\n",
       "  </thead>\n",
       "  <tbody>\n",
       "    <tr>\n",
       "      <th>0</th>\n",
       "      <td>7m</td>\n",
       "      <td>7</td>\n",
       "      <td>3</td>\n",
       "    </tr>\n",
       "    <tr>\n",
       "      <th>1</th>\n",
       "      <td>6m</td>\n",
       "      <td>6</td>\n",
       "      <td>2</td>\n",
       "    </tr>\n",
       "    <tr>\n",
       "      <th>2</th>\n",
       "      <td>4m</td>\n",
       "      <td>4</td>\n",
       "      <td>6</td>\n",
       "    </tr>\n",
       "    <tr>\n",
       "      <th>3</th>\n",
       "      <td>3m</td>\n",
       "      <td>3</td>\n",
       "      <td>1</td>\n",
       "    </tr>\n",
       "  </tbody>\n",
       "</table>\n",
       "</div>"
      ],
      "text/plain": [
       "  Product  Length  Demand\n",
       "0      7m       7       3\n",
       "1      6m       6       2\n",
       "2      4m       4       6\n",
       "3      3m       3       1"
      ]
     },
     "execution_count": 4,
     "metadata": {},
     "output_type": "execute_result"
    }
   ],
   "source": [
    "import pandas\n",
    "\n",
    "pandas.read_csv(\"tmp/Products.csv\")"
   ]
  },
  {
   "cell_type": "code",
   "execution_count": 5,
   "metadata": {
    "collapsed": false
   },
   "outputs": [
    {
     "data": {
      "text/html": [
       "<div>\n",
       "<table border=\"1\" class=\"dataframe\">\n",
       "  <thead>\n",
       "    <tr style=\"text-align: right;\">\n",
       "      <th></th>\n",
       "      <th>Raw_Materials</th>\n",
       "      <th>Length</th>\n",
       "      <th>Available</th>\n",
       "    </tr>\n",
       "  </thead>\n",
       "  <tbody>\n",
       "    <tr>\n",
       "      <th>0</th>\n",
       "      <td>15m</td>\n",
       "      <td>15</td>\n",
       "      <td>3</td>\n",
       "    </tr>\n",
       "    <tr>\n",
       "      <th>1</th>\n",
       "      <td>10m</td>\n",
       "      <td>10</td>\n",
       "      <td>3</td>\n",
       "    </tr>\n",
       "  </tbody>\n",
       "</table>\n",
       "</div>"
      ],
      "text/plain": [
       "  Raw_Materials  Length  Available\n",
       "0           15m      15          3\n",
       "1           10m      10          3"
      ]
     },
     "execution_count": 5,
     "metadata": {},
     "output_type": "execute_result"
    }
   ],
   "source": [
    "pandas.read_csv(\"tmp/Raw_Materials.csv\")"
   ]
  },
  {
   "cell_type": "code",
   "execution_count": null,
   "metadata": {
    "collapsed": false
   },
   "outputs": [],
   "source": []
  },
  {
   "cell_type": "markdown",
   "metadata": {},
   "source": [
    "<!--NAVIGATION-->\n",
    "< [#### The latest version of this Jupyter notebook is available at [http://github.com/jckantor/CBE40455](http://github.com/jckantor/CBE20255)  for noncommercial use under terms of the [Creative Commons Attribution Noncommericial ShareAlike License](http://creativecommons.org/licenses/by-nc-sa/4.0/).](05.06-Pickup-and-Delivery.ipynb) | [Contents](index.ipynb) | [Optimization under Uncertainty](06.00-Optimization-under-Uncertainty.ipynb) >\n",
    "\n",
    "<a href=\"https://colab.research.google.com/github/jckantor/CBE40455/blob/master/notebooks/05.07-Stock-Cutting.ipynb\"><img align=\"left\" src=\"https://colab.research.google.com/assets/colab-badge.svg\" alt=\"Open in Colab\" title=\"Open and Execute in Google Colaboratory\"></a>\n"
   ]
  }
 ],
 "metadata": {
  "kernelspec": {
   "display_name": "Python 2",
   "language": "python",
   "name": "python2"
  },
  "language_info": {
   "codemirror_mode": {
    "name": "ipython",
    "version": 2
   },
   "file_extension": ".py",
   "mimetype": "text/x-python",
   "name": "python",
   "nbconvert_exporter": "python",
   "pygments_lexer": "ipython2",
   "version": "2.7.10"
  }
 },
 "nbformat": 4,
 "nbformat_minor": 0
}
