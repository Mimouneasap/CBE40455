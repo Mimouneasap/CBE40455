{
 "cells": [
  {
   "cell_type": "markdown",
   "metadata": {},
   "source": [
    "# Getting Started with APMonitor"
   ]
  },
  {
   "cell_type": "markdown",
   "metadata": {},
   "source": [
    "This [IPython notebook](http://ipython.org/notebook.html) demonstrates the use of APMonitor from an iPython notebook. The video is used with permission from [learnCheme.com](http://learncheme.ning.com/), a project at the University of Colorado funded by the National Science Foundation and the Shell Corporation.\n",
    "\n",
    "J.C. Kantor (Kantor.1@nd.edu)\n",
    "\n",
    "The latest version of this IPython notebook is available at [http://github.com/jckantor/CBE20255](http://github.com/jckantor/CBE20255)  for noncommercial use under terms of the [Creative Commons Attribution Noncommericial ShareAlike License](http://creativecommons.org/licenses/by-nc-sa/4.0/)."
   ]
  },
  {
   "cell_type": "markdown",
   "metadata": {},
   "source": [
    "## Using APMonitor from an iPython Notebook"
   ]
  },
  {
   "cell_type": "markdown",
   "metadata": {},
   "source": [
    "[APMonitor](http://apmonitor.com/) ('Advanced Process Monitor') is a system for modeling and solving engineering problems. The system consists of a simple, non-procedural language for describing a mathematical model, solvers that reside on remote servers, and software tools for managing the process of obtaining a solution to specific problems."
   ]
  },
  {
   "cell_type": "markdown",
   "metadata": {},
   "source": [
    "## Example 1. Solving simple material balances"
   ]
  },
  {
   "cell_type": "markdown",
   "metadata": {},
   "source": [
    "### Problem Statement"
   ]
  },
  {
   "cell_type": "code",
   "execution_count": 1,
   "metadata": {
    "collapsed": false
   },
   "outputs": [
    {
     "data": {
      "text/html": [
       "\n",
       "        <iframe\n",
       "            width=\"560\"\n",
       "            height=315\"\n",
       "            src=\"https://www.youtube.com/embed/KrrZB5LvXF4?start=0&end=72\"\n",
       "            frameborder=\"0\"\n",
       "            allowfullscreen\n",
       "        ></iframe>\n",
       "        "
      ],
      "text/plain": [
       "<IPython.lib.display.YouTubeVideo at 0x107dff810>"
      ]
     },
     "execution_count": 1,
     "metadata": {},
     "output_type": "execute_result"
    }
   ],
   "source": [
    "from IPython.display import YouTubeVideo\n",
    "YouTubeVideo(\"KrrZB5LvXF4\",560,315,start=0,end=72)"
   ]
  },
  {
   "cell_type": "markdown",
   "metadata": {},
   "source": [
    "### Solution"
   ]
  },
  {
   "cell_type": "markdown",
   "metadata": {},
   "source": [
    "####Step 1. Create the APMonitor Model\n",
    "\n",
    "For this problem a viable model has two key parts. The first describes the variables for the problem which, in this case, are molar flowrates. Below we demonstrate the declaration of two molar flowrates with subscripts, and restricted to be variables greater than zero. (It's always a good idea to include and known constraints on variables.)\n",
    "\n",
    "The second part lists the equations. In the case the equations are linear. Notice that the equations are simply declarations of algebraic relationships. They declare relationships, they do not tell the computer how to do the needed calculations."
   ]
  },
  {
   "cell_type": "code",
   "execution_count": 1,
   "metadata": {
    "collapsed": false
   },
   "outputs": [
    {
     "name": "stdout",
     "output_type": "stream",
     "text": [
      "Overwriting ex1.apm\n"
     ]
    }
   ],
   "source": [
    "%%writefile ex1.apm\n",
    "\n",
    "Variables\n",
    "  N[1] >= 0\n",
    "  N[2] >= 0\n",
    "End Variables\n",
    "\n",
    "Equations\n",
    "  100 = N[1] + N[2]\n",
    "  30 = 0.7*N[1] + 0.2*N[2]\n",
    "End Equations"
   ]
  },
  {
   "cell_type": "code",
   "execution_count": 19,
   "metadata": {
    "collapsed": false
   },
   "outputs": [],
   "source": [
    "import apm"
   ]
  },
  {
   "cell_type": "markdown",
   "metadata": {},
   "source": [
    "####Step 2. Call the Solver\n",
    "\n",
    "The solver is called using apm_solve from the apm python package. apm_solve requires two arguments. The first is the name of the file in which the model has been saved, and the second is a flag describing the type of problem to be solved. A system of steady-state equations with no degrees of freedom is type = 1."
   ]
  },
  {
   "cell_type": "code",
   "execution_count": 20,
   "metadata": {
    "collapsed": false
   },
   "outputs": [],
   "source": [
    "soln = apm.apm.apm_solve('ex1',1)"
   ]
  },
  {
   "cell_type": "markdown",
   "metadata": {},
   "source": [
    "####Step 3. Display the Solution"
   ]
  },
  {
   "cell_type": "code",
   "execution_count": 21,
   "metadata": {
    "collapsed": false
   },
   "outputs": [
    {
     "data": {
      "text/plain": [
       "n[1]    20\n",
       "n[2]    80\n",
       "dtype: float64"
      ]
     },
     "execution_count": 21,
     "metadata": {},
     "output_type": "execute_result"
    }
   ],
   "source": [
    "import pandas as pd\n",
    "pd.Series(soln)"
   ]
  },
  {
   "cell_type": "code",
   "execution_count": 275,
   "metadata": {
    "collapsed": false
   },
   "outputs": [
    {
     "data": {
      "text/plain": [
       "{'n[1]': 20.0, 'n[2]': 80.0}"
      ]
     },
     "execution_count": 275,
     "metadata": {},
     "output_type": "execute_result"
    }
   ],
   "source": [
    "soln"
   ]
  },
  {
   "cell_type": "markdown",
   "metadata": {},
   "source": [
    "### Exercise"
   ]
  },
  {
   "cell_type": "markdown",
   "metadata": {},
   "source": [
    "Using the techniques demonstrated above, develop an APMonitor model for the mass balance problem described in the following video clip. The model should be written to a file exerise1.apm, and the solution displayed as a table of molar flowrates for each of the three components described in the problem statement. You'll need at least two input cells. The first is where you would write the APMonitor model and save it to your workspace with the %%writefile 'magic'."
   ]
  },
  {
   "cell_type": "code",
   "execution_count": 221,
   "metadata": {
    "collapsed": false
   },
   "outputs": [
    {
     "data": {
      "text/html": [
       "\n",
       "        <iframe\n",
       "            width=\"560\"\n",
       "            height=315\"\n",
       "            src=\"https://www.youtube.com/embed/KrrZB5LvXF4?start=144&end=166\"\n",
       "            frameborder=\"0\"\n",
       "            allowfullscreen\n",
       "        ></iframe>\n",
       "        "
      ],
      "text/plain": [
       "<IPython.lib.display.YouTubeVideo at 0x10bda03d0>"
      ]
     },
     "execution_count": 221,
     "metadata": {},
     "output_type": "execute_result"
    }
   ],
   "source": [
    "from IPython.display import YouTubeVideo\n",
    "YouTubeVideo(\"KrrZB5LvXF4\",560,315,start=144,end=166)"
   ]
  },
  {
   "cell_type": "markdown",
   "metadata": {},
   "source": [
    "Write your model in the following input cell."
   ]
  },
  {
   "cell_type": "code",
   "execution_count": 221,
   "metadata": {
    "collapsed": false
   },
   "outputs": [],
   "source": []
  },
  {
   "cell_type": "markdown",
   "metadata": {},
   "source": [
    "Write commands to solve the model in the following input cell."
   ]
  },
  {
   "cell_type": "code",
   "execution_count": 221,
   "metadata": {
    "collapsed": false
   },
   "outputs": [],
   "source": []
  },
  {
   "cell_type": "markdown",
   "metadata": {},
   "source": [
    "Write commands to display the solution in the following input cell."
   ]
  },
  {
   "cell_type": "code",
   "execution_count": 221,
   "metadata": {
    "collapsed": false
   },
   "outputs": [],
   "source": []
  },
  {
   "cell_type": "markdown",
   "metadata": {},
   "source": [
    "## Example 2. Fitting Vapor Pressure Data with Antoine's Equation"
   ]
  },
  {
   "cell_type": "markdown",
   "metadata": {},
   "source": [
    "Vapor pressure data for ethyl acetate is available from the [DDB data bank](http://www.ddbst.com/en/EED/PCP/VAP_C21.php). "
   ]
  },
  {
   "cell_type": "code",
   "execution_count": 222,
   "metadata": {
    "collapsed": false
   },
   "outputs": [
    {
     "data": {
      "image/png": "[encoded data removed]",
      "text/plain": [
       "<matplotlib.figure.Figure at 0x10b850850>"
      ]
     },
     "metadata": {},
     "output_type": "display_data"
    }
   ],
   "source": [
    "vapor_pressure_data = array([\n",
    "    [281.52,   5.214], [286.15,   7.066], [293.15,   9.733], [293.25,   9.733], [295.15,  10.799],\n",
    "    [295.31,  10.819], [298.15,  12.612], [303.15,  16.012], [303.75,  16.399], [306.45,  18.532], \n",
    "    [308.15,  20.198], [309.11,  20.772], [309.35,  21.065], [312.05,  23.598], [312.61,  24.491],\n",
    "    [313.15,  25.043], [313.15,  25.078], [315.25,  26.931], [318.15,  31.064], [318.35,  31.064],\n",
    "    [321.45,  35.464], [322.92,  37.266], [323.15,  38.104], [326.05,  42.396], [326.50,  43.210],\n",
    "    [328.15,  46.290], [329.85,  49.463], [333.15,  55.854], [333.15,  55.942], [333.45,  56.262],\n",
    "    [336.70,  63.003], [338.15,  67.008], [340.45,  72.661], [340.84,  74.274], [343.15,  79.727],\n",
    "    [343.45,  80.660], [346.05,  88.659], [348.15,  94.392], [348.85,  97.192], [350.19, 101.138],\n",
    "    [350.44, 101.792], [350.45, 101.325], [350.85, 102.925], [353.15, 110.991], [353.35, 113.191],\n",
    "    [356.16, 122.630], [358.15, 130.349], [360.35, 140.122], [360.73, 141.508], [362.35, 148.921],\n",
    "    [363.15, 152.214], [364.35, 156.347], [364.95, 161.053], [367.15, 172.253], [368.15, 176.372],\n",
    "    [368.65, 179.585], [370.15, 187.051], [373.15, 203.717], [378.13, 232.208]\n",
    "])\n",
    "\n",
    "T = vapor_pressure_data[:,0]   # Kelvin\n",
    "P = vapor_pressure_data[:,1]   # kPa\n",
    "\n",
    "figure(figsize=(10,5))\n",
    "semilogy(T,P,'r.')\n",
    "title('Vapor Pressure Data for Ethyl Acetate')\n",
    "xlabel('Temperature [K]')\n",
    "ylabel('Pressure [kPa]')\n",
    "grid()"
   ]
  },
  {
   "cell_type": "markdown",
   "metadata": {},
   "source": [
    "Export the data to a CSV file with labeled columns."
   ]
  },
  {
   "cell_type": "code",
   "execution_count": 223,
   "metadata": {
    "collapsed": false
   },
   "outputs": [],
   "source": [
    "import pandas as pd\n",
    "\n",
    "df = pd.DataFrame(vapor_pressure_data,columns=['T','P'])\n",
    "df.to_csv('ethyl_acetate.csv',header=1,index=0)"
   ]
  },
  {
   "cell_type": "markdown",
   "metadata": {},
   "source": [
    "Antoine equation model. Parameters are initialized using estimates [from NIST](http://webbook.nist.gov/cgi/cbook.cgi?Name=ethyl+acetate) in units P[bar] and T[K]"
   ]
  },
  {
   "cell_type": "code",
   "execution_count": 224,
   "metadata": {
    "collapsed": false
   },
   "outputs": [
    {
     "name": "stdout",
     "output_type": "stream",
     "text": [
      "Overwriting ethyl_acetate.apm\n"
     ]
    }
   ],
   "source": [
    "%%writefile ethyl_acetate.apm\n",
    "\n",
    "Parameters\n",
    "  A = 4.22809\n",
    "  B = 1245.702\n",
    "  C = -55.189\n",
    "End Parameters\n",
    "    \n",
    "Variables\n",
    "  T >= 0\n",
    "  P >= 0\n",
    "End Variables\n",
    "    \n",
    "Equations\n",
    "  log10(P/100.0) = A - B/(T+C)\n",
    "End Equations"
   ]
  },
  {
   "cell_type": "code",
   "execution_count": 225,
   "metadata": {
    "collapsed": false
   },
   "outputs": [
    {
     "name": "stdout",
     "output_type": "stream",
     "text": [
      "apm 107.205.28.132_ethyl_acetate<br><pre> ----------------------------------------------------------------\n",
      " APMonitor, Version 0.6.3\n",
      " Software Trial\n",
      " ----------------------------------------------------------------\n",
      " \n",
      " \n",
      " --------- APM Model Size ------------\n",
      " Each time step contains\n",
      "   Objects      :            0\n",
      "   Constants    :            0\n",
      "   Variables    :            5\n",
      "   Intermediates:            0\n",
      "   Connections  :            0\n",
      "   Equations    :            1\n",
      "   Residuals    :            1\n",
      " \n",
      " fippr_files: ss.t0 does not exist\n",
      " fippr_files: mpu.t0 does not exist\n",
      " Number of state variables:            118\n",
      " Number of total equations: -           59\n",
      " Number of slack variables: -            0\n",
      " ---------------------------------------\n",
      " Degrees of freedom       :             59\n",
      " \n",
      " ----------------------------------------------\n",
      " Model Parameter Estimation with APOPT Solver\n",
      " ----------------------------------------------\n",
      " File apopt.opt does not exist.\n",
      " \n",
      " Iter    Objective  Convergence\n",
      "    0  1.19723E+06  2.92162E+01\n",
      "    1  1.15661E+06  2.69717E+01\n",
      "    2  2.18248E+09  2.54367E+01\n",
      "    3  6.56124E+12  2.36617E+01\n",
      "    4  2.21485E+06  2.21787E+01\n",
      "    5  4.98682E+09  2.04621E+01\n",
      "    6  5.39613E+12  1.90361E+01\n",
      "    7  8.78537E+15  1.73845E+01\n",
      "    8  6.84485E+18  1.60216E+01\n",
      "    9  7.70882E+21  1.44431E+01\n",
      " \n",
      " Iter    Objective  Convergence\n",
      "   10  1.50587E+06  1.29083E+01\n",
      "   11  1.06365E+09  1.14209E+01\n",
      "   12  3.90665E+11  9.98477E+00\n",
      "   13  1.00535E+12  0.00000E+00\n",
      "   14  1.55273E-02  8.70814E+00\n",
      "   15  5.13780E-18  0.00000E+00\n",
      " No feasible solution\n",
      " \n",
      " ---------------------------------------------------\n",
      " Solver         :  APOPT (v1.0)\n",
      " Solution time  :   4.829999999492429E-002 sec\n",
      " Objective      :   0.000000000000000E+000\n",
      " Unsuccessful with error code            0\n",
      " ---------------------------------------------------\n",
      " \n",
      " Creating file: infeasibilities.txt\n",
      "</pre>  \n",
      "Error: Did not converge to a solution\n"
     ]
    }
   ],
   "source": [
    "from apm import *\n",
    "\n",
    "soln = apm_solve('ethyl_acetate',2)"
   ]
  },
  {
   "cell_type": "code",
   "execution_count": 226,
   "metadata": {
    "collapsed": false
   },
   "outputs": [
    {
     "data": {
      "text/plain": [
       "[]"
      ]
     },
     "execution_count": 226,
     "metadata": {},
     "output_type": "execute_result"
    }
   ],
   "source": [
    "soln"
   ]
  },
  {
   "cell_type": "markdown",
   "metadata": {},
   "source": [
    "## Example 3. Steady State Optimization"
   ]
  },
  {
   "cell_type": "code",
   "execution_count": 229,
   "metadata": {
    "collapsed": false
   },
   "outputs": [
    {
     "name": "stdout",
     "output_type": "stream",
     "text": [
      "Overwriting giapetto.apm\n"
     ]
    }
   ],
   "source": [
    "%%writefile giapetto.apm\n",
    "\n",
    "Variables\n",
    "  x[1] > 0 , < 40  ! Soldiers\n",
    "  x[2] > 0         ! Trains\n",
    "  profit\n",
    "End Variables\n",
    "\n",
    "Equations\n",
    "  maximize profit\n",
    "  profit = 3 * x[1] + 2 * x[2]\n",
    "  2 * x[1] + x[2] <= 100\n",
    "  x[1] + x[2] <= 80\n",
    "End Equations"
   ]
  },
  {
   "cell_type": "code",
   "execution_count": null,
   "metadata": {
    "collapsed": false
   },
   "outputs": [],
   "source": [
    "from apm import *\n",
    "z = apm_solve('giapetto',3);"
   ]
  },
  {
   "cell_type": "code",
   "execution_count": 230,
   "metadata": {
    "collapsed": false
   },
   "outputs": [
    {
     "name": "stdout",
     "output_type": "stream",
     "text": [
      "Optional data file giapetto.csv does not exist\n"
     ]
    },
    {
     "data": {
      "text/plain": [
       "profit    180\n",
       "slk_3       0\n",
       "slk_4       0\n",
       "x[1]       20\n",
       "x[2]       60\n",
       "dtype: float64"
      ]
     },
     "execution_count": 230,
     "metadata": {},
     "output_type": "execute_result"
    }
   ],
   "source": [
    "import pandas as pd\n",
    "pd.Series(z)"
   ]
  },
  {
   "cell_type": "markdown",
   "metadata": {},
   "source": [
    "## Example 4. Dynamic Simulation"
   ]
  },
  {
   "cell_type": "code",
   "execution_count": 260,
   "metadata": {
    "collapsed": false
   },
   "outputs": [
    {
     "name": "stdout",
     "output_type": "stream",
     "text": [
      "Overwriting demo.apm\n"
     ]
    }
   ],
   "source": [
    "%%writefile demo.apm\n",
    "\n",
    "Model  \n",
    "\n",
    "  Constants\n",
    "    tau = 5\n",
    "    K = 3\n",
    "  End Constants\n",
    "\n",
    "  Parameters         \n",
    "   u \n",
    "  End Parameters     \n",
    "\n",
    "  Variables          \n",
    "   x = 0               \n",
    "   y = 0                \n",
    "  End Variables      \n",
    "\n",
    "  Equations          \n",
    "   tau * $x + x = K * u  \n",
    "   y = 2 * x         \n",
    "  End Equations  \n",
    "    \n",
    "End Model            "
   ]
  },
  {
   "cell_type": "markdown",
   "metadata": {},
   "source": [
    "Create a CSV file with input u as a function of t"
   ]
  },
  {
   "cell_type": "code",
   "execution_count": 261,
   "metadata": {
    "collapsed": false
   },
   "outputs": [
    {
     "data": {
      "text/plain": [
       "[<matplotlib.lines.Line2D at 0x10bfa8610>]"
      ]
     },
     "execution_count": 261,
     "metadata": {},
     "output_type": "execute_result"
    },
    {
     "data": {
      "image/png": "[encoded data removed]",
      "text/plain": [
       "<matplotlib.figure.Figure at 0x10b3c8950>"
      ]
     },
     "metadata": {},
     "output_type": "display_data"
    }
   ],
   "source": [
    "t = linspace(0,30,31)\n",
    "u = [1.0 if tau >= 1 else 0.0 for tau in t]\n",
    "plot(t,u)"
   ]
  },
  {
   "cell_type": "markdown",
   "metadata": {},
   "source": [
    "Write CSV file"
   ]
  },
  {
   "cell_type": "code",
   "execution_count": 262,
   "metadata": {
    "collapsed": false
   },
   "outputs": [],
   "source": [
    "import pandas as pd\n",
    "df = pd.DataFrame(zip(t,u),columns=['time','u'])\n",
    "df.to_csv('demo.csv',header=1,index=0)"
   ]
  },
  {
   "cell_type": "markdown",
   "metadata": {},
   "source": [
    "Solve"
   ]
  },
  {
   "cell_type": "code",
   "execution_count": 263,
   "metadata": {
    "collapsed": false
   },
   "outputs": [],
   "source": [
    "from apm import *\n",
    "z = apm_solve('demo',7);"
   ]
  },
  {
   "cell_type": "markdown",
   "metadata": {},
   "source": [
    "Display solution."
   ]
  },
  {
   "cell_type": "code",
   "execution_count": 267,
   "metadata": {
    "collapsed": false
   },
   "outputs": [
    {
     "data": {
      "text/plain": [
       "<matplotlib.legend.Legend at 0x10c1a86d0>"
      ]
     },
     "execution_count": 267,
     "metadata": {},
     "output_type": "execute_result"
    },
    {
     "data": {
      "image/png": "[encoded data removed]",
      "text/plain": [
       "<matplotlib.figure.Figure at 0x10c1bf7d0>"
      ]
     },
     "metadata": {},
     "output_type": "display_data"
    }
   ],
   "source": [
    "plot(z['time'],z['x'],z['time'],z['y'],z['time'],z['u'])\n",
    "legend(['x','y','u'])"
   ]
  },
  {
   "cell_type": "code",
   "execution_count": 20,
   "metadata": {
    "collapsed": false
   },
   "outputs": [],
   "source": []
  }
 ],
 "metadata": {
  "kernelspec": {
   "display_name": "Python 2",
   "language": "python",
   "name": "python2"
  },
  "language_info": {
   "codemirror_mode": {
    "name": "ipython",
    "version": 2
   },
   "file_extension": ".py",
   "mimetype": "text/x-python",
   "name": "python",
   "nbconvert_exporter": "python",
   "pygments_lexer": "ipython2",
   "version": "2.7.10"
  }
 },
 "nbformat": 4,
 "nbformat_minor": 0
}
