{
 "cells": [
  {
   "cell_type": "code",
   "execution_count": 3,
   "metadata": {
    "collapsed": true
   },
   "outputs": [],
   "source": [
    "import time\n",
    "import simpy"
   ]
  },
  {
   "cell_type": "code",
   "execution_count": 9,
   "metadata": {},
   "outputs": [
    {
     "name": "stdout",
     "output_type": "stream",
     "text": [
      "Duration of one simulation time unit: 0.00s\n"
     ]
    }
   ],
   "source": [
    "import time\n",
    "import simpy\n",
    "\n",
    "def example(env):\n",
    "    start = time.perf_counter()\n",
    "    yield env.timeout(1)\n",
    "    end = time.perf_counter()\n",
    "    print('Duration of one simulation time unit: %.2fs' % (end - start))\n",
    "    \n",
    "env = simpy.Environment()\n",
    "proc = env.process(example(env))\n",
    "env.run(until=proc)\n"
   ]
  },
  {
   "cell_type": "code",
   "execution_count": 24,
   "metadata": {},
   "outputs": [
    {
     "name": "stdout",
     "output_type": "stream",
     "text": [
      "Duration of one simulation time unit: 1.00s\n",
      "Duration of one simulation time unit: 2.00s\n",
      "Duration of one simulation time unit: 3.00s\n",
      "Duration of one simulation time unit: 4.00s\n",
      "Duration of one simulation time unit: 5.00s\n"
     ]
    }
   ],
   "source": [
    "import time\n",
    "import simpy.rt\n",
    "\n",
    "def example(env):\n",
    "    start = time.perf_counter()\n",
    "    while True:\n",
    "        time.sleep(0.6) # lengthy computation\n",
    "        yield env.timeout(1)\n",
    "        end = time.perf_counter()\n",
    "        print('Duration of one simulation time unit: %.2fs' % (end - start))\n",
    "    \n",
    "env = simpy.rt.RealtimeEnvironment(factor=1)\n",
    "proc = env.process(example(env))\n",
    "env.run(until=5.1)"
   ]
  },
  {
   "cell_type": "code",
   "execution_count": null,
   "metadata": {
    "collapsed": true
   },
   "outputs": [],
   "source": [
    "    q1q"
   ]
  }
 ],
 "metadata": {
  "kernelspec": {
   "display_name": "Python 3",
   "language": "python",
   "name": "python3"
  },
  "language_info": {
   "codemirror_mode": {
    "name": "ipython",
    "version": 3
   },
   "file_extension": ".py",
   "mimetype": "text/x-python",
   "name": "python",
   "nbconvert_exporter": "python",
   "pygments_lexer": "ipython3",
   "version": "3.6.1"
  }
 },
 "nbformat": 4,
 "nbformat_minor": 2
}
