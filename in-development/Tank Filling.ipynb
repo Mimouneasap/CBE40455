{
 "cells": [
  {
   "cell_type": "code",
   "execution_count": 79,
   "metadata": {
    "collapsed": true
   },
   "outputs": [],
   "source": [
    "from pyomo.environ import *\n",
    "from pyomo.dae import *\n",
    "import numpy as np\n",
    "\n",
    "model = ConcreteModel()\n",
    "\n",
    "At1 = np.pi*(2.54*1.75/2)**2\n",
    "At2 = np.pi*(2.54*1.75/2)**2\n",
    "\n",
    "Ao1 = np.pi*(2.54*(3/16)/2)**2\n",
    "Ao2 = np.pi*(2.54*(3/16)/2)**2\n",
    "\n",
    "L1max = 25\n",
    "L2max = 25\n",
    "\n",
    "model.t = ContinuousSet(bounds=(0,120))\n",
    "model.h = Var([1,2], model.t, bounds=(0,25))\n",
    "model.u = Var(model.t, bounds=(0,12))\n",
    "\n",
    "model.dh = DerivativeVar(model.h)\n",
    "\n",
    "model."
   ]
  },
  {
   "cell_type": "code",
   "execution_count": 74,
   "metadata": {},
   "outputs": [
    {
     "name": "stdout",
     "output_type": "stream",
     "text": [
      "# ==========================================================\n",
      "# = Solver Results                                         =\n",
      "# ==========================================================\n",
      "# ----------------------------------------------------------\n",
      "#   Problem Information\n",
      "# ----------------------------------------------------------\n",
      "Problem: \n",
      "- Lower bound: -inf\n",
      "  Upper bound: inf\n",
      "  Number of objectives: 1\n",
      "  Number of constraints: 153\n",
      "  Number of variables: 153\n",
      "  Sense: unknown\n",
      "# ----------------------------------------------------------\n",
      "#   Solver Information\n",
      "# ----------------------------------------------------------\n",
      "Solver: \n",
      "- Status: ok\n",
      "  Message: Ipopt 3.12.8\\x3a Optimal Solution Found\n",
      "  Termination condition: optimal\n",
      "  Id: 0\n",
      "  Error rc: 0\n",
      "  Time: 0.044271230697631836\n",
      "# ----------------------------------------------------------\n",
      "#   Solution Information\n",
      "# ----------------------------------------------------------\n",
      "Solution: \n",
      "- number of solutions: 0\n",
      "  number of solutions displayed: 0\n"
     ]
    }
   ],
   "source": [
    "\n",
    "model.umax = Var(bounds=(10,100))\n",
    "\n",
    "model.dh = DerivativeVar(model.h)\n",
    "\n",
    "model.obj = Objective(expr=model.umax,sense=minimize)\n",
    "\n",
    "def _ode(model,i):\n",
    "    if i == 0:\n",
    "        return Constraint.Skip\n",
    "    return model.dh[i] == model.u[i]/model.area['B'](model.h[i])\n",
    "model.ode = Constraint(model.t, rule=_ode)\n",
    "\n",
    "model.maxu = Constraint(model.t, rule=lambda model,i:model.u[i] <= model.umax)\n",
    "\n",
    "def _init(model):\n",
    "    yield model.h[0] == 0\n",
    "    yield model.h[10] == 10\n",
    "model.init = ConstraintList(rule=_init)\n",
    "\n",
    "discretizer = TransformationFactory('dae.finite_difference')\n",
    "discretizer.apply_to(model,nfe=50,scheme='BACKWARD')\n",
    " \n",
    "solver = SolverFactory('ipopt')\n",
    "solver.solve(model).write()"
   ]
  },
  {
   "cell_type": "code",
   "execution_count": 75,
   "metadata": {},
   "outputs": [
    {
     "name": "stdout",
     "output_type": "stream",
     "text": [
      "26.12215709334236\n"
     ]
    },
    {
     "data": {
      "text/plain": [
       "[<matplotlib.lines.Line2D at 0x1226f15c0>,\n",
       " <matplotlib.lines.Line2D at 0x1226f1780>]"
      ]
     },
     "execution_count": 75,
     "metadata": {},
     "output_type": "execute_result"
    },
    {
     "data": {
      "image/png": "[encoded data removed]",
      "text/plain": [
       "<matplotlib.figure.Figure at 0x12236a048>"
      ]
     },
     "metadata": {},
     "output_type": "display_data"
    }
   ],
   "source": [
    "print(model.umax())\n",
    "\n",
    "t = [i for i in model.t]\n",
    "h = [model.h[i]() for i in model.h]\n",
    "u = [model.u[i]() for i in model.u]\n",
    "\n",
    "import matplotlib.pyplot as plt\n",
    "%matplotlib inline\n",
    "\n",
    "plt.plot(t,h,t,u)"
   ]
  },
  {
   "cell_type": "code",
   "execution_count": null,
   "metadata": {
    "collapsed": true
   },
   "outputs": [],
   "source": []
  }
 ],
 "metadata": {
  "kernelspec": {
   "display_name": "Python 3",
   "language": "python",
   "name": "python3"
  },
  "language_info": {
   "codemirror_mode": {
    "name": "ipython",
    "version": 3
   },
   "file_extension": ".py",
   "mimetype": "text/x-python",
   "name": "python",
   "nbconvert_exporter": "python",
   "pygments_lexer": "ipython3",
   "version": "3.6.1"
  }
 },
 "nbformat": 4,
 "nbformat_minor": 2
}
