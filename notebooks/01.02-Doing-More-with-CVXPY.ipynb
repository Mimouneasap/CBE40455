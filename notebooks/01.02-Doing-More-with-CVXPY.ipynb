{
 "cells": [
  {
   "cell_type": "markdown",
   "metadata": {
    "colab_type": "text",
    "id": "HLEvRhX10Q3F",
    "pycharm": {}
   },
   "source": [
    "<!--COURSE_INFORMATION-->\n",
    "*This notebook contains course material from [CBE 40455 Process Operations](http://jckantor.github.io/CBE40455/) by Jeffrey Kantor (jeff at nd.edu); the content is available [on GitHub](https://github.com/jckantor/CBE40455).*\n",
    "*The text is released under the [CC-BY-NC-ND-4.0 license](https://creativecommons.org/licenses/by-nc-nd/4.0/legalcode), and code is released under the [MIT license](https://opensource.org/licenses/MIT).*\n"
   ]
  },
  {
   "cell_type": "markdown",
   "metadata": {
    "colab_type": "text",
    "id": "4uEPJGsQ0Q3G",
    "pycharm": {}
   },
   "source": [
    "<!--NAVIGATION-->\n",
    "< [Getting Started with CVXPY](01.01-Getting-Started-with-CVXPY.ipynb) | [Contents](index.ipynb) | [Getting Started with Gurobi](01.03-Getting-Started-with-Gurobi.ipynb) >\n",
    "\n",
    "<a href=\"https://colab.research.google.com/github/jckantor/CBE40455/blob/master/notebooks/01.02-Doing-More-with-CVXPY.ipynb\"><img align=\"left\" src=\"https://colab.research.google.com/assets/colab-badge.svg\" alt=\"Open in Colab\" title=\"Open and Execute in Google Colaboratory\"></a>\n"
   ]
  },
  {
   "cell_type": "markdown",
   "metadata": {
    "colab_type": "text",
    "id": "WaSEnPcC0Q3H",
    "pycharm": {},
    "slideshow": {
     "slide_type": "-"
    }
   },
   "source": [
    "# Doing More with CVXPY"
   ]
  },
  {
   "cell_type": "markdown",
   "metadata": {
    "colab_type": "text",
    "id": "aBeww8An0Q3I",
    "pycharm": {},
    "slideshow": {
     "slide_type": "skip"
    }
   },
   "source": [
    "This [Jupyter notebook](http://jupyter.org/notebook.html) demonstrates use of the [CVXPY](http://www.cvxpy.org/en/latest/) package for describing and solving convex optimization problems. CVXPY provides a modeling language embedded within Python that is well suited to linear and quadratic optimization problems with linear constraints. A limited set of solvers are distributed with CVXPY, and interfaces are available for others. Further documentation is available [here (.pdf)](https://media.readthedocs.org/pdf/cvxpy/latest/cvxpy.pdf)."
   ]
  },
  {
   "cell_type": "markdown",
   "metadata": {
    "colab_type": "text",
    "id": "r_BFRIGe0Q3J",
    "pycharm": {},
    "slideshow": {
     "slide_type": "slide"
    }
   },
   "source": [
    "## Installation\n",
    "\n",
    "It is necessary to install CVXPY before use. Instructions can be found [here](http://www.cvxpy.org/en/latest/install/). If you happen to be using the Anaconda distribution of Python, the following cell should be sufficient for installation."
   ]
  },
  {
   "cell_type": "code",
   "execution_count": 0,
   "metadata": {
    "colab": {},
    "colab_type": "code",
    "id": "r4pCoc1i0Q3K",
    "outputId": "0096c135-4d4e-4137-e23d-b88b969ff1b0",
    "pycharm": {},
    "slideshow": {
     "slide_type": "-"
    }
   },
   "outputs": [
    {
     "name": "stdout",
     "output_type": "stream",
     "text": [
      "Fetching package metadata ...............\n",
      "Solving package specifications: ..........\n",
      "\n",
      "# All requested packages already installed.\n",
      "# packages in environment at /Users/jeff/anaconda:\n",
      "#\n",
      "cvxpy                     0.4.9                    py35_0    cvxgrp\n"
     ]
    }
   ],
   "source": [
    "!conda install -c cvxgrp -y cvxpy"
   ]
  },
  {
   "cell_type": "markdown",
   "metadata": {
    "colab_type": "text",
    "collapsed": true,
    "id": "VJehVC_o0Q3O",
    "pycharm": {},
    "slideshow": {
     "slide_type": "slide"
    }
   },
   "source": [
    "## Solving linear equations\n",
    "\n",
    "One of the simpliest use cases for cvxpy is solving a system of linear equations. For example, consider the pair of the equations\n",
    "\n",
    "\\begin{align*}\n",
    "3\\,x + 4\\,y & = 26 \\\\\n",
    "2\\,x - 3\\,y & = -11\n",
    "\\end{align*}\n",
    "\n",
    "where $x$ and $y$ are the unknowns. Each equation is a linear equality constraint. The problem is easily solved with a few simple cvxpy constructss."
   ]
  },
  {
   "cell_type": "code",
   "execution_count": 0,
   "metadata": {
    "colab": {},
    "colab_type": "code",
    "id": "KRXlD5uq0Q3P",
    "outputId": "3920e42a-cb50-4860-a76b-3ae34feb47fe",
    "pycharm": {},
    "slideshow": {
     "slide_type": "slide"
    }
   },
   "outputs": [
    {
     "name": "stdout",
     "output_type": "stream",
     "text": [
      "optimal\n",
      "2.0\n",
      "5.0\n"
     ]
    }
   ],
   "source": [
    "import numpy as np\n",
    "import cvxpy as cvx\n",
    "\n",
    "# create the variables to solve for\n",
    "x = cvx.Variable()\n",
    "y = cvx.Variable()\n",
    "\n",
    "# create a list of equality constraints\n",
    "eqns = [\n",
    "    3*x + 4*y == 26,\n",
    "    2*x - 3*y == -11\n",
    "]\n",
    "\n",
    "# create a problem instance \n",
    "prob = cvx.Problem(cvx.Minimize(0),eqns)\n",
    "\n",
    "# solve\n",
    "prob.solve()\n",
    "print(prob.status)\n",
    "\n",
    "# display solution\n",
    "print(x.value)\n",
    "print(y.value)"
   ]
  },
  {
   "cell_type": "markdown",
   "metadata": {
    "colab_type": "text",
    "id": "8biL-F7_0Q3S",
    "pycharm": {},
    "slideshow": {
     "slide_type": "slide"
    }
   },
   "source": [
    "## Regression: Evidence of Climate Change\n",
    "\n",
    "Get the historical record of ice out dates on Rainy Lake, Minnesota. Rainy Lake is a large lake, approximately 1000 sq. km., located on the Minnesota/Ontario border. Reliable records for ice-out date goes back to 1935, where for this lake ice-out is defined as the first day the lake can be navigated from one end to the other following a specified route.\n",
    "\n",
    "The next cell downloads and extracts the historical ice-out date from Climatology office of the Minnesota Department of Natural Resources."
   ]
  },
  {
   "cell_type": "code",
   "execution_count": 0,
   "metadata": {
    "colab": {},
    "colab_type": "code",
    "id": "A_CC7v0l0Q3T",
    "outputId": "74ab9e9c-ecf0-4360-aa36-2513afc9e402",
    "pycharm": {},
    "slideshow": {
     "slide_type": "slide"
    }
   },
   "outputs": [
    {
     "name": "stdout",
     "output_type": "stream",
     "text": [
      "Data Download Status: OK\n"
     ]
    },
    {
     "data": {
      "image/png": "[encoded data removed]",
      "text/plain": [
       "<matplotlib.figure.Figure at 0x102acf6d8>"
      ]
     },
     "metadata": {
      "tags": []
     },
     "output_type": "display_data"
    }
   ],
   "source": [
    "%matplotlib inline\n",
    "\n",
    "import matplotlib.pyplot as plt\n",
    "import numpy as np\n",
    "\n",
    "from urllib.request import urlopen\n",
    "import json\n",
    "from dateutil.parser import parse\n",
    "import datetime\n",
    "\n",
    "# Lake ID for Rainy Lake\n",
    "lakeid = '69069400'\n",
    "\n",
    "# Get Ice-out Data\n",
    "url = 'http://www.dnr.state.mn.us/services/climatology/ice_out_by_lake.html?id='+lakeid\n",
    "response = urlopen(url).read().decode('utf8')\n",
    "data = json.loads(response) \n",
    "print('Data Download Status: ' + data['status'])\n",
    "\n",
    "# Calculate ice out 'day of year' for each date\n",
    "dates = [parse(d['date']) for d in data['result']['values']]\n",
    "\n",
    "year = np.array([d.year for d in dates])\n",
    "iceout = np.array([1 + datetime.date.toordinal(d) - datetime.date(d.year,1,1).toordinal()\n",
    "                for d in dates ])\n",
    "\n",
    "plt.plot(year, iceout)\n",
    "plt.title('Ice Out Day on Rainy Lake, Minnesota')\n",
    "plt.ylabel('Julian Day of Year')\n",
    "plt.xlabel('Year');"
   ]
  },
  {
   "cell_type": "markdown",
   "metadata": {
    "colab_type": "text",
    "id": "brCAZNmR0Q3X",
    "pycharm": {},
    "slideshow": {
     "slide_type": "slide"
    }
   },
   "source": [
    "Create a regression model and fit using cvxpy."
   ]
  },
  {
   "cell_type": "code",
   "execution_count": 0,
   "metadata": {
    "colab": {},
    "colab_type": "code",
    "id": "wFG_HSr50Q3Y",
    "outputId": "d825ef32-8ef0-4bfa-cd40-a8c950f921a1",
    "pycharm": {},
    "slideshow": {
     "slide_type": "slide"
    }
   },
   "outputs": [
    {
     "ename": "NameError",
     "evalue": "name 'cvx' is not defined",
     "output_type": "error",
     "traceback": [
      "\u001b[0;31m---------------------------------------------------------------------------\u001b[0m",
      "\u001b[0;31mNameError\u001b[0m                                 Traceback (most recent call last)",
      "\u001b[0;32m<ipython-input-9-ff5a3cb54f40>\u001b[0m in \u001b[0;36m<module>\u001b[0;34m()\u001b[0m\n\u001b[1;32m      1\u001b[0m \u001b[0;31m# variables are slope, intercept, and predicted values\u001b[0m\u001b[0;34m\u001b[0m\u001b[0;34m\u001b[0m\u001b[0m\n\u001b[1;32m      2\u001b[0m \u001b[0;34m\u001b[0m\u001b[0m\n\u001b[0;32m----> 3\u001b[0;31m \u001b[0mslope\u001b[0m \u001b[0;34m=\u001b[0m \u001b[0mcvx\u001b[0m\u001b[0;34m.\u001b[0m\u001b[0mVariable\u001b[0m\u001b[0;34m(\u001b[0m\u001b[0;34m)\u001b[0m\u001b[0;34m\u001b[0m\u001b[0m\n\u001b[0m\u001b[1;32m      4\u001b[0m \u001b[0mintercept\u001b[0m \u001b[0;34m=\u001b[0m \u001b[0mcvx\u001b[0m\u001b[0;34m.\u001b[0m\u001b[0mVariable\u001b[0m\u001b[0;34m(\u001b[0m\u001b[0;34m)\u001b[0m\u001b[0;34m\u001b[0m\u001b[0m\n\u001b[1;32m      5\u001b[0m \u001b[0mpred\u001b[0m \u001b[0;34m=\u001b[0m \u001b[0mcvx\u001b[0m\u001b[0;34m.\u001b[0m\u001b[0mVariable\u001b[0m\u001b[0;34m(\u001b[0m\u001b[0mlen\u001b[0m\u001b[0;34m(\u001b[0m\u001b[0myear\u001b[0m\u001b[0;34m)\u001b[0m\u001b[0;34m)\u001b[0m\u001b[0;34m\u001b[0m\u001b[0m\n",
      "\u001b[0;31mNameError\u001b[0m: name 'cvx' is not defined"
     ]
    }
   ],
   "source": [
    "# variables are slope, intercept, and predicted values\n",
    "\n",
    "slope = cvx.Variable()\n",
    "intercept = cvx.Variable()\n",
    "pred = cvx.Variable(len(year))\n",
    "\n",
    "con = [pred == (intercept + slope*(year-1930))]\n",
    "obj = cvx.Minimize(cvx.norm(iceout-pred,2))\n",
    "\n",
    "prob = cvx.Problem(obj,con)\n",
    "prob.solve()\n",
    "\n",
    "print(\"    Slope: {0:8.4f}\".format(slope.value))\n",
    "print(\"Intercept: {0:8.4f}\".format(intercept.value))"
   ]
  },
  {
   "cell_type": "markdown",
   "metadata": {
    "colab_type": "text",
    "id": "Y8HFPC750Q3b",
    "pycharm": {},
    "slideshow": {
     "slide_type": "slide"
    }
   },
   "source": [
    "Plot the resulting fit and compare to the original data."
   ]
  },
  {
   "cell_type": "code",
   "execution_count": 0,
   "metadata": {
    "colab": {},
    "colab_type": "code",
    "id": "nv4P6Xo20Q3c",
    "outputId": "7fa4bf4f-2415-41a8-a348-908d39f4220f",
    "pycharm": {},
    "slideshow": {
     "slide_type": "slide"
    }
   },
   "outputs": [
    {
     "data": {
      "image/png": "[encoded data removed]",
      "text/plain": [
       "<matplotlib.figure.Figure at 0x104a27898>"
      ]
     },
     "metadata": {
      "tags": []
     },
     "output_type": "display_data"
    }
   ],
   "source": [
    "plt.plot(year, iceout, year, pred.value)\n",
    "plt.title('Ice Out Day on Rainy Lake, Minnesota')\n",
    "plt.ylabel('Day of Year')\n",
    "plt.xlabel('Year');"
   ]
  },
  {
   "cell_type": "markdown",
   "metadata": {
    "colab_type": "text",
    "collapsed": true,
    "id": "77uJ0iFw0Q3f",
    "pycharm": {},
    "slideshow": {
     "slide_type": "slide"
    }
   },
   "source": [
    "## Integer Program\n",
    "\n",
    "Let's consider the problem\n",
    "\n",
    "\\begin{align*}\n",
    "\\text{Minimize}\\quad & 4 x + 6y \\\\\n",
    "\\text{subject to}\\quad & 2x + 2y \\geq 5 \\\\\n",
    "& x - y \\leq 1 \\\\\n",
    "& x,y \\geq 0 \\\\\n",
    "& x,y \\in \\text{Integer}\n",
    "\\end{align*}\n",
    "\n",
    "Let's first solve this problem ignoring the integer constraints on $x$ and $y$.  This is known as the 'relaxation' of an integer or binary programming problem."
   ]
  },
  {
   "cell_type": "code",
   "execution_count": 0,
   "metadata": {
    "colab": {},
    "colab_type": "code",
    "id": "fnvHH2-j0Q3g",
    "outputId": "2681d50c-97bb-4fbb-b2c5-a831e2f3a7c6",
    "pycharm": {},
    "slideshow": {
     "slide_type": "slide"
    }
   },
   "outputs": [
    {
     "name": "stdout",
     "output_type": "stream",
     "text": [
      "status =  optimal\n",
      "x =  1.74999999184\n",
      "y =  0.750000000732\n",
      "Obj =  11.499999971753716\n"
     ]
    }
   ],
   "source": [
    "import numpy as np\n",
    "import cvxpy as cvx\n",
    "\n",
    "# create the variables to solve for\n",
    "x = cvx.Variable()\n",
    "y = cvx.Variable()\n",
    "\n",
    "# create a list of equality constraints\n",
    "constraints = [\n",
    "    2*x + 2*y >= 5,\n",
    "    x - y <= 1,\n",
    "    x >= 0,\n",
    "    y >= 0\n",
    "]\n",
    "\n",
    "obj = cvx.Minimize(4*x + 6*y)\n",
    "\n",
    "# create a problem instance \n",
    "prob = cvx.Problem(obj,constraints)\n",
    "\n",
    "# solve\n",
    "prob.solve()\n",
    "print(\"status = \", prob.status)\n",
    "\n",
    "# display solution\n",
    "print(\"x = \", x.value)\n",
    "print(\"y = \", y.value)\n",
    "print(\"Obj = \", prob.value)"
   ]
  },
  {
   "cell_type": "markdown",
   "metadata": {
    "colab_type": "text",
    "id": "3G6YyyFW0Q3j",
    "pycharm": {},
    "slideshow": {
     "slide_type": "slide"
    }
   },
   "source": [
    "Since this is a minimization, the relaxed solution provides a lower bound on the solution of the integer problem. The next step is to define variables $x$ and $y$ as integer variables using `cvx.Int()` function."
   ]
  },
  {
   "cell_type": "code",
   "execution_count": 0,
   "metadata": {
    "colab": {},
    "colab_type": "code",
    "id": "w8F7jJQ_0Q3k",
    "outputId": "5281519d-a5b7-439f-ba9f-a942c3270baf",
    "pycharm": {},
    "slideshow": {
     "slide_type": "slide"
    }
   },
   "outputs": [
    {
     "name": "stdout",
     "output_type": "stream",
     "text": [
      "status =  optimal_inaccurate\n",
      "x =  1.99999998886\n",
      "y =  1.00000001165\n",
      "Obj =  14.000000025301762\n"
     ]
    }
   ],
   "source": [
    "import numpy as np\n",
    "import cvxpy as cvx\n",
    "\n",
    "# create the variables to solve for\n",
    "x = cvx.Int()\n",
    "y = cvx.Int()\n",
    "\n",
    "# create a list of equality constraints\n",
    "constraints = [\n",
    "    2*x + 2*y >= 5,\n",
    "    x - y <= 1,\n",
    "    x >= 0,\n",
    "    y >= 0\n",
    "]\n",
    "\n",
    "obj = cvx.Minimize(4*x + 6*y)\n",
    "\n",
    "# create a problem instance \n",
    "prob = cvx.Problem(obj,constraints)\n",
    "\n",
    "# solve\n",
    "prob.solve()\n",
    "print(\"status = \", prob.status)\n",
    "\n",
    "# display solution\n",
    "print(\"x = \", x.value)\n",
    "print(\"y = \", y.value)\n",
    "print(\"Obj = \", prob.value)"
   ]
  },
  {
   "cell_type": "markdown",
   "metadata": {
    "colab_type": "text",
    "id": "ofArDvA90Q3n",
    "pycharm": {},
    "slideshow": {
     "slide_type": "slide"
    }
   },
   "source": [
    "The solvers distributed with CVXPY tyically employ interior-point algorithms augmented with a branch and bound strategy for integer or boolean variables. A consequence is that integer solutions are reported as floating point numbers that may need rounding for some applications. "
   ]
  },
  {
   "cell_type": "code",
   "execution_count": 0,
   "metadata": {
    "colab": {},
    "colab_type": "code",
    "id": "baO2rFO30Q3o",
    "outputId": "2500016a-1564-46e2-8a4b-4e48509c12ba",
    "pycharm": {},
    "slideshow": {
     "slide_type": "slide"
    }
   },
   "outputs": [
    {
     "name": "stdout",
     "output_type": "stream",
     "text": [
      "Integer Solution x =  2\n",
      "Integer Solution y =  1\n"
     ]
    }
   ],
   "source": [
    "print('Integer Solution x = ', int(round(x.value)))\n",
    "print('Integer Solution y = ', int(round(y.value)))"
   ]
  },
  {
   "cell_type": "markdown",
   "metadata": {
    "colab_type": "text",
    "id": "s0CU1H0G0Q3s",
    "pycharm": {}
   },
   "source": [
    "<!--NAVIGATION-->\n",
    "< [Getting Started with CVXPY](01.01-Getting-Started-with-CVXPY.ipynb) | [Contents](index.ipynb) | [Getting Started with Gurobi](01.03-Getting-Started-with-Gurobi.ipynb) >\n",
    "\n",
    "<a href=\"https://colab.research.google.com/github/jckantor/CBE40455/blob/master/notebooks/01.02-Doing-More-with-CVXPY.ipynb\"><img align=\"left\" src=\"https://colab.research.google.com/assets/colab-badge.svg\" alt=\"Open in Colab\" title=\"Open and Execute in Google Colaboratory\"></a>\n"
   ]
  }
 ],
 "metadata": {
  "colab": {
   "collapsed_sections": [],
   "name": "01.02-Doing-More-with-CVXPY.ipynb",
   "provenance": [],
   "version": "0.3.2"
  },
  "kernelspec": {
   "display_name": "Python [conda root]",
   "language": "python",
   "name": "conda-root-py"
  },
  "language_info": {
   "codemirror_mode": {
    "name": "ipython",
    "version": 3
   },
   "file_extension": ".py",
   "mimetype": "text/x-python",
   "name": "python",
   "nbconvert_exporter": "python",
   "pygments_lexer": "ipython3",
   "version": "3.5.2"
  }
 },
 "nbformat": 4,
 "nbformat_minor": 0
}
