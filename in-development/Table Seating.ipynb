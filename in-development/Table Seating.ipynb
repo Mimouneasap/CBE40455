{
 "metadata": {
  "name": ""
 },
 "nbformat": 3,
 "nbformat_minor": 0,
 "worksheets": [
  {
   "cells": [
    {
     "cell_type": "heading",
     "level": 1,
     "metadata": {},
     "source": [
      "Table Seating"
     ]
    },
    {
     "cell_type": "markdown",
     "metadata": {},
     "source": [
      "_Problem Statement from the lp_solve listserv, January 12, 2013_\n",
      "\n",
      "> I am trying to write an integer program to solve the following problem. There are 3n\n",
      "> people who are denoted {a,b,c,...}. There are n tables. Three people must sit at \n",
      "> each table. There is a value associated with each pair sitting at the same table.\n",
      "> Person a and person b sitting together is represented by a binary variable\n",
      "> a_b and the value of them sitting together is vab.\n",
      ">\n",
      "> I want to find an allocation of people to tables that maximizes the sum of these values,\n",
      "> that is max:+vab*a_b+vac*a_c+vad*a_d+....\n",
      "\n"
     ]
    },
    {
     "cell_type": "heading",
     "level": 2,
     "metadata": {},
     "source": [
      "MathProg Model"
     ]
    },
    {
     "cell_type": "markdown",
     "metadata": {},
     "source": [
      "Be careful. The computational effort required for this prolbem grows\n",
      "quickly with N and TABLE_SIZE."
     ]
    },
    {
     "cell_type": "code",
     "collapsed": false,
     "input": [
      "%%script glpsol -m /dev/stdin \n",
      "\n",
      "# Example: TableSeating.mod\n",
      "\n",
      "param N_TABLES := 4;\n",
      "param TABLE_SIZE := 3;\n",
      "\n",
      "set TABLES := 1..N_TABLES;\n",
      "set PEOPLE := 1..TABLE_SIZE*N_TABLES;\n",
      "set PAIRS := {p in PEOPLE, q in PEOPLE : q > p};\n",
      "\n",
      "var x{PEOPLE,TABLES} binary;\n",
      "var y{PAIRS} binary;\n",
      "\n",
      "/* Assignment Constraints */\n",
      "s.t. TablesAreFull{t in TABLES}: sum{p in PEOPLE} x[p,t] = 3;\n",
      "s.t. SOS {p in PEOPLE}: sum{t in TABLES} x[p,t] = 1;\n",
      "\n",
      "/* Who is sitting with whom */\n",
      "s.t. W1 {t in TABLES, (p,q) in PAIRS}: y[p,q] >= x[p,t] + x[q,t] - 1;\n",
      "s.t. W2 {p in PEOPLE}: \n",
      "    (sum{q in 1..(p-1)} y[q,p]) + (sum{q in (p+1)..card(PEOPLE)} y[p,q])\n",
      "    = TABLE_SIZE - 1;\n",
      "\n",
      "maximize obj: sum{(p,q) in PAIRS} y[p,q];\n",
      "\n",
      "solve;\n",
      "\n",
      "printf \"Table Assignments\\n\";\n",
      "printf \"          \";\n",
      "printf {p in PEOPLE}: \"  %2d\", p;\n",
      "printf \"\\n\";\n",
      "for {t in TABLES}: {\n",
      "    printf \"Table(%d): \", t;\n",
      "    printf {p in PEOPLE}: \"   %d\", x[p,t];\n",
      "    printf \"\\n\";\n",
      "}\n",
      "\n",
      "printf \"\\nPairings\\n\";\n",
      "for {t in TABLES} : {\n",
      "    printf \"Table %d : \",t;\n",
      "    printf {(p,q) in PAIRS : y[p,q] = 1 && x[p,t] = 1}: \" (%2d,%2d) \",p,q;\n",
      "    printf \"\\n\";\n",
      "}\n",
      "\n",
      "end;"
     ],
     "language": "python",
     "metadata": {},
     "outputs": [
      {
       "output_type": "stream",
       "stream": "stdout",
       "text": [
        "GLPSOL: GLPK LP/MIP Solver, v4.52\n",
        "Parameter(s) specified in the command line:\n",
        " -m /dev/stdin\n",
        "Reading model section from /dev/stdin...\n",
        "/dev/stdin:51: warning: final NL missing before end of file\n",
        "51 lines were read\n",
        "Generating TablesAreFull...\n",
        "Generating SOS...\n",
        "Generating W1...\n",
        "Generating W2...\n",
        "Generating obj...\n",
        "Model has been successfully generated\n",
        "GLPK Integer Optimizer, v4.52\n",
        "293 rows, 114 columns, 1086 non-zeros\n",
        "114 integer variables, all of which are binary\n",
        "Preprocessing...\n",
        "292 rows, 114 columns, 1020 non-zeros\n",
        "114 integer variables, all of which are binary\n",
        "Scaling...\n",
        " A: min|aij| =  1.000e+00  max|aij| =  1.000e+00  ratio =  1.000e+00\n",
        "Problem data seem to be well scaled\n",
        "Constructing initial basis...\n",
        "Size of triangular part is 290\n",
        "Solving LP relaxation...\n",
        "GLPK Simplex Optimizer, v4.52\n",
        "292 rows, 114 columns, 1020 non-zeros\n",
        "      0: obj =   2.200000000e+01  infeas =  1.000e+02 (2)\n",
        "*   156: obj =   1.200000000e+01  infeas =  9.249e-15 (1)\n",
        "OPTIMAL LP SOLUTION FOUND\n",
        "Integer optimization begins...\n",
        "+   156: mip =     not found yet <=              +inf        (1; 0)\n",
        "+   221: >>>>>   1.200000000e+01 <=   1.200000000e+01   0.0% (2; 0)\n",
        "+   221: mip =   1.200000000e+01 <=     tree is empty   0.0% (0; 3)\n",
        "INTEGER OPTIMAL SOLUTION FOUND\n",
        "Time used:   0.0 secs\n",
        "Memory used: 0.8 Mb (800505 bytes)\n",
        "Table Assignments\n",
        "             1   2   3   4   5   6   7   8   9  10  11  12\n",
        "Table(1):    0   0   1   1   0   0   0   0   0   0   0   1\n",
        "Table(2):    0   0   0   0   0   0   1   1   0   0   1   0\n",
        "Table(3):    1   0   0   0   0   0   0   0   1   1   0   0\n",
        "Table(4):    0   1   0   0   1   1   0   0   0   0   0   0\n",
        "\n",
        "Pairings\n",
        "Table 1 :  ( 3, 4)  ( 3,12)  ( 4,12) \n",
        "Table 2 :  ( 7, 8)  ( 7,11)  ( 8,11) \n",
        "Table 3 :  ( 1, 9)  ( 1,10)  ( 9,10) \n",
        "Table 4 :  ( 2, 5)  ( 2, 6)  ( 5, 6) \n",
        "Model has been successfully processed\n"
       ]
      }
     ],
     "prompt_number": 1
    },
    {
     "cell_type": "code",
     "collapsed": false,
     "input": [],
     "language": "python",
     "metadata": {},
     "outputs": []
    }
   ],
   "metadata": {}
  }
 ]
}