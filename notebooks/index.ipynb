{
 "cells": [
  {
   "cell_type": "markdown",
   "metadata": {},
   "source": [
    "# [Process Operations](http://jckantor.github.io/CBE40455/)\n",
    "\n",
    "## Table of Contents\n",
    "\n",
    "### [Chapter 1. Getting Started Guides](http://nbviewer.jupyter.org/github/jckantor/CBE40455/blob/master/notebooks/01.00-Getting-Started-Guides.ipynb)\n",
    "- [1.1 Getting Started with CVXPY](http://nbviewer.jupyter.org/github/jckantor/CBE40455/blob/master/notebooks/01.01-Getting-Started-with-CVXPY.ipynb)\n",
    "- [1.2 Getting Started with CVXPY](http://nbviewer.jupyter.org/github/jckantor/CBE40455/blob/master/notebooks/01.02-Getting-Started-with-CVXPY.ipynb)\n",
    "- [1.3 Getting Started with Gurobi](http://nbviewer.jupyter.org/github/jckantor/CBE40455/blob/master/notebooks/01.03-Getting-Started-with-Gurobi.ipynb)\n",
    "- [1.4 Getting Started with GNU MathProg in Jupyter Notebooks](http://nbviewer.jupyter.org/github/jckantor/CBE40455/blob/master/notebooks/01.04-Getting-Started-with-GNU-MathProg.ipynb)\n",
    "- [1.5 Getting Started with Pandas](http://nbviewer.jupyter.org/github/jckantor/CBE40455/blob/master/notebooks/01.05-Getting-Started-with-Pandas.ipynb)\n",
    "- [1.6 Getting Started with SimPy](http://nbviewer.jupyter.org/github/jckantor/CBE40455/blob/master/notebooks/01.06-Getting-Started-with-SimPy.ipynb)\n",
    "- [1.7 Getting Started with Reveal](http://nbviewer.jupyter.org/github/jckantor/CBE40455/blob/master/notebooks/01.07-Getting-Started-with-Reveal.ipynb)\n",
    "\n",
    "### [Chapter 2. Linear Optimization](http://nbviewer.jupyter.org/github/jckantor/CBE40455/blob/master/notebooks/02.00-Linear-Optimization.ipynb)\n",
    "- [2.1 #### The latest version of this Jupyter notebook is available at [http://github.com/jckantor/CBE40455](http://github.com/jckantor/CBE20255)  for noncommercial use under terms of the [Creative Commons Attribution Noncommericial ShareAlike License](http://creativecommons.org/licenses/by-nc-sa/4.0/).](http://nbviewer.jupyter.org/github/jckantor/CBE40455/blob/master/notebooks/02.01-Production-Models-with-Constraints-(Pyomo).ipynb)\n",
    "- [2.2 #### The latest version of this Jupyter notebook is available at [http://github.com/jckantor/CBE40455](http://github.com/jckantor/CBE20255)  for noncommercial use under terms of the [Creative Commons Attribution Noncommericial ShareAlike License](http://creativecommons.org/licenses/by-nc-sa/4.0/).](http://nbviewer.jupyter.org/github/jckantor/CBE40455/blob/master/notebooks/02.02-Transportation-Networks-(Pyomo).ipynb)\n",
    "- [2.3 #### The latest version of this Jupyter notebook is available at [http://github.com/jckantor/CBE40455](http://github.com/jckantor/CBE20255)  for noncommercial use under terms of the [Creative Commons Attribution Noncommericial ShareAlike License](http://creativecommons.org/licenses/by-nc-sa/4.0/).](http://nbviewer.jupyter.org/github/jckantor/CBE40455/blob/master/notebooks/02.03-Data-Reconciliation.ipynb)\n",
    "\n",
    "### [Chapter 3. Scheduling](http://nbviewer.jupyter.org/github/jckantor/CBE40455/blob/master/notebooks/03.00-Scheduling.ipynb)\n",
    "\n",
    "### [Chapter 4. Simulation of Discrete Event Systems](http://nbviewer.jupyter.org/github/jckantor/CBE40455/blob/master/notebooks/04.00-Simulation-of-Discrete-Event-Systems.ipynb)\n",
    "\n",
    "### [Chapter 5. Logistics](http://nbviewer.jupyter.org/github/jckantor/CBE40455/blob/master/notebooks/05.00-Logistics.ipynb)\n",
    "\n",
    "### [Chapter 6. Optimization under Uncertainty](http://nbviewer.jupyter.org/github/jckantor/CBE40455/blob/master/notebooks/06.00-Optimization-under-Uncertainty.ipynb)\n",
    "\n",
    "### [Chapter 7. Risk and Diversification](http://nbviewer.jupyter.org/github/jckantor/CBE40455/blob/master/notebooks/07.00-Risk-and-Diversification.ipynb)\n",
    "\n",
    "### [Chapter 8. Optimization in Google Sheets](http://nbviewer.jupyter.org/github/jckantor/CBE40455/blob/master/notebooks/08.00-Optimization-in-Google-Sheets.ipynb)\n",
    "\n",
    "### [Chapter 9. Student Projects](http://nbviewer.jupyter.org/github/jckantor/CBE40455/blob/master/notebooks/09.00-Student-Projects.ipynb)"
   ]
  }
 ],
 "metadata": {},
 "nbformat": 4,
 "nbformat_minor": 2
}
