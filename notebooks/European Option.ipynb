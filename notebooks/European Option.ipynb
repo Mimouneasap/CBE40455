{
 "cells": [
  {
   "cell_type": "markdown",
   "metadata": {
    "collapsed": true
   },
   "source": [
    "# European Options\n",
    "\n",
    "A European option is the right (but not the obligation) to buy (a 'call') or to sell (a 'put') something at a specified price on a specified date in the future. An option to buy is a 'call' option, an option to sell is a 'put' option. Options come in many forms, ranging from private contracts between parties to exchange traded securities. Call and put options are frequently used in to manage the financial risk of processes exposed to the volatile commodity markets."
   ]
  },
  {
   "cell_type": "markdown",
   "metadata": {},
   "source": [
    "## Single Period\n",
    "\n",
    "$$ C_0 = xS_0 + yB_0 $$\n",
    "\n",
    "where $S_0$ is the current unit price of the underlying good, and $B_0$ is the current value of a bond with a term equal to the maturity of the option. In many cases the bond would be equivalent to cash, in which case $B_0$ may simply be a unit of currency. $x$ and $y$ are the number of units of the underlying good and bonds included in the replicating portfolio.\n",
    "\n",
    "At the end of one period there are two outcomes. In the 'up' case, the price of the underlying good increases to $S_1^u$, and in the 'down' case the underlying falls to $S_1^d$. Adapting a binomial model, we let\n",
    "\n",
    "\\begin{align*}\n",
    "S_1^u & = u S_0 \\text{ with probability } p\\\\\n",
    "S_1^d & = d S_0 \\text{ with probability } 1-p\n",
    "\\end{align*}\n",
    "\n",
    "where $u$, $d$, and $p$ calibrated to match statistics of a geometric brownian motion model for the price of the underlying good.  \n",
    "\n",
    "Our task is to find values for $x$ and $y$ such that the portfolio can pay off the value of the option under either scenario.\n",
    "\n",
    "\\begin{align*}\n",
    "C_1^u & = xuS_0 + y(1+r)B_0 \\\\\n",
    "C_1^d & = xdS_0 + y(1+r)B_0\n",
    "\\end{align*}\n",
    "\n",
    "Solving for $x$\n",
    "\n",
    "$$x = \\frac{C_1^u - C_1^d}{uS_0-dS_0}$$\n",
    "\n",
    "Solving for $yB_0$\n",
    "\n",
    "$$yB_0 = \\frac{uC_1^d - dC_1^u}{(u-d)(1+r)}$$\n",
    "\n",
    "Putting these values back into the expression for $C_0$\n",
    "\n",
    "\\begin{align*}\n",
    "C_0 & = \\frac{\\left[(1+r)-d\\right]C_1^u + \\left[u-(1+r)\\right]C_1^d}{(u-d)(1+r)}\n",
    "\\end{align*}\n",
    "\n",
    "This is the amount of money required to exactly reproduce the outcomes of the option. For this reason, the associated portfolio is call the **replicating portfolio**.\n",
    "\n",
    "### Example\n",
    "\n",
    "The face value of a ticket to a particular football game is \\$60. Depending on the outcome of prior games, local weather, and general interest in the team, the market price of the ticket on game day is projected to be either \\$90 with probability 0.8, or \\$40 with probability 0.2. What is the value of an option to purchase the ticket at face value on game day?\n",
    "\n",
    "Before proceeding with calculation of the option value, let's first find several other values. For example, the expected value of the ticket on game day is\n",
    "\n",
    "$$E[S_1] = p_u S_1^u + p_d S_1^d = 0.8\\times 90 + 0.2\\times 40 = \\$ 80$$\n",
    "\n",
    "The value of the option on game day has two outcomes. In the high value case,\n",
    "\n",
    "\\begin{align*}\n",
    "C_1^u & = 90  - 60 = \\$30\n",
    "\\end{align*}\n",
    "\n",
    "This is amount of money needed to make up the difference between the strike price of the option contract, \\$60, and the projected market value.\n",
    "\n",
    "In the low value case the difference is -\\$20. The owner of the option doesn't have to exercise the option, and certainly would not volunteer to take a loss of -\\$20.  Therefore the value of the option is \n",
    "\n",
    "\\begin{align*}\n",
    "C_1^d & = \\max(0,40 - 60) = \\$0\n",
    "\\end{align*}\n",
    "\n",
    "The expected value of the "
   ]
  },
  {
   "cell_type": "code",
   "execution_count": null,
   "metadata": {
    "collapsed": true
   },
   "outputs": [],
   "source": []
  }
 ],
 "metadata": {
  "kernelspec": {
   "display_name": "Python 3",
   "language": "python",
   "name": "python3"
  },
  "language_info": {
   "codemirror_mode": {
    "name": "ipython",
    "version": 3
   },
   "file_extension": ".py",
   "mimetype": "text/x-python",
   "name": "python",
   "nbconvert_exporter": "python",
   "pygments_lexer": "ipython3",
   "version": "3.6.1"
  }
 },
 "nbformat": 4,
 "nbformat_minor": 2
}
