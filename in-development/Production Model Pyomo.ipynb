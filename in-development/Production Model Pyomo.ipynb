{
 "cells": [
  {
   "cell_type": "markdown",
   "metadata": {},
   "source": [
    "## Installation\n",
    "\n",
    "    !conda install -c conda-forge --yes glpk\n",
    "    !conda install -c conda-forge --yes pyomo"
   ]
  },
  {
   "cell_type": "code",
   "execution_count": 66,
   "metadata": {},
   "outputs": [
    {
     "name": "stdout",
     "output_type": "stream",
     "text": [
      "Profit =  2600.0\n",
      "Units of X =  20.0\n",
      "Units of Y =  60.0\n",
      "\n",
      "2 Var Declarations\n",
      "    x : Size=1, Index=None\n",
      "        Key  : Lower : Value : Upper : Fixed : Stale : Domain\n",
      "        None :     0 :  20.0 :  None : False : False : NonNegativeReals\n",
      "    y : Size=1, Index=None\n",
      "        Key  : Lower : Value : Upper : Fixed : Stale : Domain\n",
      "        None :     0 :  60.0 :  None : False : False : NonNegativeReals\n",
      "\n",
      "1 Objective Declarations\n",
      "    profit : Size=1, Index=None, Active=True\n",
      "        Key  : Active : Sense    : Expression\n",
      "        None :   True : maximize : 40*x + 30*y\n",
      "\n",
      "3 Constraint Declarations\n",
      "    demand : Size=1, Index=None, Active=True\n",
      "        Key  : Lower : Body : Upper : Active\n",
      "        None :  -Inf :    x :  40.0 :   True\n",
      "    laborA : Size=1, Index=None, Active=True\n",
      "        Key  : Lower : Body  : Upper : Active\n",
      "        None :  -Inf : x + y :  80.0 :   True\n",
      "    laborB : Size=1, Index=None, Active=True\n",
      "        Key  : Lower : Body    : Upper : Active\n",
      "        None :  -Inf : 2*x + y : 100.0 :   True\n",
      "\n",
      "6 Declarations: x y profit demand laborA laborB\n"
     ]
    }
   ],
   "source": [
    "from pyomo.environ import *\n",
    "model = ConcreteModel()\n",
    "\n",
    "# declare decision variables\n",
    "model.x = Var(domain=NonNegativeReals)\n",
    "model.y = Var(domain=NonNegativeReals)\n",
    "\n",
    "# declare objective\n",
    "model.profit = Objective(\n",
    "    expr = 40*model.x + 30*model.y,\n",
    "    sense = maximize)\n",
    "\n",
    "# declare constraints\n",
    "model.demand = Constraint(expr = model.x <= 40)\n",
    "model.laborA = Constraint(expr = model.x + model.y <= 80)\n",
    "model.laborB = Constraint(expr = 2*model.x + model.y <= 100)\n",
    "\n",
    "# solve\n",
    "SolverFactory('glpk').solve(model)\n",
    "\n",
    "# display solution\n",
    "print(\"Profit = \", model.profit())\n",
    "print(\"Units of X = \", model.x())\n",
    "print(\"Units of Y = \", model.y())\n",
    "\n",
    "print(\"\")\n",
    "model.pprint()"
   ]
  },
  {
   "cell_type": "code",
   "execution_count": 68,
   "metadata": {},
   "outputs": [
    {
     "name": "stdout",
     "output_type": "stream",
     "text": [
      "Profit =  1600.0\n",
      "Units of X =  40.0\n"
     ]
    }
   ],
   "source": [
    "from pyomo.environ import *\n",
    "model = ConcreteModel()\n",
    "\n",
    "# declare decision variables\n",
    "model.x = Var(domain=NonNegativeReals)\n",
    "\n",
    "# declare objective\n",
    "model.profit = Objective(\n",
    "    expr = 40*model.x,\n",
    "    sense = maximize)\n",
    "\n",
    "# declare constraints\n",
    "model.demand = Constraint(expr = model.x <= 40)\n",
    "model.laborA = Constraint(expr = model.x <= 80)\n",
    "model.laborB = Constraint(expr = 2*model.x <= 100)\n",
    "\n",
    "# solve\n",
    "SolverFactory('glpk').solve(model)\n",
    "\n",
    "# display solution\n",
    "print(\"Profit = \", model.profit())\n",
    "print(\"Units of X = \", model.x())"
   ]
  },
  {
   "cell_type": "markdown",
   "metadata": {},
   "source": [
    "### Product Information"
   ]
  },
  {
   "cell_type": "code",
   "execution_count": 62,
   "metadata": {
    "collapsed": true
   },
   "outputs": [],
   "source": [
    "PRODUCTS = ['X','Y']\n",
    "\n",
    "product_profit = {}\n",
    "product_profit['X'] = 40\n",
    "product_profit['Y'] = 30\n",
    "\n",
    "product_demand = {}\n",
    "product_demand['X'] = 40\n",
    "product_demand['Y'] = 10000"
   ]
  },
  {
   "cell_type": "markdown",
   "metadata": {},
   "source": [
    "### Labor Information"
   ]
  },
  {
   "cell_type": "code",
   "execution_count": 63,
   "metadata": {},
   "outputs": [],
   "source": [
    "RESOURCES = ['Labor A','Labor B']\n",
    "\n",
    "resource_available = {}\n",
    "resource_available['Labor A'] = 80\n",
    "resource_available['Labor B'] = 100\n",
    "\n",
    "resource_used = {}\n",
    "resource_used['Labor A','X'] = 1\n",
    "resource_used['Labor A','Y'] = 1\n",
    "resource_used['Labor B','X'] = 2\n",
    "resource_used['Labor B','Y'] = 1"
   ]
  },
  {
   "cell_type": "code",
   "execution_count": null,
   "metadata": {
    "collapsed": true
   },
   "outputs": [],
   "source": []
  },
  {
   "cell_type": "code",
   "execution_count": 65,
   "metadata": {},
   "outputs": [
    {
     "name": "stdout",
     "output_type": "stream",
     "text": [
      "3 Set Declarations\n",
      "    Demand_index : Dim=0, Dimen=1, Size=2, Domain=None, Ordered=False, Bounds=None\n",
      "        [1, 2]\n",
      "    resource_index : Dim=0, Dimen=1, Size=2, Domain=None, Ordered=False, Bounds=None\n",
      "        [1, 2]\n",
      "    x_index : Dim=0, Dimen=1, Size=2, Domain=None, Ordered=False, Bounds=None\n",
      "        ['X', 'Y']\n",
      "\n",
      "1 Var Declarations\n",
      "    x : Size=2, Index=x_index\n",
      "        Key : Lower : Value : Upper : Fixed : Stale : Domain\n",
      "          X :     0 :  20.0 :  None : False : False : NonNegativeReals\n",
      "          Y :     0 :  60.0 :  None : False : False : NonNegativeReals\n",
      "\n",
      "1 Objective Declarations\n",
      "    Profit : Size=1, Index=None, Active=True\n",
      "        Key  : Active : Sense    : Expression\n",
      "        None :   True : maximize : 40*x[X] + 30*x[Y]\n",
      "\n",
      "2 Constraint Declarations\n",
      "    Demand : Size=2, Index=Demand_index, Active=True\n",
      "        Key : Lower : Body : Upper   : Active\n",
      "          1 :  -Inf : x[X] :    40.0 :   True\n",
      "          2 :  -Inf : x[Y] : 10000.0 :   True\n",
      "    resource : Size=2, Index=resource_index, Active=True\n",
      "        Key : Lower : Body          : Upper : Active\n",
      "          1 :  -Inf :   x[X] + x[Y] :  80.0 :   True\n",
      "          2 :  -Inf : 2*x[X] + x[Y] : 100.0 :   True\n",
      "\n",
      "7 Declarations: x_index x Profit Demand_index Demand resource_index resource\n"
     ]
    }
   ],
   "source": [
    "from pyomo.environ import *\n",
    "model = ConcreteModel()\n",
    "\n",
    "# creates a variable associated with each product\n",
    "model.x = Var(PRODUCTS,domain=NonNegativeReals)\n",
    "\n",
    "# create an objective function\n",
    "model.Profit = Objective(\n",
    "    expr = sum([product_profit[p]*model.x[p] for p in PRODUCTS]),\n",
    "    sense = maximize)\n",
    "\n",
    "# add list of demand constraints\n",
    "model.Demand = ConstraintList()\n",
    "for p in PRODUCTS:\n",
    "    model.Demand.add(expr = model.x[p] <= product_demand[p])\n",
    "\n",
    "# add list of labor constraints\n",
    "model.resource = ConstraintList()\n",
    "for r in RESOURCES:\n",
    "    model.resource.add(sum([resource_used[r,p]*model.x[p] for p in PRODUCTS]) <= resource_available[r])\n",
    "\n",
    "SolverFactory('glpk').solve(model)\n",
    "model.pprint()"
   ]
  },
  {
   "cell_type": "code",
   "execution_count": 31,
   "metadata": {},
   "outputs": [
    {
     "name": "stdout",
     "output_type": "stream",
     "text": [
      "Product X 20.0\n",
      "Widget Y 60.0\n"
     ]
    }
   ],
   "source": [
    "for p in PRODUCTS:\n",
    "    print(p,model.x[p]())"
   ]
  },
  {
   "cell_type": "code",
   "execution_count": null,
   "metadata": {
    "collapsed": true
   },
   "outputs": [],
   "source": []
  }
 ],
 "metadata": {
  "kernelspec": {
   "display_name": "Python 3",
   "language": "python",
   "name": "python3"
  },
  "language_info": {
   "codemirror_mode": {
    "name": "ipython",
    "version": 3
   },
   "file_extension": ".py",
   "mimetype": "text/x-python",
   "name": "python",
   "nbconvert_exporter": "python",
   "pygments_lexer": "ipython3",
   "version": "3.6.1"
  }
 },
 "nbformat": 4,
 "nbformat_minor": 2
}
