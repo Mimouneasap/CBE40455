{
 "cells": [
  {
   "cell_type": "code",
   "execution_count": 1,
   "metadata": {
    "collapsed": true
   },
   "outputs": [],
   "source": [
    "Demand = {\n",
    "   'Lon':   125,        # London\n",
    "   'Ber':   175,        # Berlin\n",
    "   'Maa':   225,        # Maastricht\n",
    "   'Ams':   250,        # Amsterdam\n",
    "   'Utr':   225,        # Utrecht\n",
    "   'Hag':   200         # The Hague\n",
    "}\n",
    "\n",
    "Supply = {\n",
    "   'Arn':   600,        # Arnhem\n",
    "   'Gou':   650         # Gouda\n",
    "}"
   ]
  },
  {
   "cell_type": "code",
   "execution_count": 8,
   "metadata": {},
   "outputs": [],
   "source": [
    "T = {\n",
    "    ('Lon','Arn'): 1000,\n",
    "    ('Lon','Gou'): 2.5,\n",
    "    ('Ber','Arn'): 2.5,\n",
    "    ('Ber','Gou'): 1000,\n",
    "    ('Maa','Arn'): 1.6,\n",
    "    ('Maa','Gou'): 2.0,\n",
    "    ('Ams','Arn'): 1.4,\n",
    "    ('Ams','Gou'): 1.0,\n",
    "    ('Utr','Arn'): 0.8,\n",
    "    ('Utr','Gou'): 1.0,\n",
    "    ('Hag','Arn'): 1.4,\n",
    "    ('Hag','Gou'): 0.8\n",
    "}"
   ]
  },
  {
   "cell_type": "code",
   "execution_count": 9,
   "metadata": {},
   "outputs": [
    {
     "data": {
      "text/plain": [
       "{('Ams', 'Arn'): 1.4,\n",
       " ('Ams', 'Gou'): 1.0,\n",
       " ('Ber', 'Arn'): 2.5,\n",
       " ('Ber', 'Gou'): 1000,\n",
       " ('Hag', 'Arn'): 1.4,\n",
       " ('Hag', 'Gou'): 0.8,\n",
       " ('Lon', 'Arn'): 1000,\n",
       " ('Lon', 'Gou'): 2.5,\n",
       " ('Maa', 'Arn'): 1.6,\n",
       " ('Maa', 'Gou'): 2.0,\n",
       " ('Utr', 'Arn'): 0.8,\n",
       " ('Utr', 'Gou'): 1.0}"
      ]
     },
     "execution_count": 9,
     "metadata": {},
     "output_type": "execute_result"
    }
   ],
   "source": [
    "T"
   ]
  },
  {
   "cell_type": "code",
   "execution_count": 15,
   "metadata": {},
   "outputs": [],
   "source": [
    "CUS = list(Demand.keys())"
   ]
  },
  {
   "cell_type": "code",
   "execution_count": 16,
   "metadata": {},
   "outputs": [],
   "source": [
    "SRC = list(Supply.keys())\n"
   ]
  },
  {
   "cell_type": "code",
   "execution_count": 28,
   "metadata": {},
   "outputs": [],
   "source": [
    "from pyomo.environ import *\n",
    "model = ConcreteModel()\n",
    "model.x = Var(CUS,SRC,domain=NonNegativeReals)\n",
    "\n",
    "model.obj = Objective(\n",
    "    expr = sum([T[c,s]*model.x[c,s]  for c in CUS for s in SRC]),\n",
    "    sense = minimize)"
   ]
  },
  {
   "cell_type": "code",
   "execution_count": null,
   "metadata": {
    "collapsed": true
   },
   "outputs": [],
   "source": []
  }
 ],
 "metadata": {
  "kernelspec": {
   "display_name": "Python 3",
   "language": "python",
   "name": "python3"
  },
  "language_info": {
   "codemirror_mode": {
    "name": "ipython",
    "version": 3
   },
   "file_extension": ".py",
   "mimetype": "text/x-python",
   "name": "python",
   "nbconvert_exporter": "python",
   "pygments_lexer": "ipython3",
   "version": "3.6.1"
  }
 },
 "nbformat": 4,
 "nbformat_minor": 2
}
