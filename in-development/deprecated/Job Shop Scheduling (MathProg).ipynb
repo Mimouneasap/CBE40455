{
 "cells": [
  {
   "cell_type": "markdown",
   "metadata": {},
   "source": [
    "##### The latest version of this Jupyter notebook is available at [http://github.com/jckantor/CBE40455](http://github.com/jckantor/CBE20255)  for noncommercial use under terms of the [Creative Commons Attribution Noncommericial ShareAlike License](http://creativecommons.org/licenses/by-nc-sa/4.0/).\n",
    "\n",
    "J.C. Kantor (Kantor.1@nd.edu)"
   ]
  },
  {
   "cell_type": "markdown",
   "metadata": {},
   "source": [
    "# Job Shop Scheduling"
   ]
  },
  {
   "cell_type": "markdown",
   "metadata": {},
   "source": [
    "This notebook demonstrates job shop scheduling using GLPK/MathProg."
   ]
  },
  {
   "cell_type": "markdown",
   "metadata": {},
   "source": [
    "## Background"
   ]
  },
  {
   "cell_type": "markdown",
   "metadata": {},
   "source": [
    "A simple job shop consists of a set of different machines that process jobs. Each job consists of series of tasks that must be completed in specified order on the machines. The problem is to schedule the jobs on the machines to minimize makespan.\n",
    "\n",
    "Data consists of two tables. The first table is decomposition of the jobs into a series of tasks. Each task lists a job name, name of the required machine, and task duration. The second table list task pairs where the first task must be completed before the second task can be started. This formulation is quite general, but can also specify situations with no feasible solutions."
   ]
  },
  {
   "cell_type": "markdown",
   "metadata": {},
   "source": [
    "## MathProg Model"
   ]
  },
  {
   "cell_type": "code",
   "execution_count": 16,
   "metadata": {},
   "outputs": [
    {
     "name": "stdout",
     "output_type": "stream",
     "text": [
      "Overwriting JobShop.mod\n"
     ]
    }
   ],
   "source": [
    "%%writefile JobShop.mod\n",
    "\n",
    "/* Data Table 1. Tasks consist of Job, Machine, Dur data*/\n",
    "set TASKS dimen 2;\n",
    "param dur{TASKS};\n",
    "\n",
    "/* Data Table 2 */\n",
    "set TASKORDER within {TASKS,TASKS};\n",
    "\n",
    "/* JOBS and MACHINES are inferred from the data tables*/\n",
    "set JOBS := setof {(j,m) in TASKS} j;\n",
    "set MACHINES := setof {(j,m) in TASKS} m;\n",
    "\n",
    "/* Decision variables are start times for tasks, and the makespan */\n",
    "var start{TASKS} >= 0;\n",
    "var makespan >= 0;\n",
    "\n",
    "/* BigM is set to be bigger than largest possible makespan */\n",
    "param BigM := 1 + sum {(i,m) in TASKS} dur[i,m];\n",
    "\n",
    "/* The primary objective is to minimize makespan, with a secondary\n",
    "objective of starting tasks as early as possible */\n",
    "minimize OBJ: BigM*makespan + sum{(i,m) in TASKS} start[i,m];\n",
    "\n",
    "/* By definition, all jobs must be completed within the makespan */\n",
    "s.t. A {(j,m) in TASKS}: start[j,m] + dur[j,m] <= makespan;\n",
    "\n",
    "/* Must satisfy any orderings that were given for the tasks. */\n",
    "s.t. B {(i,m,j,n) in TASKORDER}: start[i,m] + dur[i,m] <= start[j,n];\n",
    "\n",
    "/* Eliminate conflicts if tasks are require the same machine */\n",
    "/* y[i,m,j] = 1 if Job i is scheduled before job j on machine m*/\n",
    "var y{(i,m) in TASKS,(j,m) in TASKS: i < j} binary;\n",
    "s.t. C {(i,m) in TASKS,(j,m) in TASKS: i < j}:\n",
    "   start[i,m] + dur[i,m] <= start[j,m] + BigM*(1-y[i,m,j]);\n",
    "s.t. D {(i,m) in TASKS,(j,m) in TASKS: i < j}:\n",
    "   start[j,m] + dur[j,m] <= start[i,m] + BigM*y[i,m,j];\n",
    "\n",
    "solve;\n",
    "\n",
    "printf \"Makespan = %5.2f\\n\",makespan;\n",
    "\n",
    "/* Post solution, compute finish times for each task to use in report */\n",
    "param finish{(j,m) in TASKS} := start[j,m] + dur[j,m];\n",
    "\n",
    "/* Task Summary Report */\n",
    "printf \"\\n                TASK SUMMARY\\n\";\n",
    "printf \"\\n     JOB   MACHINE     Dur   Start  Finish\\n\";\n",
    "printf {(i,m) in TASKS} \"%8s  %8s   %5.2f   %5.2f   %5.2f\\n\", \n",
    "   i, m, dur[i,m], start[i,m], finish[i,m];\n",
    "\n",
    "/* Schedule of activities for each job */\n",
    "set M{j in JOBS} := setof {(j,m) in TASKS} m;\n",
    "param r{j in JOBS, m in M[j]} := \n",
    "   1+sum{n in M[j]: start[j,n] < start[j,m] || start[j,n]==start[j,m] && n < m} 1;\n",
    "printf \"\\n\\n           JOB SCHEDULES\\n\";\n",
    "for {j in JOBS} {\n",
    "   printf \"\\n%s:\\n\",j;\n",
    "   printf \"         MACHINE   Start   Finish\\n\";\n",
    "   printf {k in 1..card(M[j]), m in M[j]: k==r[j,m]} \n",
    "      \" %15s   %5.2f    %5.2f\\n\",m, start[j,m],finish[j,m];\n",
    "}\n",
    "\n",
    "/* Schedule of activities for each machine */\n",
    "set J{m in MACHINES} := setof {(j,m) in TASKS} j;\n",
    "param s{m in MACHINES, j in J[m]} := \n",
    "   1+sum{k in J[m]: start[k,m] < start[j,m] || start[k,m]==start[j,m] && k < j} 1;\n",
    "printf \"\\n\\n         MACHINE SCHEDULES\\n\";\n",
    "for {m in MACHINES} {\n",
    "   printf \"\\n%s:\\n\",m;\n",
    "   printf \"             JOB   Start   Finish\\n\";\n",
    "   printf {k in 1..card(J[m]), j in J[m]: k==s[m,j]} \n",
    "      \" %15s   %5.2f    %5.2f\\n\",j, start[j,m],finish[j,m];\n",
    "}\n",
    "\n",
    "end;"
   ]
  },
  {
   "cell_type": "markdown",
   "metadata": {},
   "source": [
    "## Example"
   ]
  },
  {
   "cell_type": "code",
   "execution_count": 17,
   "metadata": {},
   "outputs": [],
   "source": [
    "%%script glpsol -m JobShop.mod -d /dev/stdin -y JobShop.txt --out output\n",
    "\n",
    "/* Job shop data from Christelle Gueret, Christian Prins,  Marc Sevaux,\n",
    "\"Applications of Optimization with Xpress-MP,\" Chapter 5, Dash Optimization, 2000. */\n",
    "\n",
    "/* Jobs are broken down into a list of tasks, each task described by\n",
    "job name, machine name, and duration */\n",
    "\n",
    "param: TASKS: dur :=\n",
    "   Paper_1  Blue    45\n",
    "   Paper_1  Yellow  10\n",
    "   Paper_2  Blue    20\n",
    "   Paper_2  Green   10\n",
    "   Paper_2  Yellow  34\n",
    "   Paper_3  Blue    12\n",
    "   Paper_3  Green   17\n",
    "   Paper_3  Yellow  28 ;\n",
    "\n",
    "/* List any required pairwise orderings of tasks */\n",
    "\n",
    "set TASKORDER :=\n",
    "   Paper_1 Blue    Paper_1 Yellow\n",
    "   Paper_2 Green   Paper_2 Blue\n",
    "   Paper_2 Blue    Paper_2 Yellow\n",
    "   Paper_3 Yellow  Paper_3 Blue\n",
    "   Paper_3 Blue    Paper_3 Green ;\n",
    "\n",
    "end;"
   ]
  },
  {
   "cell_type": "code",
   "execution_count": 18,
   "metadata": {},
   "outputs": [
    {
     "name": "stdout",
     "output_type": "stream",
     "text": [
      "Makespan = 97.00\n",
      "\n",
      "                TASK SUMMARY\n",
      "\n",
      "     JOB   MACHINE     Dur   Start  Finish\n",
      " Paper_1      Blue   45.00   42.00   87.00\n",
      " Paper_1    Yellow   10.00   87.00   97.00\n",
      " Paper_2      Blue   20.00   10.00   30.00\n",
      " Paper_2     Green   10.00    0.00   10.00\n",
      " Paper_2    Yellow   34.00   30.00   64.00\n",
      " Paper_3      Blue   12.00   30.00   42.00\n",
      " Paper_3     Green   17.00   42.00   59.00\n",
      " Paper_3    Yellow   28.00    0.00   28.00\n",
      "\n",
      "\n",
      "           JOB SCHEDULES\n",
      "\n",
      "Paper_1:\n",
      "         MACHINE   Start   Finish\n",
      "            Blue   42.00    87.00\n",
      "          Yellow   87.00    97.00\n",
      "\n",
      "Paper_2:\n",
      "         MACHINE   Start   Finish\n",
      "           Green    0.00    10.00\n",
      "            Blue   10.00    30.00\n",
      "          Yellow   30.00    64.00\n",
      "\n",
      "Paper_3:\n",
      "         MACHINE   Start   Finish\n",
      "          Yellow    0.00    28.00\n",
      "            Blue   30.00    42.00\n",
      "           Green   42.00    59.00\n",
      "\n",
      "\n",
      "         MACHINE SCHEDULES\n",
      "\n",
      "Blue:\n",
      "             JOB   Start   Finish\n",
      "         Paper_2   10.00    30.00\n",
      "         Paper_3   30.00    42.00\n",
      "         Paper_1   42.00    87.00\n",
      "\n",
      "Yellow:\n",
      "             JOB   Start   Finish\n",
      "         Paper_3    0.00    28.00\n",
      "         Paper_2   30.00    64.00\n",
      "         Paper_1   87.00    97.00\n",
      "\n",
      "Green:\n",
      "             JOB   Start   Finish\n",
      "         Paper_2    0.00    10.00\n",
      "         Paper_3   42.00    59.00\n",
      "\n"
     ]
    }
   ],
   "source": [
    "print(open('JobShop.txt').read())"
   ]
  },
  {
   "cell_type": "code",
   "execution_count": null,
   "metadata": {
    "collapsed": true
   },
   "outputs": [],
   "source": []
  }
 ],
 "metadata": {
  "kernelspec": {
   "display_name": "Python 3",
   "language": "python",
   "name": "python3"
  },
  "language_info": {
   "codemirror_mode": {
    "name": "ipython",
    "version": 3
   },
   "file_extension": ".py",
   "mimetype": "text/x-python",
   "name": "python",
   "nbconvert_exporter": "python",
   "pygments_lexer": "ipython3",
   "version": "3.6.1"
  }
 },
 "nbformat": 4,
 "nbformat_minor": 1
}
