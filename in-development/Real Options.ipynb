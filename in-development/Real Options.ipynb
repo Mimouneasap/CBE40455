{
 "metadata": {
  "name": "",
  "signature": "sha256:81a0041ed5222eacbf7bfba7a7e75cd4d99429c97bbd5239e7eadff3f50ace30"
 },
 "nbformat": 3,
 "nbformat_minor": 0,
 "worksheets": [
  {
   "cells": [
    {
     "cell_type": "heading",
     "level": 1,
     "metadata": {},
     "source": [
      "Real Options"
     ]
    },
    {
     "cell_type": "code",
     "collapsed": false,
     "input": [],
     "language": "python",
     "metadata": {},
     "outputs": []
    }
   ],
   "metadata": {}
  }
 ]
}