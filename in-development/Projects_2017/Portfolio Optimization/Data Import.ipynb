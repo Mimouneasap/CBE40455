{
 "cells": [
  {
   "cell_type": "markdown",
   "metadata": {},
   "source": [
    "# Data Import\n",
    "\n",
    "#### Sarah Graney\n",
    "\n",
    "CBE 40455: Final Project  \n",
    "December 14, 2017"
   ]
  },
  {
   "cell_type": "code",
   "execution_count": 1,
   "metadata": {
    "collapsed": true
   },
   "outputs": [],
   "source": [
    "# data wrangling libraries\n",
    "import pandas_datareader.data as web\n",
    "import pandas as pd\n",
    "import datetime"
   ]
  },
  {
   "cell_type": "code",
   "execution_count": 2,
   "metadata": {},
   "outputs": [
    {
     "name": "stdout",
     "output_type": "stream",
     "text": [
      "['PCLN', 'AMZN', 'CHTR', 'NFLX', 'LRCX', 'GD', 'BRK-B', 'CME', 'PM', 'CASY', 'ABBV', 'DHR', 'MDT', 'HCA', 'XPO', 'MU', 'SQ', 'FL', 'BHGE', 'COG', 'DISCK', 'CTL', 'GE', 'T', 'USM', 'AL', 'EWBC', 'MNST', 'LULU', 'ALK', 'CVS', 'GILD', 'PYPL', 'DRI', 'DPS', 'PG', 'EFX', 'EXPE', 'AZO']\n"
     ]
    },
    {
     "data": {
      "text/plain": [
       "39"
      ]
     },
     "execution_count": 2,
     "metadata": {},
     "output_type": "execute_result"
    }
   ],
   "source": [
    "#Price Data\n",
    "short = ['CTL', 'GE', 'T', 'USM', 'AL', 'EWBC', 'MNST', 'LULU', 'ALK', 'CVS', 'GILD', 'PYPL', \n",
    "         'DRI', 'DPS', 'PG', 'EFX', 'EXPE', 'AZO']\n",
    "long = ['PCLN', 'AMZN', 'CHTR', 'NFLX', 'LRCX', 'GD', 'BRK-B', 'CME', 'PM', 'CASY', 'ABBV', \n",
    "        'DHR', 'MDT', 'HCA', 'XPO', 'MU', 'SQ', 'FL', 'BHGE', 'COG', 'DISCK']\n",
    "index = ['^GSPC', '^RUT']\n",
    "pos= long+short\n",
    "print(pos)\n",
    "len(pos)"
   ]
  },
  {
   "cell_type": "code",
   "execution_count": 3,
   "metadata": {},
   "outputs": [
    {
     "name": "stdout",
     "output_type": "stream",
     "text": [
      "PCLN attempt 1 ok\n",
      "AMZN attempt 1 attempt 2 ok\n",
      "CHTR attempt 1 ok\n",
      "NFLX attempt 1 ok\n",
      "LRCX attempt 1 attempt 2 ok\n",
      "GD attempt 1 attempt 2 attempt 3 ok\n",
      "BRK-B attempt 1 ok\n",
      "CME attempt 1 ok\n",
      "PM attempt 1 ok\n",
      "CASY attempt 1 ok\n",
      "ABBV attempt 1 ok\n",
      "DHR attempt 1 ok\n",
      "MDT attempt 1 ok\n",
      "HCA attempt 1 attempt 2 ok\n",
      "XPO attempt 1 ok\n",
      "MU attempt 1 attempt 2 attempt 3 attempt 4 ok\n",
      "SQ attempt 1 attempt 2 ok\n",
      "FL attempt 1 ok\n",
      "BHGE attempt 1 ok\n",
      "COG attempt 1 ok\n",
      "DISCK attempt 1 ok\n",
      "CTL attempt 1 ok\n",
      "GE attempt 1 attempt 2 ok\n",
      "T attempt 1 attempt 2 ok\n",
      "USM attempt 1 ok\n",
      "AL attempt 1 ok\n",
      "EWBC attempt 1 ok\n",
      "MNST attempt 1 attempt 2 ok\n",
      "LULU attempt 1 ok\n",
      "ALK attempt 1 attempt 2 attempt 3 ok\n",
      "CVS attempt 1 ok\n",
      "GILD attempt 1 ok\n",
      "PYPL attempt 1 ok\n",
      "DRI attempt 1 ok\n",
      "DPS attempt 1 attempt 2 ok\n",
      "PG attempt 1 ok\n",
      "EFX attempt 1 attempt 2 attempt 3 attempt 4 ok\n",
      "EXPE attempt 1 ok\n",
      "AZO attempt 1 ok\n"
     ]
    }
   ],
   "source": [
    "t2 = datetime.datetime.now()\n",
    "t1 = t2 - datetime.timedelta(365)\n",
    "t0 = t1 - datetime.timedelta(365)\n",
    "\n",
    "Prices = pd.DataFrame()\n",
    "PricesSim = pd.DataFrame()\n",
    "for p in pos:\n",
    "    print(p,end='')\n",
    "    k = 1\n",
    "    while k < 10:\n",
    "        try:\n",
    "            print(' attempt',k,end='')\n",
    "            Prices[p] = web.DataReader(p,'yahoo',t1,t2)['Adj Close']\n",
    "            PricesSim[p] = web.DataReader(p,'yahoo',t0,t2)['Adj Close']\n",
    "            print(' ok')\n",
    "            k = 10\n",
    "        except:\n",
    "            k += 1"
   ]
  },
  {
   "cell_type": "code",
   "execution_count": 4,
   "metadata": {
    "collapsed": true
   },
   "outputs": [],
   "source": [
    "Prices.to_pickle(\"Price_Data1y\", compression='infer')\n",
    "PricesSim.to_pickle(\"Price_Data2y\", compression='infer')"
   ]
  },
  {
   "cell_type": "code",
   "execution_count": null,
   "metadata": {
    "collapsed": true
   },
   "outputs": [],
   "source": []
  }
 ],
 "metadata": {
  "kernelspec": {
   "display_name": "Python 3",
   "language": "python",
   "name": "python3"
  },
  "language_info": {
   "codemirror_mode": {
    "name": "ipython",
    "version": 3
   },
   "file_extension": ".py",
   "mimetype": "text/x-python",
   "name": "python",
   "nbconvert_exporter": "python",
   "pygments_lexer": "ipython3",
   "version": "3.6.1"
  }
 },
 "nbformat": 4,
 "nbformat_minor": 2
}
