{
 "cells": [
  {
   "cell_type": "markdown",
   "metadata": {},
   "source": [
    "## About Jupyter Notebooks\n",
    "The ArcGIS API for Python can be used from any application that can execute Python code. You can use the API from any of your favorite [IDEs](https://en.wikipedia.org/wiki/Integrated_development_environment) such as [PyCharm](https://blogs.esri.com/esri/arcgis/2017/06/13/three-reasons-to-use-jupyter-notebooks-as-a-gis-user/), [MS Visual Studio](https://www.visualstudio.com/), [Eclipse](https://eclipse.org/ide/), [Spyder](https://pythonhosted.org/spyder/), [Rodeo](rodeo.yhat.com/), [IDLE](https://www.python.org/downloads/) etc. \n",
    "\n",
    "[Jupyter Notebook](http://jupyter-notebook.readthedocs.io/en/latest/notebook.html) is a web based [IDE](https://en.wikipedia.org/wiki/Integrated_development_environment) that is great for not only beginners but also seasoned programmers and scientists. This IDE is installed by default when you install the Python API. It allows you to type Python code, execute them and evaluate the results in a step-by-step interactive manner. Jupyter Notebooks can display not just Python code and its output, but also [MarkDown](https://en.wikipedia.org/wiki/Markdown), making them an excellent medium to document your workflows, scientific methods and share instructional material. Refer to [this blog post](https://blogs.esri.com/esri/arcgis/2017/06/13/three-reasons-to-use-jupyter-notebooks-as-a-gis-user/) to find how GIS professionals can make use of Jupyter notebooks."
   ]
  },
  {
   "cell_type": "markdown",
   "metadata": {},
   "source": [
    "## Your first notebook\n",
    "This section provides a quick introduction to the Jupyter Notebook environment where you can run Python code in an interactive manner and visualize the output as maps and charts. This section will help you get comfortable with using the notebook environment. Refer to the [official Jupyter documentation](http://jupyter.readthedocs.io/en/latest/) and [this quick start guide](https://jupyter-notebook-beginner-guide.readthedocs.io/en/latest/index.html) if you are looking for specific or advanced information.\n",
    "\n",
    "### Starting the Jupyter Notebook environment\n",
    "Once conda and the ArcGIS API for Python is [installed](/python/guide/install-and-set-up), you can start the Jupyter Notebook environment by typing the following command in your terminal.\n",
    "    \n",
    "    jupyter notebook\n",
    "\n",
    "If you are running a Windows OS, this could be your command prompt or PowerShell window. Similarly if you are running a Mac or Linux OS, this could be your terminal. Below is a screen shot of how it would appear if you were running the command from Windows command prompt.\n",
    "\n",
    "![Windows terminal starting Jupyter Notebook](http://esri.github.io/arcgis-python-api/notebooks/nbimages/guide_getstarted_UsingJupyterNotebooks_01.png)\n",
    "\n",
    "<blockquote>\n",
    "**Note**: You should leaving the terminal running for as long as you are using the notebook. Closing the terminal while using the notebook will make your notebooks lose connection with the Python shell.\n",
    "</blockquote>\n",
    "\n",
    "<blockquote>**Note**: If you installed the ArcGIS API for Python in a conda environment other than the default `root`, you need to activate that environment before starting the Jupyter Notebook. For more information on the benefits of using environments and how to create and manage them, refer to this [help page](http://conda.pydata.org/docs/using/envs.html).</blockquote>\n",
    "\n",
    "If you are running a sample notebook for the API, you need to 'cd' into the directory where you downloaded the samples. In the example above, the samples have been downloaded and extracted into `c:\\code` directory.\n",
    "\n",
    "The command starts Jupyter Notebook and opens it in your default web browser as shown below.\n",
    "\n",
    "![Jupyter dashboard](http://esri.github.io/arcgis-python-api/notebooks/nbimages/guide_getstarted_UsingJupyterNotebooks_02.png)\n",
    "The page you see in this image is called the Notebook Dashboard. Click and pull down the 'New' button  from top right corner to create a new notebook, then type in the following sections.\n",
    "\n",
    "### Getting started with the API\n",
    "The first step is to import the ArcGIS API for Python in your notebook"
   ]
  },
  {
   "cell_type": "code",
   "execution_count": 1,
   "metadata": {
    "collapsed": true
   },
   "outputs": [],
   "source": [
    "from arcgis.gis import GIS"
   ]
  },
  {
   "cell_type": "markdown",
   "metadata": {},
   "source": [
    "You can 'run' or 'execute' a cell by clicking on the 'run cell' button from the toolbar. Alternately, you can hit `Shift + Enter` in your keyboard. When a cell is executing the cell number turns to an asterisk (*) and the circle next to the kernal name turns solid.\n",
    "\n",
    "To get started, create an anonymous connection to ArcGIS Online as shown below:"
   ]
  },
  {
   "cell_type": "code",
   "execution_count": 2,
   "metadata": {
    "collapsed": true
   },
   "outputs": [],
   "source": [
    "gis = GIS()"
   ]
  },
  {
   "cell_type": "markdown",
   "metadata": {},
   "source": [
    "You can search for content as shown below. Since you are connected to ArcGIS Online and as an anonymous user, the query shown below will return public content that is shared on ArcGIS Online"
   ]
  },
  {
   "cell_type": "code",
   "execution_count": 3,
   "metadata": {
    "collapsed": true
   },
   "outputs": [],
   "source": [
    "public_content = gis.content.search(\"Fire\", item_type=\"Feature Layer\", max_items=5)"
   ]
  },
  {
   "cell_type": "markdown",
   "metadata": {},
   "source": [
    "To see the contents of the variable `public_content` you created above, simply type it in a new cell and run it (by hitting `Shift + Enter`)\n",
    "\n",
    "<blockquote>**Note**: Expect to see different results when you run this each time on your computer. The code above performs a new search each time you execute it and the search results may vary based on which layers are available publicly.</blockquote>"
   ]
  },
  {
   "cell_type": "code",
   "execution_count": 4,
   "metadata": {
    "collapsed": false
   },
   "outputs": [
    {
     "data": {
      "text/plain": [
       "[<Item title:\"Collier County Emergency Services\" type:Feature Layer Collection owner:philsherman_collierbcc>,\n",
       " <Item title:\"WRI_BeforeAndAfterPhotos\" type:Feature Layer Collection owner:BuckEhler>,\n",
       " <Item title:\"Ecological Overlay Feature Service (Cnps FS10)\" type:Feature Layer Collection owner:charlesc>,\n",
       " <Item title:\"FireHistory_Hazard_LA_County\" type:Feature Layer Collection owner:cgujtangenberg>,\n",
       " <Item title:\"Ecological Overlay Feature ServiceB (CNPS FS10B)\" type:Feature Layer Collection owner:charlesc>]"
      ]
     },
     "execution_count": 4,
     "metadata": {},
     "output_type": "execute_result"
    }
   ],
   "source": [
    "public_content"
   ]
  },
  {
   "cell_type": "markdown",
   "metadata": {},
   "source": [
    "The ArcGIS API for Python extends the Jupyter Notebook IDE to display ArcGIS Items in rich HTML notation. Thus, you can loop through each of the items in the search result and display it with thumbnails and metadata as shown below:"
   ]
  },
  {
   "cell_type": "code",
   "execution_count": 5,
   "metadata": {
    "collapsed": false
   },
   "outputs": [
    {
     "data": {
      "text/html": [
       "<div class=\"item_container\" style=\"height: auto; overflow: hidden; border: 1px solid #cfcfcf; border-radius: 2px; background: #f6fafa; line-height: 1.21429em; padding: 10px;\">\n",
       "                    <div class=\"item_left\" style=\"width: 210px; float: left;\">\n",
       "                       <a href='http://www.arcgis.com/home/item.html?id=644bb2e08e69406886970624c52500f7' target='_blank'>\n",
       "                        <img src='http://www.arcgis.com/sharing/rest//content/items/644bb2e08e69406886970624c52500f7/info/thumbnail/emergency.PNG' class=\"itemThumbnail\">\n",
       "                       </a>\n",
       "                    </div>\n",
       "\n",
       "                    <div class=\"item_right\"     style=\"float: none; width: auto; overflow: hidden;\">\n",
       "                        <a href='http://www.arcgis.com/home/item.html?id=644bb2e08e69406886970624c52500f7' target='_blank'><b>Collier County Emergency Services</b>\n",
       "                        </a>\n",
       "                        <br/>Emergency Facilities in Collier County<img src='http://www.arcgis.com/home/js/jsapi/esri/css/images/item_type_icons/featureshosted16.png' style=\"vertical-align:middle;\">Feature Layer Collection by philsherman_collierbcc\n",
       "                        <br/>Last Modified: May 22, 2014\n",
       "                        <br/>0 comments, 3,732 views\n",
       "                    </div>\n",
       "                </div>\n",
       "                "
      ],
      "text/plain": [
       "<Item title:\"Collier County Emergency Services\" type:Feature Layer Collection owner:philsherman_collierbcc>"
      ]
     },
     "metadata": {},
     "output_type": "display_data"
    },
    {
     "data": {
      "text/html": [
       "<div class=\"item_container\" style=\"height: auto; overflow: hidden; border: 1px solid #cfcfcf; border-radius: 2px; background: #f6fafa; line-height: 1.21429em; padding: 10px;\">\n",
       "                    <div class=\"item_left\" style=\"width: 210px; float: left;\">\n",
       "                       <a href='http://www.arcgis.com/home/item.html?id=8c79338b862843afb99923fe8572c939' target='_blank'>\n",
       "                        <img src='http://www.arcgis.com/sharing/rest//content/items/8c79338b862843afb99923fe8572c939/info/thumbnail/SkitzyAfter.jpg' class=\"itemThumbnail\">\n",
       "                       </a>\n",
       "                    </div>\n",
       "\n",
       "                    <div class=\"item_right\"     style=\"float: none; width: auto; overflow: hidden;\">\n",
       "                        <a href='http://www.arcgis.com/home/item.html?id=8c79338b862843afb99923fe8572c939' target='_blank'><b>WRI_BeforeAndAfterPhotos</b>\n",
       "                        </a>\n",
       "                        <br/>WRI Projects with Before and After Photos<img src='http://www.arcgis.com/home/js/jsapi/esri/css/images/item_type_icons/featureshosted16.png' style=\"vertical-align:middle;\">Feature Layer Collection by BuckEhler\n",
       "                        <br/>Last Modified: February 13, 2017\n",
       "                        <br/>0 comments, 9,324 views\n",
       "                    </div>\n",
       "                </div>\n",
       "                "
      ],
      "text/plain": [
       "<Item title:\"WRI_BeforeAndAfterPhotos\" type:Feature Layer Collection owner:BuckEhler>"
      ]
     },
     "metadata": {},
     "output_type": "display_data"
    },
    {
     "data": {
      "text/html": [
       "<div class=\"item_container\" style=\"height: auto; overflow: hidden; border: 1px solid #cfcfcf; border-radius: 2px; background: #f6fafa; line-height: 1.21429em; padding: 10px;\">\n",
       "                    <div class=\"item_left\" style=\"width: 210px; float: left;\">\n",
       "                       <a href='http://www.arcgis.com/home/item.html?id=77693e47d8cc43fca24cb9ebf2f381c1' target='_blank'>\n",
       "                        <img src='http://www.arcgis.com/sharing/rest//content/items/77693e47d8cc43fca24cb9ebf2f381c1/info/thumbnail/FS10ge1.jpg' class=\"itemThumbnail\">\n",
       "                       </a>\n",
       "                    </div>\n",
       "\n",
       "                    <div class=\"item_right\"     style=\"float: none; width: auto; overflow: hidden;\">\n",
       "                        <a href='http://www.arcgis.com/home/item.html?id=77693e47d8cc43fca24cb9ebf2f381c1' target='_blank'><b>Ecological Overlay Feature Service (Cnps FS10)</b>\n",
       "                        </a>\n",
       "                        <br/>Ecological Overlay Feature Service (Cnps FS10)<img src='http://www.arcgis.com/home/js/jsapi/esri/css/images/item_type_icons/featureshosted16.png' style=\"vertical-align:middle;\">Feature Layer Collection by charlesc\n",
       "                        <br/>Last Modified: January 12, 2015\n",
       "                        <br/>0 comments, 523 views\n",
       "                    </div>\n",
       "                </div>\n",
       "                "
      ],
      "text/plain": [
       "<Item title:\"Ecological Overlay Feature Service (Cnps FS10)\" type:Feature Layer Collection owner:charlesc>"
      ]
     },
     "metadata": {},
     "output_type": "display_data"
    },
    {
     "data": {
      "text/html": [
       "<div class=\"item_container\" style=\"height: auto; overflow: hidden; border: 1px solid #cfcfcf; border-radius: 2px; background: #f6fafa; line-height: 1.21429em; padding: 10px;\">\n",
       "                    <div class=\"item_left\" style=\"width: 210px; float: left;\">\n",
       "                       <a href='http://www.arcgis.com/home/item.html?id=6640e3b0d7ee47ac8912e7f76487b334' target='_blank'>\n",
       "                        <img src='http://www.arcgis.com/sharing/rest//content/items/6640e3b0d7ee47ac8912e7f76487b334/info/thumbnail/thumbnail.png' class=\"itemThumbnail\">\n",
       "                       </a>\n",
       "                    </div>\n",
       "\n",
       "                    <div class=\"item_right\"     style=\"float: none; width: auto; overflow: hidden;\">\n",
       "                        <a href='http://www.arcgis.com/home/item.html?id=6640e3b0d7ee47ac8912e7f76487b334' target='_blank'><b>FireHistory_Hazard_LA_County</b>\n",
       "                        </a>\n",
       "                        <br/>50 year fire history and hazard zones for LA County<img src='http://www.arcgis.com/home/js/jsapi/esri/css/images/item_type_icons/featureshosted16.png' style=\"vertical-align:middle;\">Feature Layer Collection by cgujtangenberg\n",
       "                        <br/>Last Modified: January 06, 2015\n",
       "                        <br/>0 comments, 288 views\n",
       "                    </div>\n",
       "                </div>\n",
       "                "
      ],
      "text/plain": [
       "<Item title:\"FireHistory_Hazard_LA_County\" type:Feature Layer Collection owner:cgujtangenberg>"
      ]
     },
     "metadata": {},
     "output_type": "display_data"
    },
    {
     "data": {
      "text/html": [
       "<div class=\"item_container\" style=\"height: auto; overflow: hidden; border: 1px solid #cfcfcf; border-radius: 2px; background: #f6fafa; line-height: 1.21429em; padding: 10px;\">\n",
       "                    <div class=\"item_left\" style=\"width: 210px; float: left;\">\n",
       "                       <a href='http://www.arcgis.com/home/item.html?id=ea1cc16de5dc47c8b33ae7b7e95a863d' target='_blank'>\n",
       "                        <img src='http://www.arcgis.com/sharing/rest//content/items/ea1cc16de5dc47c8b33ae7b7e95a863d/info/thumbnail/FS10B_e2.jpg' class=\"itemThumbnail\">\n",
       "                       </a>\n",
       "                    </div>\n",
       "\n",
       "                    <div class=\"item_right\"     style=\"float: none; width: auto; overflow: hidden;\">\n",
       "                        <a href='http://www.arcgis.com/home/item.html?id=ea1cc16de5dc47c8b33ae7b7e95a863d' target='_blank'><b>Ecological Overlay Feature ServiceB (CNPS FS10B)</b>\n",
       "                        </a>\n",
       "                        <br/>Ecological Overlay Feature ServiceB (CNPS FS10B)<img src='http://www.arcgis.com/home/js/jsapi/esri/css/images/item_type_icons/featureshosted16.png' style=\"vertical-align:middle;\">Feature Layer Collection by charlesc\n",
       "                        <br/>Last Modified: January 12, 2015\n",
       "                        <br/>0 comments, 169 views\n",
       "                    </div>\n",
       "                </div>\n",
       "                "
      ],
      "text/plain": [
       "<Item title:\"Ecological Overlay Feature ServiceB (CNPS FS10B)\" type:Feature Layer Collection owner:charlesc>"
      ]
     },
     "metadata": {},
     "output_type": "display_data"
    }
   ],
   "source": [
    "from IPython.display import display\n",
    "for item in public_content:\n",
    "    display(item)"
   ]
  },
  {
   "cell_type": "markdown",
   "metadata": {},
   "source": [
    "### Display layers on a map\n",
    "The ArcGIS API for Python adds a map widget to the Jupyter Notebook. You can easily pull up a map as shown below. It may take a few seconds for the map to display the first time."
   ]
  },
  {
   "cell_type": "code",
   "execution_count": 12,
   "metadata": {
    "collapsed": false
   },
   "outputs": [
    {
     "data": {
      "application/vnd.jupyter.widget-view+json": {
       "model_id": "b33a328e8e6547f9bea7f729300475fd"
      }
     },
     "metadata": {},
     "output_type": "display_data"
    }
   ],
   "source": [
    "map1 = gis.map('Collier County, FL')\n",
    "map1"
   ]
  },
  {
   "cell_type": "markdown",
   "metadata": {},
   "source": [
    "Get the first item from your search result and add it the map you created"
   ]
  },
  {
   "cell_type": "code",
   "execution_count": 13,
   "metadata": {
    "collapsed": true
   },
   "outputs": [],
   "source": [
    "#get the first item\n",
    "fire = public_content[0]\n",
    "\n",
    "#add to map\n",
    "map1.add_layer(fire)"
   ]
  },
  {
   "cell_type": "markdown",
   "metadata": {
    "collapsed": true
   },
   "source": [
    "## Congratulations!\n",
    "You have successfully created your first notebook. You can save it by clicking on the `save` button from the cell toolbar or by selecting it from the `File` menu. Refer to the guide on [using the Jupyter notebook environment](/python/guide/using-the-jupyter-notebook-environment/) for more information and to the blog post [five tips to get started with Jupyte Notebook](https://blogs.esri.com/esri/arcgis/2017/06/30/82220/) for more tips and patterns to follow."
   ]
  }
 ],
 "metadata": {
  "kernelspec": {
   "display_name": "Python 3",
   "language": "python",
   "name": "python3"
  },
  "language_info": {
   "codemirror_mode": {
    "name": "ipython",
    "version": 3
   },
   "file_extension": ".py",
   "mimetype": "text/x-python",
   "name": "python",
   "nbconvert_exporter": "python",
   "pygments_lexer": "ipython3",
   "version": "3.6.0"
  }
 },
 "nbformat": 4,
 "nbformat_minor": 1
}
