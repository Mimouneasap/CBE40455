{
 "cells": [
  {
   "cell_type": "markdown",
   "metadata": {},
   "source": [
    "# When to Pull a Pitcher\n",
    "\n",
    "#### James Fraser, Nick Korompilas and Luis Rosales\n",
    "\n",
    "CBE 40455: Final Project  \n",
    "December 14, 2017"
   ]
  },
  {
   "cell_type": "markdown",
   "metadata": {},
   "source": [
    "## Introduction"
   ]
  },
  {
   "cell_type": "markdown",
   "metadata": {},
   "source": [
    "In baseball, when entering the 9th inning with a lead, managers need to make a decision whether to stick with the pitcher they currently have in, or pull that pitcher in favor of the closer. A lot of factors go into this decision of whether to pull a pitcher or not. This notebook implements some of these factors and a multi stage decision module to determine when a team should pull their current pitcher in favor of their closer.\n",
    "\n",
    "This model is adapted from: \n",
    "\n",
    "Kantor, Jeffrey. “Points After Touchdown Decision.”Https://Github.com/Jckantor/CBE40455/Blob/Master/Notebooks/Points%20after%20Touchdown%20Decision.Ipynb.\n",
    "\n",
    "Some sources used were:\n",
    "\n",
    "Albert, JIm. “Calculation of In-Game Win Probabilities.” Exploring Baseball Data with R, 29 Dec. 2014, baseballwithr.wordpress.com/2014/12/29/calculation-of-in-game-win-probabilities/.\n",
    "\n",
    "Haechrel, Matt. “Matchup Probabilities in Major League Baseball.” Matchup Probabilities in Major League Baseball | Society for American Baseball Research, sabr.org/research/matchup-probabilities-major-league-baseball.\n",
    "\n",
    "Hirotsu, Nobuyoshi, and Mike Wright. “Modelling a Baseball Game to Optimize Pitcher Substitution Strategies Incorporating Handedness of Players.” IMA Journal of Management Mathematics, 2005, pp. 179–194.\n",
    "\n",
    "Nichols, David. “Expected Runs/Chance of Scoring Table.” Nichols's Expected Runs Table, www.nssl.noaa.gov/users/brooks/public_html/feda/datasets/expectedruns.html.\n",
    "\n",
    "Sokoi, Joel S. “An Intuitive Markov Chain Lesson From Baseball.” INFORMS Transactions on Education. An Intuitive Markov Chain Lesson from Baseball , 2004."
   ]
  },
  {
   "cell_type": "markdown",
   "metadata": {},
   "source": [
    "# Initializations"
   ]
  },
  {
   "cell_type": "code",
   "execution_count": 82,
   "metadata": {
    "collapsed": true
   },
   "outputs": [],
   "source": [
    "%matplotlib inline\n",
    "\n",
    "import numpy as np\n",
    "import seaborn as sns\n",
    "import matplotlib.pyplot as plt\n",
    "import csv \n",
    "import pandas as pd\n",
    "import math\n"
   ]
  },
  {
   "cell_type": "markdown",
   "metadata": {},
   "source": [
    "# Inputting Data"
   ]
  },
  {
   "cell_type": "markdown",
   "metadata": {},
   "source": [
    "Using percentages gathered from (Haechrel) regarding expectancy of a single, double, tripple ect., a 24 x 24 situation matrix was made. The matrix starts with a certian situation, say no one on, man on first, and gives the probabilities of moving from the initial state to any other state possible. For example, the probability of going from the initial state to men on second and third no one out is 0.04. Conversely, going from the initial situation to bases loaded no one out is not possible so the probability in that space of the matrix is 0.0.\n",
    "\n",
    "An expected runs matrix was also made using data from (Nichols) which was based off the average runs scored in each situation from the last 20 years of professional baseball. This was then used to calculate the team's win probability, which was a function of lead.\n",
    "\n",
    "An outs matrix was also made. This is a 24 x 24 matrix which shows the number of outs that occur from the transition from state A to state B."
   ]
  },
  {
   "cell_type": "code",
   "execution_count": 83,
   "metadata": {
    "collapsed": true
   },
   "outputs": [],
   "source": [
    "# Imports data set\n",
    "f = open('situation matrix(5).csv','r')\n",
    "matrix = []\n",
    "for line in f:\n",
    "    line = line.rstrip()\n",
    "    x=line.split(',')\n",
    "    x = x[0:]\n",
    "    for m in range(24):\n",
    "        if x[m]=='':\n",
    "            x[m]=-1\n",
    "        else:\n",
    "            x[m] = float(x[m])\n",
    "    matrix.append(x) \n",
    "    \n",
    "g = open('expected runs(2).csv','r')\n",
    "runsscored = []\n",
    "for line in g:\n",
    "    line = line.rstrip()\n",
    "    y=line.split(',')\n",
    "    y = y[0:]\n",
    "    for m in range(1):\n",
    "        if y[m]=='':\n",
    "            y[m]=-1\n",
    "        else:\n",
    "            y[m] = float(y[m])\n",
    "    runsscored.append(y)    \n",
    "    \n",
    "h = open('outs.csv','r')\n",
    "outs = []\n",
    "for line in h:\n",
    "    line = line.rstrip()\n",
    "    z=line.split(',')\n",
    "    z = z[0:]\n",
    "    for m in range(24):\n",
    "        if z[m]=='':\n",
    "            z[m]=-1\n",
    "        else:\n",
    "            z[m] = float(z[m])\n",
    "    outs.append(z)     "
   ]
  },
  {
   "cell_type": "markdown",
   "metadata": {},
   "source": [
    "# Multi-Stage Model of Decision Process"
   ]
  },
  {
   "cell_type": "markdown",
   "metadata": {},
   "source": [
    "Each stage in the multi-stage decision process corresponds to an at-bat. The state of the game is monitored after each at bat, and a new win percentage is calculated. Each state is modeled by 3 parameters:\n",
    "\n",
    "-Outcome of the prior at-bat (S): Bases Empty ('Empty'), Man on First ('First'), Man on Second ('Second'), Man on Third ('Third'), Men on First and Second ('First/Second'), Men on First and Third ('Corners'), Men on Second and Third ('Second/Third'), Bases Loaded ('Loaded')\n",
    "\n",
    "-Lead prior to the at-bat (L)\n",
    "\n",
    "-Outs in the inning (O)\n",
    "\n",
    "The cell below enumerates values for each parameter. The set of possible states of the game is from as the product of these parameters which will be used as in index for the following calculations.\n"
   ]
  },
  {
   "cell_type": "code",
   "execution_count": 84,
   "metadata": {
    "collapsed": true
   },
   "outputs": [],
   "source": [
    "S=['Empty', 'First', 'Second', 'Third', 'First/Second', 'Corners', 'Second/Third', 'Loaded']\n",
    "L=range(0,10) # lead- from 0 to 10, assume never bring in closer when not winning or tied\n",
    "O=[0,0,0,0,0,0,0,0,1,1,1,1,1,1,1,1,2,2,2,2,2,2,2,2] #outs- 0,1,or 2 outs in the 9th inning\n",
    "\n"
   ]
  },
  {
   "cell_type": "markdown",
   "metadata": {},
   "source": [
    "# Decision Prior to the At-Bat"
   ]
  },
  {
   "cell_type": "markdown",
   "metadata": {},
   "source": [
    "Suppose the Away team is going into the 9th inning with a lead or in a tie game. The Home team has the last opportunity to bat in the game, and the away team manager has a decision to make. The manager can either keep the current pitcher or bring in the closer to finish out the game. The closer is a pitcher that specializes in relieving in the ninth inning and is the best reliever on the team. The decision to bring him in is a tricky one because you dont want to waste the closer in a game where a regular reliever would have won the game because then the closer will not be available the next day. \n",
    "\n",
    "There model simulates 5 different scenarios in the ninth inning. Those scenarios being a tie game and then an away team lead up to 4. The model then runs through each of the 24 scenarios in the inning for said lead. The model initially calculates a win probability at the current state before the at bat which is a function of the lead and probability of the home team scoring from the current scenario. The parameters for the win probability were obtained from (Albert) The model then calculates the probability of landing in a subsequent scenario from the current scenario. The model then finds the expected runs scored from the at bat by multiplying the probability of landing in a new scenario by the runs scored to get to that scenario. The same multiplication is done to find the expected number of outs for the at bat by multiplying the probability of landing in a new scenario by the outs necessary to get to that scenario. The model then continues to simulate the inning by multiplying the new scenario matrix probaiities to find subsequent probabilities to land in new scenarios. It does this until the number of outs is greater than 2.5 because it rounds to 3 outs which means the inning would be over. The model then calculates the new probability of winning the game as a function of the new lead which would be the initial lead minus the expected runs scored. \n",
    "\n",
    "The model then tracks the difference between the starting winning percentage and the win percentage at the end of the simulation and if the difference is bigger than 3 percent change in win probablity, then the model advices the manager to bring in the closer."
   ]
  },
  {
   "cell_type": "code",
   "execution_count": 85,
   "metadata": {
    "collapsed": true
   },
   "outputs": [],
   "source": [
    "OUTS=np.matmul(outs,matrix)\n",
    "decision_matrix = np.zeros((5,24))\n",
    "for i in range (0,5):\n",
    "    Q=L[i]\n",
    "    for j in range (0,24):\n",
    "        x=np.zeros((1,24))\n",
    "        x[0,j]=1\n",
    "        Outs=O[j]\n",
    "        WinProbabilitycurrent=math.exp(.06+.8*Q+runsscored[j][0])/(1+math.exp(.06+.8*Q+runsscored[j][0]))\n",
    "        while (Outs<2.5):\n",
    "            newscenario=np.matmul(x,matrix)\n",
    "            ExpectedRunsNewScenario=np.matmul(runsscored[j],newscenario)\n",
    "            NewRuns=float(ExpectedRunsNewScenario[j])\n",
    "            FinalRuns=Q-NewRuns   \n",
    "            WinProbability=math.exp(.06+.8*FinalRuns)/(1+math.exp(.06+.8*FinalRuns))\n",
    "            NEwOuts=np.matmul(OUTS[j,:],newscenario.transpose())\n",
    "            Outs=NEwOuts +Outs\n",
    "        decision_matrix[i,j] = WinProbability - WinProbabilitycurrent\n",
    "\n",
    "\n",
    "\n",
    "\n",
    "\n",
    "\n",
    "\n",
    "\n",
    "\n",
    "\n",
    "\n"
   ]
  },
  {
   "cell_type": "markdown",
   "metadata": {},
   "source": [
    "# Decision Chart"
   ]
  },
  {
   "cell_type": "markdown",
   "metadata": {},
   "source": [
    "Below is the decision chart for the scenario described above.\n",
    "\n",
    "Lead- Away teams lead in the bottom of the 9th\n",
    "\n",
    "Scenarios- Scenarios 1-8 signify each of the 8 on base scenarios with 0 outs in the order that they are listed in S in the code above, 9-16 1 out, and 17-24 2 outs. \n",
    "\n",
    "The marker of one indicates that the manager should bring in the closer while a * indicates that the manager should leave in the reliever. \n",
    "\n",
    "As seen below the manager is not adviced to bring in closer in any scenario with a lead greater than 3 and only adviced to bring in the closer in messy situations with a 3 run lead (man on second and third or bases loaded)\n"
   ]
  },
  {
   "cell_type": "code",
   "execution_count": 86,
   "metadata": {},
   "outputs": [
    {
     "name": "stdout",
     "output_type": "stream",
     "text": [
      "      Scenarios->\n",
      "Lead\n",
      "      1   2   3   4   5   6   7   8   9  10  11  12  13  14  15  16  17  18  19  20  21  22  23  24 \n",
      "  0   *   1   1   1   1   1   1   1   *   1   1   1   1   1   1   1   *   1   1   1   1   1   1   1 \n",
      "  1   *   1   1   1   1   1   1   1   *   1   1   1   1   1   1   1   *   1   1   1   1   1   1   1 \n",
      "  2   *   *   1   1   1   1   1   1   *   *   1   1   1   1   1   1   *   *   1   1   1   1   1   1 \n",
      "  3   *   *   *   *   *   *   1   1   *   *   *   *   *   *   1   1   *   *   *   *   *   *   1   1 \n",
      "  4   *   *   *   *   *   *   *   *   *   *   *   *   *   *   *   *   *   *   *   *   *   *   *   * \n"
     ]
    }
   ],
   "source": [
    "print(\"      Scenarios->\")\n",
    "print(\"Lead\")  \n",
    "print(\"    \",end=\"\")\n",
    "\n",
    "for t in range(1,25):\n",
    "    print(\"{0:3.0f} \".format(t),end=\"\")\n",
    "print(\"\")\n",
    "\n",
    "      \n",
    "for d in range(0,5):\n",
    "    print(\"{0:3.0f} \".format(d),end=\"\")\n",
    "    for t in range(0,24):\n",
    "        if (decision_matrix[d,t] <= -.03)  :\n",
    "            print(\"  1 \",end=\"\") \n",
    "        else:\n",
    "            print(\"  * \",end=\"\")\n",
    "    print(\"\")                    \n"
   ]
  },
  {
   "cell_type": "code",
   "execution_count": null,
   "metadata": {
    "collapsed": true
   },
   "outputs": [],
   "source": []
  },
  {
   "cell_type": "code",
   "execution_count": null,
   "metadata": {
    "collapsed": true
   },
   "outputs": [],
   "source": []
  },
  {
   "cell_type": "code",
   "execution_count": null,
   "metadata": {
    "collapsed": true
   },
   "outputs": [],
   "source": []
  },
  {
   "cell_type": "code",
   "execution_count": null,
   "metadata": {
    "collapsed": true
   },
   "outputs": [],
   "source": []
  }
 ],
 "metadata": {
  "kernelspec": {
   "display_name": "Python 3",
   "language": "python",
   "name": "python3"
  },
  "language_info": {
   "codemirror_mode": {
    "name": "ipython",
    "version": 3
   },
   "file_extension": ".py",
   "mimetype": "text/x-python",
   "name": "python",
   "nbconvert_exporter": "python",
   "pygments_lexer": "ipython3",
   "version": "3.6.1"
  }
 },
 "nbformat": 4,
 "nbformat_minor": 2
}
