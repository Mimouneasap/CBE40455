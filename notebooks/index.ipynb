{
 "cells": [
  {
   "cell_type": "markdown",
   "metadata": {},
   "source": [
    "# [Process Operations](http://jckantor.github.io/CBE40455/)\n",
    "\n",
    "## Table of Contents\n",
    "- [1.1 Getting Started with CVXPY](http://nbviewer.jupyter.org/github/jckantor/CBE40455/blob/master/notebooks/01.01-Getting-Started-with-CVXPY.ipynb)\n",
    "- [1.2 Getting Started with CVXPY](http://nbviewer.jupyter.org/github/jckantor/CBE40455/blob/master/notebooks/01.02-Getting-Started-with-CVXPY.ipynb)\n",
    "- [1.3 #### The latest version of this IPython notebook is available at [http://github.com/jckantor/CBE40455](http://github.com/jckantor/CBE40455)  for noncommercial use under terms of the [Creative Commons Attribution Noncommericial ShareAlike License](http://creativecommons.org/licenses/by-nc-sa/4.0/).](http://nbviewer.jupyter.org/github/jckantor/CBE40455/blob/master/notebooks/01.03-Getting-Started-with-Gurobi.ipynb)\n",
    "- [1.4 #### The latest version of this Jupyter notebook is available at [http://github.com/jckantor/CBE40455](http://github.com/jckantor/CBE40455)  for noncommercial use under terms of the [Creative Commons Attribution Noncommericial ShareAlike License](http://creativecommons.org/licenses/by-nc-sa/4.0/).](http://nbviewer.jupyter.org/github/jckantor/CBE40455/blob/master/notebooks/01.04-Getting-Started-with-GNU-MathProg.ipynb)\n",
    "- [1.5 Getting Started with Pandas](http://nbviewer.jupyter.org/github/jckantor/CBE40455/blob/master/notebooks/01.05-Getting-Started-with-Pandas.ipynb)\n",
    "- [1.6 #### The latest version of this Jupyter notebook is available at [http://github.com/jckantor/CBE40455](http://github.com/jckantor/CBE20255)  for noncommercial use under terms of the [Creative Commons Attribution Noncommericial ShareAlike License](http://creativecommons.org/licenses/by-nc-sa/4.0/).](http://nbviewer.jupyter.org/github/jckantor/CBE40455/blob/master/notebooks/01.06-Getting-Started-with-SimPy.ipynb)\n",
    "- [1.7 Getting Started with Reveal](http://nbviewer.jupyter.org/github/jckantor/CBE40455/blob/master/notebooks/01.07-Getting-Started-with-Reveal.ipynb)"
   ]
  }
 ],
 "metadata": {},
 "nbformat": 4,
 "nbformat_minor": 2
}
