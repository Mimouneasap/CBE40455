{
 "cells": [
  {
   "cell_type": "code",
   "execution_count": 39,
   "metadata": {
    "collapsed": false,
    "scrolled": false
   },
   "outputs": [
    {
     "name": "stdout",
     "output_type": "stream",
     "text": [
      "Reactor A has finished 1\n",
      "Reactor B has finished 1\n",
      "Reactor C has finished 1\n",
      "Reactor A has finished 2\n",
      "Reactor B has finished 2\n",
      "Reactor C has finished 2\n",
      "Reactor A has finished 3\n",
      "Reactor B has finished 3\n",
      "Reactor C has finished 3\n"
     ]
    }
   ],
   "source": [
    "import simpy\n",
    "import random\n",
    "\n",
    "\n",
    "env = simpy.Environment()\n",
    "\n",
    "reactor_queue = simpy.Store(env)\n",
    "\n",
    "\n",
    "def order_generator(env,reactor_queue):\n",
    "    OrderID = 0\n",
    "    equipID = 1\n",
    "    while True:\n",
    "        OrderID += 1\n",
    "        yield env.timeout(random.randint(115-30,115+30))\n",
    "        yield reactor_queue.put(OrderID)\n",
    "        writeLog(OrderID, \"Stage 0\", equipID, env.now)\n",
    "        \n",
    "def batch_reactor(env,name,reactor_queue):\n",
    "    jobs_finished = 0\n",
    "    while True:\n",
    "        OrderID = yield reactor_queue.get()\n",
    "        writeLog(OrderID, \"Reactor Start\", name, env.now)\n",
    "        yield env.timeout(random.randint(335-60,335+60))\n",
    "        writeLog(OrderID, \"Reactor Finish\", name, env.now)\n",
    "        jobs_finished += 1\n",
    "        print(\"Reactor\", name, \"has finished\", jobs_finished)\n",
    "        \n",
    "log = []\n",
    "def writeLog(OrderID, stage, equipID, t):\n",
    "    log.append([OrderID, stage, equipID, t])\n",
    "        \n",
    "env.process(order_generator(env,reactor_queue))\n",
    "env.process(batch_reactor(env,\"A\",reactor_queue))\n",
    "env.process(batch_reactor(env,\"B\",reactor_queue))\n",
    "env.process(batch_reactor(env,\"C\",reactor_queue))\n",
    "env.run(until = 1441)"
   ]
  },
  {
   "cell_type": "code",
   "execution_count": 40,
   "metadata": {
    "collapsed": false
   },
   "outputs": [
    {
     "data": {
      "text/plain": [
       "[[1, 'Stage 0', 1, 90],\n",
       " [1, 'Reactor Start', 'A', 90],\n",
       " [2, 'Stage 0', 1, 195],\n",
       " [2, 'Reactor Start', 'B', 195],\n",
       " [3, 'Stage 0', 1, 311],\n",
       " [3, 'Reactor Start', 'C', 311],\n",
       " [1, 'Reactor Finish', 'A', 382],\n",
       " [4, 'Stage 0', 1, 414],\n",
       " [4, 'Reactor Start', 'A', 414],\n",
       " [2, 'Reactor Finish', 'B', 482],\n",
       " [5, 'Stage 0', 1, 536],\n",
       " [5, 'Reactor Start', 'B', 536],\n",
       " [6, 'Stage 0', 1, 630],\n",
       " [3, 'Reactor Finish', 'C', 689],\n",
       " [6, 'Reactor Start', 'C', 689],\n",
       " [4, 'Reactor Finish', 'A', 708],\n",
       " [7, 'Stage 0', 1, 768],\n",
       " [7, 'Reactor Start', 'A', 768],\n",
       " [5, 'Reactor Finish', 'B', 814],\n",
       " [8, 'Stage 0', 1, 901],\n",
       " [8, 'Reactor Start', 'B', 901],\n",
       " [9, 'Stage 0', 1, 1000],\n",
       " [6, 'Reactor Finish', 'C', 1013],\n",
       " [9, 'Reactor Start', 'C', 1013],\n",
       " [10, 'Stage 0', 1, 1116],\n",
       " [7, 'Reactor Finish', 'A', 1136],\n",
       " [10, 'Reactor Start', 'A', 1136],\n",
       " [11, 'Stage 0', 1, 1212],\n",
       " [8, 'Reactor Finish', 'B', 1272],\n",
       " [11, 'Reactor Start', 'B', 1272],\n",
       " [12, 'Stage 0', 1, 1350],\n",
       " [9, 'Reactor Finish', 'C', 1364],\n",
       " [12, 'Reactor Start', 'C', 1364]]"
      ]
     },
     "execution_count": 40,
     "metadata": {},
     "output_type": "execute_result"
    }
   ],
   "source": [
    "log"
   ]
  },
  {
   "cell_type": "code",
   "execution_count": null,
   "metadata": {
    "collapsed": true
   },
   "outputs": [],
   "source": []
  },
  {
   "cell_type": "code",
   "execution_count": null,
   "metadata": {
    "collapsed": true
   },
   "outputs": [],
   "source": []
  }
 ],
 "metadata": {
  "kernelspec": {
   "display_name": "Python 3",
   "language": "python",
   "name": "python3"
  },
  "language_info": {
   "codemirror_mode": {
    "name": "ipython",
    "version": 3
   },
   "file_extension": ".py",
   "mimetype": "text/x-python",
   "name": "python",
   "nbconvert_exporter": "python",
   "pygments_lexer": "ipython3",
   "version": "3.6.1"
  }
 },
 "nbformat": 4,
 "nbformat_minor": 2
}
