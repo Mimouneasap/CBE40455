{
 "cells": [
  {
   "cell_type": "markdown",
   "metadata": {},
   "source": [
    "# Portfolio Optimization for [CQA Trading Competition](http://www.cqa.org/investment_challenge)\n",
    "\n",
    "#### Sarah Graney\n",
    "\n",
    "CBE 40455: Final Project  \n",
    "December 14, 2017"
   ]
  },
  {
   "cell_type": "markdown",
   "metadata": {},
   "source": [
    "## Introduction\n",
    "\n",
    "#### Before running this program - run \"Final Project - Data Import\" to pull price data from Yahoo Finance\n",
    "#### Also require the excel file \"Beta.xls\" to pull betas for calculations\n",
    "\n",
    "This script takes an input of stocks chosen through fundamental analysis by the competition team and outputs a weighting based that minimizes portfolio variance while keeping within competition guidelines \n",
    "\n",
    "Guidelines include:\n",
    "1. Manage a long/short equity portfolio from November 10, 2017 through through March 30, 2018\n",
    "2. Must manage 1,000,000 dollars of capital for a total of 2,000,000 in a long/short portfolio  \n",
    "3. Must be market neutral (Beta < +/-0.25)\n",
    "4. Must be fully invested with no less than 5% cash\n",
    "5. No position can be more than 5% of the portfolio (50,000 dollars)\n",
    "6. Must choose positions from a provided universe of ~1000 large and mid-cap stocks. Investment in ETFs is prohibited\n",
    "\n",
    "Then there was also an added constraint to be neutral across sectors as well at the request of the competition team mentor. \n",
    "\n",
    "Note that betas were provided by the competition for the universe of stocks, and they did not specify what this beta was in relation to or over what time period. So rather than calculating a beta, the ones provided will be assumed constant for the duration of the competition.\n",
    "\n",
    "Outputs to this script are an excel file providing: \n",
    "1. Average return of each position\n",
    "2. Correlation data\n",
    "3. Beta for each sector and the overall portfolio\n",
    "4. Recommended weighting and number of shares to purchase or short"
   ]
  },
  {
   "cell_type": "code",
   "execution_count": 1,
   "metadata": {
    "collapsed": true
   },
   "outputs": [],
   "source": [
    "import matplotlib.pyplot as plt\n",
    "import numpy as np\n",
    "import random\n",
    "\n",
    "# data wrangling libraries\n",
    "import pandas_datareader.data as web\n",
    "import pandas as pd\n",
    "import datetime\n",
    "\n",
    "%matplotlib inline"
   ]
  },
  {
   "cell_type": "code",
   "execution_count": 4,
   "metadata": {},
   "outputs": [
    {
     "ename": "FileNotFoundError",
     "evalue": "[Errno 2] No such file or directory: 'Industries.xlsx'",
     "output_type": "error",
     "traceback": [
      "\u001b[0;31m---------------------------------------------------------------------------\u001b[0m",
      "\u001b[0;31mFileNotFoundError\u001b[0m                         Traceback (most recent call last)",
      "\u001b[0;32m<ipython-input-4-ffa99225b718>\u001b[0m in \u001b[0;36m<module>\u001b[0;34m()\u001b[0m\n\u001b[1;32m      8\u001b[0m \u001b[0;34m\u001b[0m\u001b[0m\n\u001b[1;32m      9\u001b[0m \u001b[0mBeta_all\u001b[0m \u001b[0;34m=\u001b[0m \u001b[0mpd\u001b[0m\u001b[0;34m.\u001b[0m\u001b[0mread_excel\u001b[0m\u001b[0;34m(\u001b[0m\u001b[0;34m\"Beta.xls\"\u001b[0m\u001b[0;34m,\u001b[0m \u001b[0mindex_col\u001b[0m\u001b[0;34m=\u001b[0m\u001b[0;36m0\u001b[0m\u001b[0;34m,\u001b[0m \u001b[0mheader\u001b[0m\u001b[0;34m=\u001b[0m\u001b[0;36m0\u001b[0m\u001b[0;34m)\u001b[0m\u001b[0;34m\u001b[0m\u001b[0m\n\u001b[0;32m---> 10\u001b[0;31m \u001b[0mSector\u001b[0m \u001b[0;34m=\u001b[0m \u001b[0mpd\u001b[0m\u001b[0;34m.\u001b[0m\u001b[0mread_excel\u001b[0m\u001b[0;34m(\u001b[0m\u001b[0;34m\"Industries.xlsx\"\u001b[0m\u001b[0;34m,\u001b[0m \u001b[0mindex_col\u001b[0m\u001b[0;34m=\u001b[0m\u001b[0;36m0\u001b[0m\u001b[0;34m,\u001b[0m \u001b[0mheader\u001b[0m\u001b[0;34m=\u001b[0m\u001b[0;36m0\u001b[0m\u001b[0;34m)\u001b[0m\u001b[0;34m\u001b[0m\u001b[0m\n\u001b[0m\u001b[1;32m     11\u001b[0m \u001b[0;34m\u001b[0m\u001b[0m\n\u001b[1;32m     12\u001b[0m \u001b[0mPrices\u001b[0m \u001b[0;34m=\u001b[0m \u001b[0mpd\u001b[0m\u001b[0;34m.\u001b[0m\u001b[0mread_pickle\u001b[0m\u001b[0;34m(\u001b[0m\u001b[0;34m\"Price_Data1y\"\u001b[0m\u001b[0;34m,\u001b[0m \u001b[0mcompression\u001b[0m\u001b[0;34m=\u001b[0m\u001b[0;34m'infer'\u001b[0m\u001b[0;34m)\u001b[0m\u001b[0;34m\u001b[0m\u001b[0m\n",
      "\u001b[0;32m/Users/jeff/anaconda/lib/python3.6/site-packages/pandas/io/excel.py\u001b[0m in \u001b[0;36mread_excel\u001b[0;34m(io, sheetname, header, skiprows, skip_footer, index_col, names, parse_cols, parse_dates, date_parser, na_values, thousands, convert_float, has_index_names, converters, dtype, true_values, false_values, engine, squeeze, **kwds)\u001b[0m\n\u001b[1;32m    201\u001b[0m \u001b[0;34m\u001b[0m\u001b[0m\n\u001b[1;32m    202\u001b[0m     \u001b[0;32mif\u001b[0m \u001b[0;32mnot\u001b[0m \u001b[0misinstance\u001b[0m\u001b[0;34m(\u001b[0m\u001b[0mio\u001b[0m\u001b[0;34m,\u001b[0m \u001b[0mExcelFile\u001b[0m\u001b[0;34m)\u001b[0m\u001b[0;34m:\u001b[0m\u001b[0;34m\u001b[0m\u001b[0m\n\u001b[0;32m--> 203\u001b[0;31m         \u001b[0mio\u001b[0m \u001b[0;34m=\u001b[0m \u001b[0mExcelFile\u001b[0m\u001b[0;34m(\u001b[0m\u001b[0mio\u001b[0m\u001b[0;34m,\u001b[0m \u001b[0mengine\u001b[0m\u001b[0;34m=\u001b[0m\u001b[0mengine\u001b[0m\u001b[0;34m)\u001b[0m\u001b[0;34m\u001b[0m\u001b[0m\n\u001b[0m\u001b[1;32m    204\u001b[0m \u001b[0;34m\u001b[0m\u001b[0m\n\u001b[1;32m    205\u001b[0m     return io._parse_excel(\n",
      "\u001b[0;32m/Users/jeff/anaconda/lib/python3.6/site-packages/pandas/io/excel.py\u001b[0m in \u001b[0;36m__init__\u001b[0;34m(self, io, **kwds)\u001b[0m\n\u001b[1;32m    258\u001b[0m             \u001b[0mself\u001b[0m\u001b[0;34m.\u001b[0m\u001b[0mbook\u001b[0m \u001b[0;34m=\u001b[0m \u001b[0mxlrd\u001b[0m\u001b[0;34m.\u001b[0m\u001b[0mopen_workbook\u001b[0m\u001b[0;34m(\u001b[0m\u001b[0mfile_contents\u001b[0m\u001b[0;34m=\u001b[0m\u001b[0mdata\u001b[0m\u001b[0;34m)\u001b[0m\u001b[0;34m\u001b[0m\u001b[0m\n\u001b[1;32m    259\u001b[0m         \u001b[0;32melif\u001b[0m \u001b[0misinstance\u001b[0m\u001b[0;34m(\u001b[0m\u001b[0mio\u001b[0m\u001b[0;34m,\u001b[0m \u001b[0mcompat\u001b[0m\u001b[0;34m.\u001b[0m\u001b[0mstring_types\u001b[0m\u001b[0;34m)\u001b[0m\u001b[0;34m:\u001b[0m\u001b[0;34m\u001b[0m\u001b[0m\n\u001b[0;32m--> 260\u001b[0;31m             \u001b[0mself\u001b[0m\u001b[0;34m.\u001b[0m\u001b[0mbook\u001b[0m \u001b[0;34m=\u001b[0m \u001b[0mxlrd\u001b[0m\u001b[0;34m.\u001b[0m\u001b[0mopen_workbook\u001b[0m\u001b[0;34m(\u001b[0m\u001b[0mio\u001b[0m\u001b[0;34m)\u001b[0m\u001b[0;34m\u001b[0m\u001b[0m\n\u001b[0m\u001b[1;32m    261\u001b[0m         \u001b[0;32melse\u001b[0m\u001b[0;34m:\u001b[0m\u001b[0;34m\u001b[0m\u001b[0m\n\u001b[1;32m    262\u001b[0m             raise ValueError('Must explicitly set engine if not passing in'\n",
      "\u001b[0;32m/Users/jeff/anaconda/lib/python3.6/site-packages/xlrd/__init__.py\u001b[0m in \u001b[0;36mopen_workbook\u001b[0;34m(filename, logfile, verbosity, use_mmap, file_contents, encoding_override, formatting_info, on_demand, ragged_rows)\u001b[0m\n\u001b[1;32m    393\u001b[0m         \u001b[0mpeek\u001b[0m \u001b[0;34m=\u001b[0m \u001b[0mfile_contents\u001b[0m\u001b[0;34m[\u001b[0m\u001b[0;34m:\u001b[0m\u001b[0mpeeksz\u001b[0m\u001b[0;34m]\u001b[0m\u001b[0;34m\u001b[0m\u001b[0m\n\u001b[1;32m    394\u001b[0m     \u001b[0;32melse\u001b[0m\u001b[0;34m:\u001b[0m\u001b[0;34m\u001b[0m\u001b[0m\n\u001b[0;32m--> 395\u001b[0;31m         \u001b[0;32mwith\u001b[0m \u001b[0mopen\u001b[0m\u001b[0;34m(\u001b[0m\u001b[0mfilename\u001b[0m\u001b[0;34m,\u001b[0m \u001b[0;34m\"rb\"\u001b[0m\u001b[0;34m)\u001b[0m \u001b[0;32mas\u001b[0m \u001b[0mf\u001b[0m\u001b[0;34m:\u001b[0m\u001b[0;34m\u001b[0m\u001b[0m\n\u001b[0m\u001b[1;32m    396\u001b[0m             \u001b[0mpeek\u001b[0m \u001b[0;34m=\u001b[0m \u001b[0mf\u001b[0m\u001b[0;34m.\u001b[0m\u001b[0mread\u001b[0m\u001b[0;34m(\u001b[0m\u001b[0mpeeksz\u001b[0m\u001b[0;34m)\u001b[0m\u001b[0;34m\u001b[0m\u001b[0m\n\u001b[1;32m    397\u001b[0m     \u001b[0;32mif\u001b[0m \u001b[0mpeek\u001b[0m \u001b[0;34m==\u001b[0m \u001b[0;34mb\"PK\\x03\\x04\"\u001b[0m\u001b[0;34m:\u001b[0m \u001b[0;31m# a ZIP file\u001b[0m\u001b[0;34m\u001b[0m\u001b[0m\n",
      "\u001b[0;31mFileNotFoundError\u001b[0m: [Errno 2] No such file or directory: 'Industries.xlsx'"
     ]
    }
   ],
   "source": [
    "#Price Data Import\n",
    "short = ['CTL', 'GE', 'T', 'USM', 'AL', 'EWBC', 'MNST', 'LULU', 'ALK', 'CVS', 'GILD', 'PYPL', \n",
    "         'DRI', 'DPS', 'PG', 'EFX', 'EXPE', 'AZO']\n",
    "long = ['PCLN', 'AMZN', 'CHTR', 'NFLX', 'LRCX', 'GD', 'BRK-B', 'CME', 'PM', 'CASY', 'ABBV', \n",
    "        'DHR', 'MDT', 'HCA', 'XPO', 'MU', 'SQ', 'FL', 'BHGE', 'COG', 'DISCK']\n",
    "index = ['^GSPC','^RUT']\n",
    "pos = long+short\n",
    "\n",
    "Beta_all = pd.read_excel(\"Beta.xls\", index_col=0, header=0)\n",
    "Sector = pd.read_excel(\"Industries.xlsx\", index_col=0, header=0)\n",
    "\n",
    "Prices = pd.read_pickle(\"Price_Data1y\", compression='infer')\n",
    "PricesSim = pd.read_pickle(\"Price_Data2y\", compression='infer')"
   ]
  },
  {
   "cell_type": "code",
   "execution_count": 3,
   "metadata": {},
   "outputs": [
    {
     "ename": "NameError",
     "evalue": "name 'Prices' is not defined",
     "output_type": "error",
     "traceback": [
      "\u001b[0;31m---------------------------------------------------------------------------\u001b[0m",
      "\u001b[0;31mNameError\u001b[0m                                 Traceback (most recent call last)",
      "\u001b[0;32m<ipython-input-3-a4df7f64aa62>\u001b[0m in \u001b[0;36m<module>\u001b[0;34m()\u001b[0m\n\u001b[1;32m      2\u001b[0m \u001b[0;34m\u001b[0m\u001b[0m\n\u001b[1;32m      3\u001b[0m \u001b[0mRelPrice\u001b[0m \u001b[0;34m=\u001b[0m \u001b[0mpd\u001b[0m\u001b[0;34m.\u001b[0m\u001b[0mDataFrame\u001b[0m\u001b[0;34m(\u001b[0m\u001b[0;34m)\u001b[0m\u001b[0;34m\u001b[0m\u001b[0m\n\u001b[0;32m----> 4\u001b[0;31m \u001b[0mi\u001b[0m \u001b[0;34m=\u001b[0m \u001b[0mlen\u001b[0m\u001b[0;34m(\u001b[0m\u001b[0mPrices\u001b[0m\u001b[0;34m)\u001b[0m\u001b[0;34m\u001b[0m\u001b[0m\n\u001b[0m\u001b[1;32m      5\u001b[0m \u001b[0;32mfor\u001b[0m \u001b[0mp\u001b[0m \u001b[0;32min\u001b[0m \u001b[0mpos\u001b[0m\u001b[0;34m:\u001b[0m\u001b[0;34m\u001b[0m\u001b[0m\n\u001b[1;32m      6\u001b[0m     \u001b[0mRelPrice\u001b[0m\u001b[0;34m[\u001b[0m\u001b[0mp\u001b[0m\u001b[0;34m]\u001b[0m \u001b[0;34m=\u001b[0m \u001b[0mPrices\u001b[0m\u001b[0;34m[\u001b[0m\u001b[0mp\u001b[0m\u001b[0;34m]\u001b[0m\u001b[0;34m/\u001b[0m\u001b[0mPrices\u001b[0m\u001b[0;34m[\u001b[0m\u001b[0mp\u001b[0m\u001b[0;34m]\u001b[0m\u001b[0;34m[\u001b[0m\u001b[0;36m0\u001b[0m\u001b[0;34m]\u001b[0m\u001b[0;34m\u001b[0m\u001b[0m\n",
      "\u001b[0;31mNameError\u001b[0m: name 'Prices' is not defined"
     ]
    }
   ],
   "source": [
    "#Plot relative price and returns\n",
    "\n",
    "RelPrice = pd.DataFrame()\n",
    "i = len(Prices)\n",
    "for p in pos:\n",
    "    RelPrice[p] = Prices[p]/Prices[p][0]\n",
    "\n",
    "Beta = pd.DataFrame()\n",
    "for p in pos:\n",
    "    Beta[p] = Beta_all.loc[p]\n",
    "Beta = Beta.T\n",
    "    \n",
    "Returns = Prices.diff()/Prices.shift(1)\n",
    "Returns.dropna(inplace=True)\n",
    "\n",
    "RPLong = pd.DataFrame()\n",
    "RPShort = pd.DataFrame()\n",
    "RLong = pd.DataFrame()\n",
    "RShort = pd.DataFrame()\n",
    "\n",
    "for l in long:\n",
    "    RPLong[l] = RelPrice[l]\n",
    "    RLong[l] = Returns[l]\n",
    "for s in short:\n",
    "    RPShort[s] = RelPrice[s]\n",
    "    RShort[s] = Returns[s]\n",
    "\n",
    "RPLong.plot(figsize=(10,6))\n",
    "\n",
    "plt.title('Indexed Price (Long Positions)')\n",
    "plt.ylabel('Price')\n",
    "plt.legend(loc='upper right',bbox_to_anchor=(1.2, 1.0))\n",
    "plt.grid()\n",
    "\n",
    "RPShort.plot(figsize=(10,6))\n",
    "\n",
    "plt.title('Indexed Price (Short Positions)')\n",
    "plt.ylabel('Price')\n",
    "plt.legend(loc='upper right',bbox_to_anchor=(1.2, 1.0))\n",
    "plt.grid()\n",
    "\n",
    "\n",
    "\n",
    "RLong.plot(figsize=(10,6))\n",
    "plt.title('Linear Returns (Long Positions)')\n",
    "plt.legend(loc='upper right',bbox_to_anchor=(1.2, 1.0))\n",
    "plt.grid()\n",
    "\n",
    "RShort.plot(figsize=(10,6))\n",
    "plt.title('Linear Returns (Short Positions)')\n",
    "plt.legend(loc='upper right',bbox_to_anchor=(1.2, 1.0))\n",
    "plt.grid()"
   ]
  },
  {
   "cell_type": "code",
   "execution_count": 5,
   "metadata": {
    "collapsed": true
   },
   "outputs": [],
   "source": [
    "rlin = Returns.mean()\n",
    "stdev = Returns.std()\n",
    "\n",
    "rlog = np.log(Prices).diff().mean()\n",
    "Rpd = pd.DataFrame(data=[rlin,rlog], index=[\"Lin Return\",\"Log Return\"])\n",
    "Rpd = Rpd.T\n",
    "Rpd.to_excel(\"Analysis_Output.xlsx\",sheet_name=\"Returns\")"
   ]
  },
  {
   "cell_type": "code",
   "execution_count": 6,
   "metadata": {
    "collapsed": true
   },
   "outputs": [],
   "source": [
    "#Determin Correlation between positions\n",
    "sigma = Returns.cov()\n",
    "rho = sigma.copy()\n",
    "\n",
    "for i in Returns.columns.values.tolist():\n",
    "    for j in Returns.columns.values.tolist():\n",
    "        rho[i][j] = sigma[i][j]/stdev[i]/stdev[j]\n",
    "\n",
    "sigmaL = RLong.cov()\n",
    "rhoL = sigmaL.copy()\n",
    "\n",
    "for i in RLong.columns.values.tolist():\n",
    "    for j in RLong.columns.values.tolist():\n",
    "        rhoL[i][j] = sigmaL[i][j]/stdev[i]/stdev[j]\n",
    "\n",
    "sigmaS = RShort.cov()\n",
    "rhoS = sigmaS.copy()\n",
    "\n",
    "for i in RShort.columns.values.tolist():\n",
    "    for j in RShort.columns.values.tolist():\n",
    "        rhoS[i][j] = sigmaS[i][j]/stdev[i]/stdev[j]"
   ]
  },
  {
   "cell_type": "code",
   "execution_count": 7,
   "metadata": {},
   "outputs": [
    {
     "data": {
      "image/png": "[encoded data removed]",
      "text/plain": [
       "<matplotlib.figure.Figure at 0x114aaa390>"
      ]
     },
     "metadata": {},
     "output_type": "display_data"
    }
   ],
   "source": [
    "plt.figure(figsize=(8,5))\n",
    "for s in Returns.columns.values.tolist():\n",
    "    plt.plot(np.sqrt(252.0)*stdev[s],252*rlin[s],'r.',ms=15)\n",
    "    plt.text(np.sqrt(252.0)*stdev[s],252*rlin[s],\"  {0:5<s}\".format(s))\n",
    "\n",
    "plt.xlim(0.0,plt.xlim()[1])\n",
    "plt.title('Linear Return versus stdev')\n",
    "plt.xlabel('Annualized Standard Deviation')\n",
    "plt.ylabel('Annualized Linear Return')\n",
    "plt.grid()"
   ]
  },
  {
   "cell_type": "code",
   "execution_count": 8,
   "metadata": {},
   "outputs": [
    {
     "data": {
      "text/plain": [
       "{'Solution': [OrderedDict([('number of solutions', 0), ('number of solutions displayed', 0)])], 'Problem': [{'Number of variables': 39, 'Number of constraints': 89, 'Sense': 'unknown', 'Upper bound': inf, 'Number of objectives': 1, 'Lower bound': -inf}], 'Solver': [{'Time': 0.11428499221801758, 'Id': 0, 'Message': 'Ipopt 3.12.8\\\\x3a Optimal Solution Found', 'Error rc': 0, 'Termination condition': 'optimal', 'Status': 'ok'}]}"
      ]
     },
     "execution_count": 8,
     "metadata": {},
     "output_type": "execute_result"
    }
   ],
   "source": [
    "from pyomo.environ import *\n",
    "\n",
    "NL = len(RLong.columns.values.tolist())\n",
    "NS = len(RShort.columns.values.tolist())\n",
    "NT = NL + NS\n",
    "\n",
    "m = ConcreteModel()\n",
    "m.w = Var(range(0,NT),domain=Reals)\n",
    "\n",
    "s = np.array(sigma)\n",
    "\n",
    "#Objective to minimize portfolio variance\n",
    "m.OBJ = Objective(expr = sum(m.w[i]*s[i][j]*m.w[j] for i in range(0,NT) for j in range(0,NT))\n",
    "                  ,sense=minimize)\n",
    "\n",
    "m.cons = ConstraintList()\n",
    "\n",
    "#Max position size constraints\n",
    "for i in range(0,NT):\n",
    "    if i<NL:\n",
    "        m.cons.add(m.w[i] <= 0.05)\n",
    "        m.cons.add(m.w[i] >= 0.001)\n",
    "    if i>=NL:\n",
    "        m.cons.add(m.w[i] <= -0.001)\n",
    "        m.cons.add(m.w[i] >=-0.05)\n",
    "\n",
    "#Market neutral constraints\n",
    "m.cons.add(sum(Beta.loc[pos[i]][\"Beta\"]*m.w[i] for i in range(0,NT))<=0.2)\n",
    "m.cons.add(sum(Beta.loc[pos[i]][\"Beta\"]*m.w[i] for i in range(0,NT))>=-0.2)\n",
    "#Full investment constraints\n",
    "m.cons.add(sum(m.w[i] for i in range(0,NL))>=0.95)\n",
    "#Industry neutral constraints\n",
    "for s in Sector:\n",
    "    m.cons.add(abs(sum(m.w[i]*Beta.loc[pos[i]][\"Beta\"]*Sector[s][pos[i]] for i in range(0,NT)))<=0.15)\n",
    "\n",
    "SolverFactory('ipopt').solve(m)"
   ]
  },
  {
   "cell_type": "code",
   "execution_count": 9,
   "metadata": {},
   "outputs": [
    {
     "data": {
      "image/png": "[encoded data removed]",
      "text/plain": [
       "<matplotlib.figure.Figure at 0x116cd3be0>"
      ]
     },
     "metadata": {},
     "output_type": "display_data"
    }
   ],
   "source": [
    "wval = pd.Series([m.w[i]() for i in range(0,NT)],Returns.columns)\n",
    "wval.plot(kind='bar')\n",
    "\n",
    "plt.xlabel('Symbol')\n",
    "plt.title('Weights for a minimum variance portfolio')\n",
    "plt.grid()\n",
    "\n",
    "S = Sector.columns.values.tolist()\n",
    "S.append('Overall Portfolio')\n",
    "P_beta = np.zeros(len(S))\n",
    "j = 0\n",
    "for s in Sector:\n",
    "    P_beta[j] = sum(wval[i]*Beta.loc[i][\"Beta\"]*Sector[s][i] for i in pos)\n",
    "    j = j+1\n",
    "P_beta[j] = sum(wval[i]*Beta.loc[i][\"Beta\"] for i in pos)\n",
    "Portfolio_beta = pd.DataFrame(data=P_beta,index=S, columns=['Industry Beta'])"
   ]
  },
  {
   "cell_type": "code",
   "execution_count": 10,
   "metadata": {
    "collapsed": true
   },
   "outputs": [],
   "source": [
    "L = len(Prices)-1\n",
    "CP = pd.Series([Prices[p][L] for p in pos],Returns.columns)\n",
    "Port_Size = 1000000\n",
    "Shares = pd.Series([np.round(wval[p]*Port_Size/Prices[p][L]) for p in pos],Returns.columns)\n",
    "Portfolio = pd.DataFrame(data=[wval,CP,Shares], index=['Weight','Share Price','Shares'])\n",
    "Portfolio = Portfolio.T"
   ]
  },
  {
   "cell_type": "code",
   "execution_count": 11,
   "metadata": {
    "collapsed": true
   },
   "outputs": [],
   "source": [
    "#Adding Data to an excel\n",
    "writer = pd.ExcelWriter('Analysis_Output.xlsx', engine='xlsxwriter')\n",
    "rho.to_excel(writer,\"All_Correlations\")\n",
    "rhoL.to_excel(writer,\"Long_Correlations\")\n",
    "rhoS.to_excel(writer,\"Short_Correlations\")\n",
    "Rpd.to_excel(writer,\"Returns\")\n",
    "Portfolio.to_excel(writer,\"Portfolio\")\n",
    "Portfolio_beta.to_excel(writer,\"Betas\")\n",
    "writer.save()"
   ]
  },
  {
   "cell_type": "code",
   "execution_count": null,
   "metadata": {
    "collapsed": true
   },
   "outputs": [],
   "source": []
  }
 ],
 "metadata": {
  "kernelspec": {
   "display_name": "Python 3",
   "language": "python",
   "name": "python3"
  },
  "language_info": {
   "codemirror_mode": {
    "name": "ipython",
    "version": 3
   },
   "file_extension": ".py",
   "mimetype": "text/x-python",
   "name": "python",
   "nbconvert_exporter": "python",
   "pygments_lexer": "ipython3",
   "version": "3.6.1"
  }
 },
 "nbformat": 4,
 "nbformat_minor": 2
}
